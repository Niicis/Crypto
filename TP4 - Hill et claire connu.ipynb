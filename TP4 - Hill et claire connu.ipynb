{
 "cells": [
  {
   "cell_type": "markdown",
   "metadata": {},
   "source": [
    "<div id=\"haut2page\" style=\"border:3px solid black; padding:3%; font-size:314% ; text-align:center; color:white; background-color:black;\">\n",
    "    <img style=\"display:inline;\" alt=\"ataraXy\" src=\"http://www.ataraxy.info/IMAGE/favicon.ico\"> Hill et claire connu\n",
    "</div>\n",
    "<h3>Navigation dans la page</h3>\n",
    "<p>\n",
    "    Si c'est votre première visite dans ce TP, lisez attentivement chacun des points détaillé après ce paragraphe.<br>\n",
    "    Si vous avez déjà commencer à travailler sur ce TP et que vous souhaiter vous déplacer rapidement dans une partie précise vous pouvez choisir la partie que vous souhaitez rejoindre ci-dessous. <br>\n",
    "    <details open>\n",
    "        <summary><strong style=\"font-size:1.414em;color:green;\">Menu de navigation</strong></summary>\n",
    "        <ul>\n",
    "            <li><a href=\"#haut2page\">Haut de page</a></li>\n",
    "            <li><a href=\"#Partie0\">Partie 0 : Outils algébriques</a></li>\n",
    "            <li><a href=\"#Partie1\">Partie 1 : TP2 - outils arithmétiques</a></li>\n",
    "            <li><a href=\"#Partie2\">Partie 2 : Hill en dimension $2$</a></li>\n",
    "            <li><a href=\"#Partie3\">Partie 3 : Brute force (dim 2)</a></li>\n",
    "            <li><a href=\"#Partie4\">Partie 4 : Hill en dimension $N$</a></li>\n",
    "            <li><a href=\"#Partie5\">Partie 5 : Attaque à claire connu</a></li>\n",
    "        </ul>\n",
    "    </details>\n",
    "</p>\n",
    "\n",
    "<details>\n",
    "    <summary><strong style=\"font-size:1.414em\">Technologie jupyter</strong></summary>\n",
    "<p>\n",
    "    La technologie <em>jupyter</em> permet d'exécuter du code python par un simple clique sur <em>Executer</em> ci-dessus.<br> \n",
    "    Les morceaux de code de cette page sont interprétées case par case. Pour savoir quelle case a été interprétée avant une autre, il suffit de repérer le numéro devant la case. <br>\n",
    "    Une fois qu'une case a été interprétée (=exécutée), la page garde en mémoire les variables et fonctions lues<br>\n",
    "    La plateforme propose quelques outils de purge de la mémoire : \n",
    "    <ul>\n",
    "    <li>Il est possible de tout recommencer (dénuméroter) en choisissant dans le menu <em>Kernel</em> ci-dessus <em>Restart & Clear Output</em> pour purger la mémoire de toutes ses variables et de toutes ses executions </li> \n",
    "    <li>Dans le menu <em>Kernel</em> choisir <em>Restard & Run All</em> aura le même effet que <em>Restart & Clear Output</em> mais en plus relancera chacune des cases depuis le haut du document jusqu'en bas (renuméroter).</li>\n",
    "    </ul>\n",
    "</p>\n",
    "<div style=\"background-color:rgba(255, 0, 0, 0.19);padding:3%;\">\n",
    "    <h3 style=\"color:red;\">SAUVEGARDER VOTRE TRAVAIL</h3>\n",
    "    <p>\n",
    "        Pour ne pas perdre votre travail pensez à le sauvegarder régulièrement. Par défault, la sauvegarde par un clic sur la disquette en haut à gauche de page, ou par le racourci clavier classique <code>ctrl+S</code>\n",
    "    est une sauvegarde en local, sur le serveur de jupyter. Vous pouvez et devez très régulièrement sauvegarder votre travail sur votre support personnel de sauvegarde (clef USB, se l'envoyer par mail etc). Ce faisant vous disposerez d'un fichier  .ipynb (IPYthon NoteBook) qu'il vous suffira de recharger  pour avancer. Après le rechargement assurez vous que les fonctionnalités anciennement developpées et variables utilisées sont bien <em>dans la mémoire de la page</em> (en rééxecutant les cases, ou plus rapidement par <em>Kernel &gt; Restart & Run All</em>.</p>\n",
    "    <p> A NOTER : vous pouvez travailler sur le tp (et tout autre fichier .ipynb) hors connexion en installant une version local du notebook de jupyter. Il faut que votre machine possède un interpreteur de python et que vous soyez connecter à internet.\n",
    "        <ol>\n",
    "            <li>Lancer un terminal</li>\n",
    "            <li>Taper la commande suivante : <code>pip install jupyterlab</code></li>\n",
    "            <li>Une fois l'installation terminée portez votre attention sur les dernières lignes affichées dans votre terminal vous invitant probablement à taper une ligne de commande pour faire une mise à jour</li>\n",
    "            <li>Pour lancer notebook de jupyter, taper dans votre termial : <code>jupyter notebook</code></li>\n",
    "            <li>Votre simulateur de serveur est lancé. Il ne faut pas fermer votre terminal, auquel cas votre simulateur de serveur s'interompera. Suivez le lien indiqué dans les dernières lignes de votre terminal pour vous diriger vers votre espace local. L'interface se présente comme celle que vous trouverez sur le web. Votre travail sera cependant toujours enregistré et jamais perdu même si vous le consultez après plusieurs jours </li>\n",
    "        </ol>\n",
    "    </p>\n",
    "</div>\n",
    "</details>"
   ]
  },
  {
   "cell_type": "markdown",
   "metadata": {},
   "source": [
    "<p>Comme pour le TP1 et le TP2, une bibliothèque regroupant quelques outils de la cryptologie vous ont été donnée. Chargeons l'intégralité des fonctionnalités qu'elle propose</p>"
   ]
  },
  {
   "cell_type": "code",
   "execution_count": 3,
   "metadata": {},
   "outputs": [],
   "source": [
    "from OutilsCrypto import *"
   ]
  },
  {
   "cell_type": "markdown",
   "metadata": {},
   "source": [
    "<p>Vous êtes invité à travailler sur la première partie du TP1 pour vous refamiliariser avec les fonctionnalités de cette bibliothèque comme <code>codex</code>, <code>codex</code>, <code>xedoc</code>, <code>paquet</code>, <code>mode2base</code>, <code>Filtre</code> ainsi que les fonctions d'attaque par dictionnaire.</p>"
   ]
  },
  {
   "cell_type": "markdown",
   "metadata": {},
   "source": [
    "<div style=\"border:3px solid black; padding:3%; font-size:314% ; text-align:center; color:white; background-color:black;\" id=\"Partie0\">\n",
    "    Partie 0 : Outils algèbriques\n",
    "</div>\n",
    "\n",
    "<p>\n",
    "    <details>\n",
    "        <summary><strong style=\"font-size:1.414em;color:green;\">Menu de navigation</strong></summary>\n",
    "        <ul>\n",
    "            <li><a href=\"#haut2page\">Haut de page</a></li>\n",
    "            <li><a href=\"#Partie0\">Partie 0 : Outils algébriques</a></li>\n",
    "            <li><a href=\"#Partie1\">Partie 1 : TP2 - outils arithmétiques</a></li>\n",
    "            <li><a href=\"#Partie2\">Partie 2 : Hill en dimension $2$</a></li>\n",
    "            <li><a href=\"#Partie3\">Partie 3 : Brute force (dim 2)</a></li>\n",
    "            <li><a href=\"#Partie4\">Partie 4 : Hill en dimension $N$</a></li>\n",
    "            <li><a href=\"#Partie5\">Partie 5 : Attaque à claire connu</a></li>\n",
    "        </ul>\n",
    "    </details>\n",
    "</p>"
   ]
  },
  {
   "cell_type": "markdown",
   "metadata": {},
   "source": [
    "<p>Pour vous aider lors de la réalisation de ce TP et des tests de validités, plusieurs fonctionnalité vous ont été donnée. L'objectif de cette partie est de les explorer</p>"
   ]
  },
  {
   "cell_type": "markdown",
   "metadata": {},
   "source": [
    "<h3><code>MatAff(M)</code></h3>\n",
    "<p>Inforamatiquement une matrice sera considéré comme un tableau à deux entrées. Le premier indice correspondera toujours à la ligne tandis que le second à la colonne. On prendra garde, les tableaux sont informatiquement numéroté : le premier indice (ligne ou colonne) a le numéro 0. Par exemple si <code>A</code> est une matrice alors <code>A[0][1]</code> représente la valeur à l'intersection de la première ligne et de la seconde colonne</p>. \n",
    "<p>La fonction <code>MatAff</code> renvoie une chaine de caractère affichant une matrice</p>"
   ]
  },
  {
   "cell_type": "code",
   "execution_count": null,
   "metadata": {},
   "outputs": [],
   "source": [
    "M=[[1, 2],[3, 4]]\n",
    "print(MatAff(M))\n",
    "\n",
    "N=[[0, -1], [1, 1], [1, 0]]\n",
    "print(MatAff(N))"
   ]
  },
  {
   "cell_type": "markdown",
   "metadata": {},
   "source": [
    "<h3><code>prodMat(A,B)</code></h3>\n",
    "<p>Cette fonction renvoie le résultat du produit matriciel $A\\times B$. En ca d'impossibilité la matrice vide (tableau vide) est renvoyé.</p>"
   ]
  },
  {
   "cell_type": "code",
   "execution_count": null,
   "metadata": {},
   "outputs": [],
   "source": [
    "print(\"N*M = \\n\", MatAff( prodMat(N, M) ))\n",
    "print(\"M*N = \\n\", MatAff( prodMat(M, N) ))"
   ]
  },
  {
   "cell_type": "markdown",
   "metadata": {},
   "source": [
    "<div style=\"border:3px solid black; padding:3%; font-size:314% ; text-align:center; color:white; background-color:black;\" id=\"Partie1\">\n",
    "    Partie 1 : TP2 - outils arithmétiques\n",
    "</div>\n",
    "\n",
    "<p>\n",
    "    <details>\n",
    "        <summary><strong style=\"font-size:1.414em;color:green;\">Menu de navigation</strong></summary>\n",
    "        <ul>\n",
    "            <li><a href=\"#haut2page\">Haut de page</a></li>\n",
    "            <li><a href=\"#Partie0\">Partie 0 : Outils algébriques</a></li>\n",
    "            <li><a href=\"#Partie1\">Partie 1 : TP2 - outils arithmétiques</a></li>\n",
    "            <li><a href=\"#Partie2\">Partie 2 : Hill en dimension $2$</a></li>\n",
    "            <li><a href=\"#Partie3\">Partie 3 : Brute force (dim 2)</a></li>\n",
    "            <li><a href=\"#Partie4\">Partie 4 : Hill en dimension $N$</a></li>\n",
    "            <li><a href=\"#Partie5\">Partie 5 : Attaque à claire connu</a></li>\n",
    "        </ul>\n",
    "    </details>\n",
    "</p>"
   ]
  },
  {
   "cell_type": "markdown",
   "metadata": {},
   "source": [
    "<p>Reprennez du TP2, la fonction <code>PGCD</code> qui prend en paramètre deux entiers <code>a</code> et <code>b</code> et qui renvoie le plus grand diviseur commun à ces deux nombres. </p>"
   ]
  },
  {
   "cell_type": "code",
   "execution_count": null,
   "metadata": {},
   "outputs": [],
   "source": [
    "def PGCD(a, b) :\n",
    "    return 0"
   ]
  },
  {
   "cell_type": "markdown",
   "metadata": {},
   "source": [
    "<h3>Tests</h3>"
   ]
  },
  {
   "cell_type": "code",
   "execution_count": null,
   "metadata": {},
   "outputs": [],
   "source": [
    "a=10\n",
    "b=15\n",
    "print(\"PGCD(\",a,\", \",b,\")=\", PGCD(a, b))\n",
    "a=100\n",
    "b=150\n",
    "print(\"PGCD(\",a,\", \",b,\")=\", PGCD(a, b))\n",
    "a=1983\n",
    "b=666\n",
    "print(\"PGCD(\",a,\", \",b,\")=\", PGCD(a, b))"
   ]
  },
  {
   "cell_type": "markdown",
   "metadata": {},
   "source": [
    "<p>Reprennez du TP2, la fonction <code>inv_mod</code> qui prend en paramètre deux entiers <code>a</code> et <code>n</code> et renvoie l'inverse de <code>a</code> modulo <code>n</code>. On convient que lorsque c'est impossible, la fonction renvoie $0$</p>"
   ]
  },
  {
   "cell_type": "code",
   "execution_count": null,
   "metadata": {},
   "outputs": [],
   "source": [
    "def inv_mod(a, n) :\n",
    "    return 0"
   ]
  },
  {
   "cell_type": "markdown",
   "metadata": {},
   "source": [
    "<h3>Tests</h3>"
   ]
  },
  {
   "cell_type": "code",
   "execution_count": null,
   "metadata": {},
   "outputs": [],
   "source": [
    "a=[19, 11, 876, 1777]\n",
    "n=[13, 4, 484, 1111]\n",
    "for i in range(len(a)) :\n",
    "    a1=inv_mod(a[i], n[i])\n",
    "    if(a1==0) : print(a[i], \"n'est pas inversible modulo\", n[i])\n",
    "    else : print(a[i], \"^(-1) modulo\", n[i], \"=\", a1)\n"
   ]
  },
  {
   "cell_type": "markdown",
   "metadata": {},
   "source": [
    "<div style=\"border:3px solid black; padding:3%; font-size:314% ; text-align:center; color:white; background-color:black;\" id=\"Partie2\">\n",
    "    Partie 2 : Hill en dimension $2$\n",
    "</div>\n",
    "\n",
    "<p>\n",
    "    <details>\n",
    "        <summary><strong style=\"font-size:1.414em;color:green;\">Menu de navigation</strong></summary>\n",
    "        <ul>\n",
    "            <li><a href=\"#haut2page\">Haut de page</a></li>\n",
    "            <li><a href=\"#Partie0\">Partie 0 : Outils algébriques</a></li>\n",
    "            <li><a href=\"#Partie1\">Partie 1 : TP2 - outils arithmétiques</a></li>\n",
    "            <li><a href=\"#Partie2\">Partie 2 : Hill en dimension $2$</a></li>\n",
    "            <li><a href=\"#Partie3\">Partie 3 : Brute force (dim 2)</a></li>\n",
    "            <li><a href=\"#Partie4\">Partie 4 : Hill en dimension $N$</a></li>\n",
    "            <li><a href=\"#Partie5\">Partie 5 : Attaque à claire connu</a></li>\n",
    "        </ul>\n",
    "    </details>\n",
    "</p>"
   ]
  },
  {
   "cell_type": "markdown",
   "metadata": {},
   "source": [
    "<p>Dans cette partie, comme vu en cours et en TD, nous nous intérèsserons uniquement à l'application du cryptosystème de Hill en dimension 2, c'est à dire que nous ne considèrerons que des matrices à 2 lignes et deux colonnes.<p>"
   ]
  },
  {
   "cell_type": "markdown",
   "metadata": {},
   "source": [
    "<p>Ecrire la fonction <code>detDim2</code> qui prend en paramètre une matrice <code>A</code> et renvoie son déterminant (en suivant simplement ce que nous avions nomé dans le cours <em>la règle du gamma</em>)</p>"
   ]
  },
  {
   "cell_type": "code",
   "execution_count": null,
   "metadata": {},
   "outputs": [],
   "source": [
    "def detDim2(A) : \n",
    "    return 0"
   ]
  },
  {
   "cell_type": "markdown",
   "metadata": {},
   "source": [
    "<h3>Tests</h3>"
   ]
  },
  {
   "cell_type": "code",
   "execution_count": null,
   "metadata": {},
   "outputs": [],
   "source": [
    "B=dict()\n",
    "i=0\n",
    "B[i]=dict()\n",
    "j=0\n",
    "B[i][j]=2\n",
    "j+=1\n",
    "B[i][j]=3\n",
    "\n",
    "i+=1\n",
    "B[i]=dict()\n",
    "j=0\n",
    "B[i][j]=5\n",
    "j+=1\n",
    "B[i][j]=7\n",
    "\n",
    "print(MatAff(B))\n",
    "print(\"Le déterminant de cette matrice vaut : \",detDim2(B))"
   ]
  },
  {
   "cell_type": "markdown",
   "metadata": {},
   "source": [
    "<p>Ecrire la fonction <code>inv_mat_modDim2(A, n)</code> qui renvoie l'inverse d'une matrice <code>A</code> (toujours en dimension 2 - en appliquant donc simplement la formule vu en cours) modulo <code>n</code>. En cas d'impoibilité, on renvoie la matrice vide (tableau vide)</p>"
   ]
  },
  {
   "cell_type": "code",
   "execution_count": null,
   "metadata": {},
   "outputs": [],
   "source": [
    "def inv_mat_modDim2(A, n) :\n",
    "    return []"
   ]
  },
  {
   "cell_type": "markdown",
   "metadata": {},
   "source": [
    "<h3>Tests</h3>"
   ]
  },
  {
   "cell_type": "code",
   "execution_count": null,
   "metadata": {},
   "outputs": [],
   "source": [
    "print(\"L'inverse de \")\n",
    "print(MatAff(B))\n",
    "print(\"est\")\n",
    "print(MatAff(inv_mat_modDim2(B, 26)))"
   ]
  },
  {
   "cell_type": "markdown",
   "metadata": {},
   "source": [
    "<p>Ecrire la fonction <code>EHillDim2</code> qui renvoie le chiffrement de Hill. La fonction renvoie la chaine vide en cas d'erreur.</p>"
   ]
  },
  {
   "cell_type": "code",
   "execution_count": null,
   "metadata": {},
   "outputs": [],
   "source": [
    "def EHillDim2(txt, A, paq=1) :\n",
    "    return \"\""
   ]
  },
  {
   "cell_type": "markdown",
   "metadata": {},
   "source": [
    "<p>Ecrire la fonction <code>DHillDim2</code> qui renvoie le déchiffrement de Hill. La fonction renvoie la chaine vide en cas d'erreur.</p>"
   ]
  },
  {
   "cell_type": "code",
   "execution_count": null,
   "metadata": {},
   "outputs": [],
   "source": [
    "def DHillDim2(txt, A, paq=1) :\n",
    "    return \"\""
   ]
  },
  {
   "cell_type": "markdown",
   "metadata": {},
   "source": [
    "<h3>Tests</h3>"
   ]
  },
  {
   "cell_type": "code",
   "execution_count": null,
   "metadata": {},
   "outputs": [],
   "source": [
    "print(DHillDim2(\"QMPPEXZVIKUL\", B))"
   ]
  },
  {
   "cell_type": "code",
   "execution_count": null,
   "metadata": {},
   "outputs": [],
   "source": [
    "txt0=\"COUCOULESETUDIANTSALORSCASEPASSEBIEN\"\n",
    "txt1=EHillDim2(txt0, B)\n",
    "txt2=DHillDim2(txt1, B)\n",
    "print(\"Message initiale :\", txt0)\n",
    "print(\"Message chiffré :\", txt1)\n",
    "print(\"Message déchiffré :\", txt2)"
   ]
  },
  {
   "cell_type": "markdown",
   "metadata": {},
   "source": [
    "<div style=\"border:3px solid black; padding:3%; font-size:314% ; text-align:center; color:white; background-color:black;\" id=\"Partie3\">\n",
    "    Partie 3 : Brute force (dim 2)\n",
    "</div>\n",
    "\n",
    "<p>\n",
    "    <details>\n",
    "        <summary><strong style=\"font-size:1.414em;color:green;\">Menu de navigation</strong></summary>\n",
    "        <ul>\n",
    "            <li><a href=\"#haut2page\">Haut de page</a></li>\n",
    "            <li><a href=\"#Partie0\">Partie 0 : Outils algébriques</a></li>\n",
    "            <li><a href=\"#Partie1\">Partie 1 : TP2 - outils arithmétiques</a></li>\n",
    "            <li><a href=\"#Partie2\">Partie 2 : Hill en dimension $2$</a></li>\n",
    "            <li><a href=\"#Partie3\">Partie 3 : Brute force (dim 2)</a></li>\n",
    "            <li><a href=\"#Partie4\">Partie 4 : Hill en dimension $N$</a></li>\n",
    "            <li><a href=\"#Partie5\">Partie 5 : Attaque à claire connu</a></li>\n",
    "        </ul>\n",
    "    </details>\n",
    "</p>"
   ]
  },
  {
   "cell_type": "markdown",
   "metadata": {},
   "source": [
    "<p>La fonction suivante, incrémente la matrice <code>A</code> modulairement (<code>mod</code>). Si suite à cet incrément on trouve la matrice nulle on renvoie à la place la matrice vide (tableau vide)</p>"
   ]
  },
  {
   "cell_type": "code",
   "execution_count": 1,
   "metadata": {},
   "outputs": [],
   "source": [
    "def Incr_Mat(A, mod) : \n",
    "    n=len(A)\n",
    "\n",
    "    i=0\n",
    "    while(i<n) :\n",
    "        j=0\n",
    "        while(j<n) :\n",
    "            A[i][j]=(A[i][j]+1)%mod\n",
    "            if(A[i][j]!=0) : return A\n",
    "            j+=1\n",
    "        i+=1\n",
    "    return dict()"
   ]
  },
  {
   "cell_type": "markdown",
   "metadata": {},
   "source": [
    "<p>La case suivante, liste toutes les matrices (en dimension $2$) en binaire.</p>"
   ]
  },
  {
   "cell_type": "code",
   "execution_count": 4,
   "metadata": {},
   "outputs": [
    {
     "name": "stdout",
     "output_type": "stream",
     "text": [
      "1\t0\n",
      "0\t0\n",
      "\n",
      "0\t1\n",
      "0\t0\n",
      "\n",
      "1\t1\n",
      "0\t0\n",
      "\n",
      "0\t0\n",
      "1\t0\n",
      "\n",
      "1\t0\n",
      "1\t0\n",
      "\n",
      "0\t1\n",
      "1\t0\n",
      "\n",
      "1\t1\n",
      "1\t0\n",
      "\n",
      "0\t0\n",
      "0\t1\n",
      "\n",
      "1\t0\n",
      "0\t1\n",
      "\n",
      "0\t1\n",
      "0\t1\n",
      "\n",
      "1\t1\n",
      "0\t1\n",
      "\n",
      "0\t0\n",
      "1\t1\n",
      "\n",
      "1\t0\n",
      "1\t1\n",
      "\n",
      "0\t1\n",
      "1\t1\n",
      "\n",
      "1\t1\n",
      "1\t1\n",
      "\n",
      "\n"
     ]
    }
   ],
   "source": [
    "X=[[0, 0], [0, 0]]\n",
    "while(len(X)>0) :\n",
    "    X=Incr_Mat(X, 2)\n",
    "    print(MatAff(X))"
   ]
  },
  {
   "cell_type": "markdown",
   "metadata": {},
   "source": [
    "<p>Comme pour les TP1 et TP2, rédiger une fonction d'attaque en force brute, utlisant la recherche par dictionnnaire</p>"
   ]
  },
  {
   "cell_type": "code",
   "execution_count": null,
   "metadata": {},
   "outputs": [],
   "source": [
    "print(\"-----> DéBUT DU CHARGMENT DES DICTIONNAIRES <-----\")\n",
    "top=time.time()\n",
    "lang=\"FR\"\n",
    "print(\"CHARGEMENT DU DICTIONNAIRE \\\"\", lang, \"\\\": \\tEN COURS\",end='')\n",
    "DICO_FR = MonDico(lang)\n",
    "print(\"\\rCHARGEMENT DU DICTIONNAIRE \\\"\", lang, \"\\\": \\tTERMINéE (en\", round(time.time()-top, 3), \"secondes)\")\n",
    "top=time.time()\n",
    "lang=\"ANG\"\n",
    "print(\"CHARGEMENT DU DICTIONNAIRE \\\"\", lang, \"\\\": \\tEN COURS\",end='')\n",
    "DICO_ANG = MonDico(lang)\n",
    "print(\"\\rCHARGEMENT DU DICTIONNAIRE \\\"\", lang, \"\\\": \\tTERMINéE (en\", round(time.time()-top, 3), \"secondes)\")\n",
    "top=time.time()\n",
    "lang=\"ESP\"\n",
    "print(\"CHARGEMENT DU DICTIONNAIRE \\\"\", lang, \"\\\": \\tEN COURS\",end='')\n",
    "DICO_ESP = MonDico(lang)\n",
    "print(\"\\rCHARGEMENT DU DICTIONNAIRE \\\"\", lang, \"\\\": \\tTERMINéE (en\", round(time.time()-top, 3), \"secondes)\")\n",
    "top=time.time()\n",
    "lang=\"IT\"\n",
    "print(\"CHARGEMENT DU DICTIONNAIRE \\\"\", lang, \"\\\": \\tEN COURS\",end='')\n",
    "DICO_IT = MonDico(lang)\n",
    "print(\"\\rCHARGEMENT DU DICTIONNAIRE \\\"\", lang, \"\\\": \\tTERMINéE (en\", round(time.time()-top, 3), \"secondes)\")\n",
    "print(\"-----> FIN DU CHARGMENT DES DICTIONNAIRES <-----\")"
   ]
  },
  {
   "cell_type": "code",
   "execution_count": null,
   "metadata": {},
   "outputs": [],
   "source": [
    "def bruteforceHill_dico(txt, paq=1, dico=DICO_FR) : \n",
    "    try : \n",
    "        txt=str(txt)\n",
    "        paq=int(paq)\n",
    "    except :\n",
    "        print(\"L'attaque ne fonctionne pas\")\n",
    "        return\n",
    "\n",
    "    print(\"---------------------------------------------------\")\n",
    "    print(\"Début de l'attaque en force brute avec dictionnaire\")\n",
    "    print(\"---------------------------------------------------\")\n",
    "    top=time.time()\n",
    "\n",
    "    #Mettre votre code ici\n",
    "\n",
    "    temps=time.time()-top\n",
    "    print(\"Le dernier message semble être le bon\")\n",
    "    print(\"Attaque terminée (\"+str(round(temps, 3))+\"s)\")\n",
    "    print(\"---------------------------------\")"
   ]
  },
  {
   "cell_type": "markdown",
   "metadata": {},
   "source": [
    "<h3>Tests</h3>"
   ]
  },
  {
   "cell_type": "code",
   "execution_count": null,
   "metadata": {},
   "outputs": [],
   "source": [
    "#par paquet 1 cette attaque dure (sur un core i5) plus d'une trentaine de seconde\n",
    "#Vous aventurerez-vous à changer paq en 2 ?\n",
    "#Aurez-vous la folie de le mettre 3 ?\n",
    "paq=1\n",
    "B=[[2, 3],[5, 7]]\n",
    "txt  = \"BONJOURLESETUDIANTSCOMMENTCASEPASSECETTEATTAQUEPASTROPLONGPOINTDINTEROGATION\"\n",
    "txt2 = EHillDim2(txt, B, paq)\n",
    "print(\"Attaque du message : \")\n",
    "print(txt2)\n",
    "bruteforceHill_dico(txt2, paq)"
   ]
  },
  {
   "cell_type": "markdown",
   "metadata": {},
   "source": [
    "<div style=\"border:3px solid black; padding:3%; font-size:314% ; text-align:center; color:white; background-color:black;\" id=\"Partie4\">\n",
    "    Partie 4 : Hill en dimension $N$\n",
    "</div>\n",
    "\n",
    "<p>\n",
    "    <details>\n",
    "        <summary><strong style=\"font-size:1.414em;color:green;\">Menu de navigation</strong></summary>\n",
    "        <ul>\n",
    "            <li><a href=\"#haut2page\">Haut de page</a></li>\n",
    "            <li><a href=\"#Partie0\">Partie 0 : Outils algébriques</a></li>\n",
    "            <li><a href=\"#Partie1\">Partie 1 : TP2 - outils arithmétiques</a></li>\n",
    "            <li><a href=\"#Partie2\">Partie 2 : Hill en dimension $2$</a></li>\n",
    "            <li><a href=\"#Partie3\">Partie 3 : Brute force (dim 2)</a></li>\n",
    "            <li><a href=\"#Partie4\">Partie 4 : Hill en dimension $N$</a></li>\n",
    "            <li><a href=\"#Partie5\">Partie 5 : Attaque à claire connu</a></li>\n",
    "        </ul>\n",
    "    </details>\n",
    "</p>"
   ]
  },
  {
   "cell_type": "markdown",
   "metadata": {},
   "source": [
    "<h3>Outils algèbriques : <code>det</code> et <code>inv_mat_mod</code></h3>"
   ]
  },
  {
   "cell_type": "markdown",
   "metadata": {},
   "source": [
    "<p>Comme en dimension $2$, il existe des formule bien connue permettant de calculer le determinant de n'importe quelle matrice carré ainsi que son inverse (lorsque son déterminant est inversible). Ce n'est pas l'objectif de ce cours que d'introduie ces notion : elles sont gratuites !\n",
    "<ul>\n",
    "<li><code>det(A)</code> renvoie le déterminant de n'importe quelle matrice carré</li>\n",
    "<li><code>inv_mat_mod(A, d1, n)</code> renvoie la matrice inverse de <code>A</code> modulo <code>n</code>. Le nombre <code>d1</code> représente l'inverse modulaire du déterminant de <code>A</code> modulo <code>n</code></li>\n",
    "</ul>\n",
    "</p>"
   ]
  },
  {
   "cell_type": "code",
   "execution_count": null,
   "metadata": {},
   "outputs": [],
   "source": [
    "A=[[1, 3, 3, 7], [0, 1, 2, 1], [5, 6, 7, 3], [9, 1, 0, 3]]\n",
    "print(\"A=\")\n",
    "print(MatAff(A))\n",
    "print(\"det(A)=\", det(A))\n",
    "print(\"PGCD(det(A), 26)=\", PGCD(det(A), 26))\n",
    "print(\"A^(-1) =\")\n",
    "print(MatAff(inv_mat_mod(A, inv_mod(det(A), 26), 26)))"
   ]
  },
  {
   "cell_type": "markdown",
   "metadata": {},
   "source": [
    "<p>En adaptant votre code en dimension 2, écrire les fonctions <code>EHill</code> et <code>DHill</code> de déchiffrement quelque soit la dimension de la matrice clef.</p>"
   ]
  },
  {
   "cell_type": "code",
   "execution_count": null,
   "metadata": {},
   "outputs": [],
   "source": [
    "def EHill(txt, A, paq=1) :\n",
    "    return \"\""
   ]
  },
  {
   "cell_type": "code",
   "execution_count": null,
   "metadata": {},
   "outputs": [],
   "source": [
    "def DHill(txt, A, paq=1) :\n",
    "    return \"\""
   ]
  },
  {
   "cell_type": "code",
   "execution_count": null,
   "metadata": {},
   "outputs": [],
   "source": [
    "#Dernier exercice de la feuille de TD\n",
    "A=[[8, 3, 0],[1, 1, 11], [0, 8, 7]]\n",
    "print(DHill(\"YNDKDUUHSLYZGEA\", A))"
   ]
  },
  {
   "cell_type": "markdown",
   "metadata": {},
   "source": [
    "<div style=\"border:3px solid black; padding:3%; font-size:314% ; text-align:center; color:white; background-color:black;\" id=\"Partie5\">\n",
    "    Partie 5 : Attaque à claire connu\n",
    "</div>\n",
    "\n",
    "<p>\n",
    "    <details>\n",
    "        <summary><strong style=\"font-size:1.414em;color:green;\">Menu de navigation</strong></summary>\n",
    "        <ul>\n",
    "            <li><a href=\"#haut2page\">Haut de page</a></li>\n",
    "            <li><a href=\"#Partie0\">Partie 0 : Outils algébriques</a></li>\n",
    "            <li><a href=\"#Partie1\">Partie 1 : TP2 - outils arithmétiques</a></li>\n",
    "            <li><a href=\"#Partie2\">Partie 2 : Hill en dimension $2$</a></li>\n",
    "            <li><a href=\"#Partie3\">Partie 3 : Brute force (dim 2)</a></li>\n",
    "            <li><a href=\"#Partie4\">Partie 4 : Hill en dimension $N$</a></li>\n",
    "            <li><a href=\"#Partie5\">Partie 5 : Attaque à claire connu</a></li>\n",
    "        </ul>\n",
    "    </details>\n",
    "</p>"
   ]
  },
  {
   "cell_type": "markdown",
   "metadata": {},
   "source": [
    "<p>On renvoie au cours pour comprendre le principe des associations et les constructions vectoriels qui se déduisent du <em>claire connu</em> ($\\rightarrow$ <a href=\"http://www.ataraxy.info/Crypto?Chapitres/Hill\" target=\"_blank\">ici (bas de page)</a>).\n",
    "<br>\n",
    "    Le principe est donc d'associer les informations vectoriellement pour obtenir des équations de la forme $AU=V$ où $U$ est une partie claire du message, $V$ une partie crypté du message et $A$ la clef inconnue que nous cherchons à casser. La difficulté de cette attaque est purement algorithmique : il faut créer tous les $U$ et $V$ possible pour obtenir une matrice inversible permettant de trouver $A=VU^{-1}$. A cette fin, nous vous proposons la fonction <code>lst_ss_ens(E, p)</code> qui est un tableau regroupant tous les sous-ensembles (sous tableau) de cardinalité $p$ que l'on peut faire avec le tableau $E$.\n",
    "</p>"
   ]
  },
  {
   "cell_type": "code",
   "execution_count": null,
   "metadata": {},
   "outputs": [],
   "source": [
    "E=['a', 'b', 'c', 'd']\n",
    "print(lst_ss_ens(E, 2))"
   ]
  },
  {
   "cell_type": "markdown",
   "metadata": {},
   "source": [
    "<p>Ecrire la fonction <code>AttaqueAClaireConnu</code> qui réalise une attaque à claire connue. Quelques petite aides vous sont soufflé.<br>\n",
    "A propos des paramètres : \n",
    "<ul>\n",
    "    <li><code>crypte</code> est le message crypté</li>\n",
    "    <li><code>claire</code> est le message claire</li>\n",
    "    <li><code>pos</code> est la position du texte claire</li>\n",
    "    <li><code>dim</code> est la dimension hypothétique de la clef</li>\n",
    "</ul>\n",
    "Nous ne raisonons que par paquet de 1.\n",
    "</p>"
   ]
  },
  {
   "cell_type": "code",
   "execution_count": null,
   "metadata": {},
   "outputs": [],
   "source": [
    "def AttaqueAClaireConnu(crypte, claire, pos=0, dim=2) :\n",
    "\n",
    "    #il faut que la position (pos) soit le premier coef d'un vecteur\n",
    "    deb=pos\n",
    "    while(deb%dim!=0) : deb+=1\n",
    "    if(deb-pos>len(claire)) :\n",
    "        print(\"Informations insufissantes pour une attaque - I\")\n",
    "        return\n",
    "\n",
    "    #Il faut que la fin du message soit le dernier coef d'un vecteur\n",
    "    fin=min(len(claire)+pos, len(crypte))\n",
    "    while(fin%dim!=0) : fin-=1\n",
    "\n",
    "    if(fin<=deb) :\n",
    "        print(\"Informations insufissantes pour une attaque - II\")\n",
    "        return\n",
    "\n",
    "    #Mettre le code ici"
   ]
  },
  {
   "cell_type": "markdown",
   "metadata": {},
   "source": [
    "<h3>Test</h3>"
   ]
  },
  {
   "cell_type": "code",
   "execution_count": null,
   "metadata": {},
   "outputs": [],
   "source": [
    "#Dernier slide de la présentation du cours\n",
    "crypte=\"VZRQOOHQEMWIVNDOHZXBRCCGZDBXHOQSKMISXULTTSXFDHNXJSZBEZVEQOXHLPT\"\n",
    "claire=\"TAIREAUPLUSVITE\"\n",
    "pos=len(crypte)-len(claire)\n",
    "AttaqueAClaireConnu(crypte, claire, pos ,3)"
   ]
  },
  {
   "cell_type": "code",
   "execution_count": null,
   "metadata": {},
   "outputs": [],
   "source": [
    "txt=\"VIVELACRYPTOCESTTROPBIENMEMEQUANDCESTDUREMAISENVRAICESTPASDIFFICILE\"\n",
    "A=[[8, 3, 1], [1, 1, 1], [1, 0, 1]]\n",
    "crypte=DHill(txt, A)\n",
    "print(\"Attaque de :\", crypte)\n",
    "deb=len(txt)-15\n",
    "fin=len(txt)\n",
    "claire=txt[deb:fin]\n",
    "print(\"Claire connu sur les 15 derniers caractères :\", claire)\n",
    "AttaqueAClaireConnu(crypte, claire, deb, len(A))"
   ]
  },
  {
   "cell_type": "code",
   "execution_count": null,
   "metadata": {},
   "outputs": [],
   "source": []
  }
 ],
 "metadata": {
  "kernelspec": {
   "display_name": "Python 3",
   "language": "python",
   "name": "python3"
  },
  "language_info": {
   "codemirror_mode": {
    "name": "ipython",
    "version": 3
   },
   "file_extension": ".py",
   "mimetype": "text/x-python",
   "name": "python",
   "nbconvert_exporter": "python",
   "pygments_lexer": "ipython3",
   "version": "3.6.2"
  }
 },
 "nbformat": 4,
 "nbformat_minor": 2
}
