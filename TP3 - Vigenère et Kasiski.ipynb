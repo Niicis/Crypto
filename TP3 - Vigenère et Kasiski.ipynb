{
 "cells": [
  {
   "cell_type": "markdown",
   "metadata": {},
   "source": [
    "<div id=\"haut2page\" style=\"border:3px solid black; padding:3%; font-size:314% ; text-align:center; color:white; background-color:black;\">\n",
    "    <img style=\"display:inline;\" alt=\"ataraXy\" src=\"http://www.ataraxy.info/IMAGE/favicon.ico\"> Vigenère et Kasiski\n",
    "</div>\n",
    "<h3>Navigation dans la page</h3>\n",
    "<p>\n",
    "    Si c'est votre première visite dans ce TP, lisez attentivement chacun des points détaillé après ce paragraphe.<br>\n",
    "    Si vous avez déjà commencer à travailler sur ce TP et que vous souhaiter vous déplacer rapidement dans une partie précise vous pouvez choisir la partie que vous souhaitez rejoindre ci-dessous. <br>\n",
    "    <details open>\n",
    "        <summary><strong style=\"font-size:1.414em;color:green;\">Menu de navigation</strong></summary>\n",
    "        <ul>\n",
    "            <li><a href=\"#haut2page\">Haut de page</a></li>\n",
    "            <li><a href=\"#Partie1\">Partie 1 : Cryptosystème de Vigenère </a></li>\n",
    "            <li><a href=\"#Partie2\">Partie 2 : Préparation à l'attaque de Kasiki </a></li>\n",
    "            <li><a href=\"#Partie3\">Partie 3 : Attaque de Kasiki</a></li>\n",
    "        </ul>\n",
    "    </details>\n",
    "</p>\n",
    "\n",
    "<details>\n",
    "    <summary><strong style=\"font-size:1.414em\">Technologie jupyter</strong></summary>\n",
    "<p>\n",
    "    La technologie <em>jupyter</em> permet d'exécuter du code python par un simple clique sur <em>Executer</em> ci-dessus.<br> \n",
    "    Les morceaux de code de cette page sont interprétées case par case. Pour savoir quelle case a été interprétée avant une autre, il suffit de repérer le numéro devant la case. <br>\n",
    "    Une fois qu'une case a été interprétée (=exécutée), la page garde en mémoire les variables et fonctions lues<br>\n",
    "    La plateforme propose quelques outils de purge de la mémoire : \n",
    "    <ul>\n",
    "    <li>Il est possible de tout recommencer (dénuméroter) en choisissant dans le menu <em>Kernel</em> ci-dessus <em>Restart & Clear Output</em> pour purger la mémoire de toutes ses variables et de toutes ses executions </li> \n",
    "    <li>Dans le menu <em>Kernel</em> choisir <em>Restard & Run All</em> aura le même effet que <em>Restart & Clear Output</em> mais en plus relancera chacune des cases depuis le haut du document jusqu'en bas (renuméroter).</li>\n",
    "    </ul>\n",
    "</p>\n",
    "<div style=\"background-color:rgba(255, 0, 0, 0.19);padding:3%;\">\n",
    "    <h3 style=\"color:red;\">SAUVEGARDER VOTRE TRAVAIL</h3>\n",
    "    <p>\n",
    "        Pour ne pas perdre votre travail pensez à le sauvegarder régulièrement. Par défault, la sauvegarde par un clic sur la disquette en haut à gauche de page, ou par le racourci clavier classique <code>ctrl+S</code>\n",
    "    est une sauvegarde en local, sur le serveur de jupyter. Vous pouvez et devez très régulièrement sauvegarder votre travail sur votre support personnel de sauvegarde (clef USB, se l'envoyer par mail etc). Ce faisant vous disposerez d'un fichier  .ipynb (IPYthon NoteBook) qu'il vous suffira de recharger  pour avancer. Après le rechargement assurez vous que les fonctionnalités anciennement developpées et variables utilisées sont bien <em>dans la mémoire de la page</em> (en rééxecutant les cases, ou plus rapidement par <em>Kernel &gt; Restart & Run All</em>.</p>\n",
    "    <p> A NOTER : vous pouvez travailler sur le tp (et tout autre fichier .ipynb) hors connexion en installant une version local du notebook de jupyter. Il faut que votre machine possède un interpreteur de python et que vous soyez connecter à internet.\n",
    "        <ol>\n",
    "            <li>Lancer un terminal</li>\n",
    "            <li>Taper la commande suivante : <code>pip install jupyterlab</code></li>\n",
    "            <li>Une fois l'installation terminée portez votre attention sur les dernières lignes affichées dans votre terminal vous invitant probablement à taper une ligne de commande pour faire une mise à jour</li>\n",
    "            <li>Pour lancer notebook de jupyter, taper dans votre termial : <code>jupyter notebook</code></li>\n",
    "            <li>Votre simulateur de serveur est lancé. Il ne faut pas fermer votre terminal, auquel cas votre simulateur de serveur s'interompera. Suivez le lien indiqué dans les dernières lignes de votre terminal pour vous diriger vers votre espace local. L'interface se présente comme celle que vous trouverez sur le web. Votre travail sera cependant toujours enregistré et jamais perdu même si vous le consultez après plusieurs jours </li>\n",
    "        </ol>\n",
    "    </p>\n",
    "</div>\n",
    "</details>"
   ]
  },
  {
   "cell_type": "markdown",
   "metadata": {},
   "source": [
    "<p>Comme pour le TP1, TP2 et TP3, une bibliothèque regroupant quelques outils de la cryptologie vous ont été donnée. Chargeons l'intégralité des fonctionnalités qu'elle propose</p>"
   ]
  },
  {
   "cell_type": "code",
   "execution_count": null,
   "metadata": {},
   "outputs": [],
   "source": [
    "from OutilsCrypto import *"
   ]
  },
  {
   "cell_type": "markdown",
   "metadata": {},
   "source": [
    "<p>Vous êtes invité à travailler sur la première partie du TP1 pour vous refamiliariser avec les fonctionnalités de cette bibliothèque comme <code>codex</code>, <code>codex</code>, <code>xedoc</code>, <code>paquet</code>, <code>mode2base</code>, <code>Filtre</code> ainsi que les fonctions d'attaque par dictionnaire.</p>"
   ]
  },
  {
   "cell_type": "markdown",
   "metadata": {},
   "source": [
    "<div id=\"Partie1\" style=\"border:3px solid black; padding:3%; font-size:314% ; text-align:center; color:white; background-color:black;\">\n",
    "    Partie 1 : Cryptosystème de Vigenère \n",
    "</div>\n",
    "\n",
    "<p>\n",
    "    <details>\n",
    "        <summary><strong style=\"font-size:1.414em;color:green;\">Menu de navigation</strong></summary>\n",
    "        <ul>\n",
    "            <li><a href=\"#haut2page\">Haut de page</a></li>\n",
    "            <li><a href=\"#Partie1\">Partie 1 : Cryptosystème de Vigenère </a></li>\n",
    "            <li><a href=\"#Partie2\">Partie 2 : Préparation à l'attaque de Kasiki </a></li>\n",
    "            <li><a href=\"#Partie3\">Partie 3 : Attaque de Kasiki</a></li>\n",
    "        </ul>\n",
    "    </details>\n",
    "</p>"
   ]
  },
  {
   "cell_type": "markdown",
   "metadata": {},
   "source": [
    "<h1>Chiffrement</h1>\n",
    "<p>Ecrire la fonction <code> C_VIGENERE(txt, clef)</code> qui prend en paramètre une message <code>txt</code> et une <code>clef</code> tous les deux des chaines de caractères et qui renvoie la chaine de caractère correspondant au chiffrement de Vigenère.</p>"
   ]
  },
  {
   "cell_type": "code",
   "execution_count": null,
   "metadata": {},
   "outputs": [],
   "source": [
    "def C_VIGENERE(txt, clef) :\n",
    "    return \"\""
   ]
  },
  {
   "cell_type": "markdown",
   "metadata": {},
   "source": [
    "<h3>Test</h3>"
   ]
  },
  {
   "cell_type": "code",
   "execution_count": null,
   "metadata": {},
   "outputs": [],
   "source": [
    "txt=\"VOICIUNMESSAGEDEVIGENRE\"\n",
    "clef=\"CLEF\"\n",
    "print(C_VIGENERE(txt, clef))\n",
    "#Résultat attendu : XZMHKFRRGDWFIPHJXTKJPCI"
   ]
  },
  {
   "cell_type": "markdown",
   "metadata": {},
   "source": [
    "<h1>Déchiffrement</h1>\n",
    "<p>Ecrire la fonction <code> D_VIGENERE(txt, clef)</code> qui prend en paramètre une message <code>txt</code> et une <code>clef</code> tous les deux des chaines de caractères et qui renvoie la chaine de caractère correspondant au déchiffrement de Vigenère.</p>"
   ]
  },
  {
   "cell_type": "code",
   "execution_count": null,
   "metadata": {},
   "outputs": [],
   "source": [
    "def D_VIGENERE(txt, clef) :\n",
    "    return \"\""
   ]
  },
  {
   "cell_type": "markdown",
   "metadata": {},
   "source": [
    "<h3>Test</h3>"
   ]
  },
  {
   "cell_type": "code",
   "execution_count": null,
   "metadata": {},
   "outputs": [],
   "source": [
    "txt=\"XZMHKFRRGDWFIPHJXTKJPCI\"\n",
    "clef=\"CLEF\"\n",
    "print(D_VIGENERE(txt, clef))"
   ]
  },
  {
   "cell_type": "markdown",
   "metadata": {},
   "source": [
    "<div id=\"Partie2\" style=\"border:3px solid black; padding:3%; font-size:314% ; text-align:center; color:white; background-color:black;\">\n",
    "    Partie 2 : Préparation à l'attaque de Kasiki \n",
    "</div>\n",
    "\n",
    "<p>\n",
    "    <details>\n",
    "        <summary><strong style=\"font-size:1.414em;color:green;\">Menu de navigation</strong></summary>\n",
    "        <ul>\n",
    "            <li><a href=\"#haut2page\">Haut de page</a></li>\n",
    "            <li><a href=\"#Partie1\">Partie 1 : Cryptosystème de Vigenère </a></li>\n",
    "            <li><a href=\"#Partie2\">Partie 2 : Préparation à l'attaque de Kasiki </a></li>\n",
    "            <li><a href=\"#Partie3\">Partie 3 : Attaque de Kasiki</a></li>\n",
    "        </ul>\n",
    "    </details>\n",
    "</p>"
   ]
  },
  {
   "cell_type": "markdown",
   "metadata": {},
   "source": [
    "<p>Le principe de l'attaque de Kasiski est de déterminer la longueur de la clef en observant la longueur qui sépare certain cryptograme qui se répète. Cette longueur est le $PGCD$ de ces longueur.</p>\n",
    "<h1>PGCD</h1>\n",
    "<p>Reprennez la fonction $PGCD$ du TP2</p>"
   ]
  },
  {
   "cell_type": "code",
   "execution_count": null,
   "metadata": {},
   "outputs": [],
   "source": [
    "def PGCD(a, b) :\n",
    "    return 0"
   ]
  },
  {
   "cell_type": "markdown",
   "metadata": {},
   "source": [
    "<h3>Tests</h3>"
   ]
  },
  {
   "cell_type": "code",
   "execution_count": null,
   "metadata": {},
   "outputs": [],
   "source": [
    "X=[1234, 1234, 9876, 2020]\n",
    "res=0\n",
    "for n in X : res=PGCD(res, n)\n",
    "print(\"PGCD(\",X[0],\",\",X[1],\",\",X[2],\",\",X[3],\")=\", res)\n",
    "#Le résultat est 2."
   ]
  },
  {
   "cell_type": "markdown",
   "metadata": {},
   "source": [
    "<h3>Principe</h3>\n",
    "<p>Dans un premier temps, il faut déterminer les cryptogrammes qui se répètent et dans la second temps, le nombre de caractère qui les sépare.</p>\n",
    "<p>La fonction suivante, crée un arbre composée de tous les mots qui compose le message (<code>txt</code>) qui ont une longueur entre <code>a</code> (valeur par défaut 4) <code>b</code> (valeur par défaut 7).</p>"
   ]
  },
  {
   "cell_type": "code",
   "execution_count": null,
   "metadata": {},
   "outputs": [],
   "source": [
    "def VIGENERE_DICO(txt, a=4, b=7) :\n",
    "    try : \n",
    "        txt=str(txt)\n",
    "        a=int(a)\n",
    "        b=int(b)\n",
    "    except : return dict()\n",
    "\n",
    "    Racine=dict()\n",
    "\n",
    "    def constructBranche(mot):\n",
    "        Arbre = Racine;\n",
    "        for c in mot :\n",
    "            if not (c in Arbre): \n",
    "                Arbre[c] = dict()\n",
    "                Arbre[c]['FINMOT']=False\n",
    "            #On avance dans l'arbre\n",
    "            Arbre = Arbre[c]\n",
    "        #Arrivé à la fin on marque que le mot est fini\n",
    "        Arbre[\"FINMOT\"] = True\n",
    "\n",
    "    n=len(txt)\n",
    "    for i in range(n) :\n",
    "        longueur=a\n",
    "        while(longueur<=b) :\n",
    "            #mot de longueur j\n",
    "            mot=\"\"\n",
    "            j=0\n",
    "            while(j<longueur and i+j<n) :\n",
    "                mot+=txt[i+j]\n",
    "                j+=1\n",
    "            if(i+j>=n) : break\n",
    "            #Ajout du mot au dictionnaire\n",
    "            constructBranche(Filtre(mot).upper())\n",
    "            longueur+=1\n",
    "    return Racine"
   ]
  },
  {
   "cell_type": "markdown",
   "metadata": {},
   "source": [
    "<h3>Test et détail</h3>"
   ]
  },
  {
   "cell_type": "code",
   "execution_count": null,
   "metadata": {},
   "outputs": [],
   "source": [
    "print(VIGENERE_DICO(\"BONBON\", 2, 4))"
   ]
  },
  {
   "cell_type": "markdown",
   "metadata": {},
   "source": [
    "<p>Avec l'exemple du mot \"BONBON\" l'abre dictionnaire des mots de longueur 2, 3 ou 4 donne : </p>\n",
    "<ul>\n",
    "    <li><code>BO</code></li>\n",
    "    <li><code>BON</code></li>\n",
    "    <li><code>BONB</code></li>\n",
    "    <li><code>ON</code></li>\n",
    "    <li><code>ONB</code></li>\n",
    "    <li><code>ONBO</code></li>\n",
    "    <li><code>NB</code></li>\n",
    "    <li><code>NBO</code></li>\n",
    "    <li><code>NBON</code></li>\n",
    "</ul>"
   ]
  },
  {
   "cell_type": "markdown",
   "metadata": {},
   "source": [
    "<p>Le bout de code suivant, utilise l'abre des mot du cyptogramme pour construire le tableau associatif <code>lst_mots</code> :\n",
    "    <ul>\n",
    "      <li> la clef est un mot (d'une longueur comprise entre a et b) </li>\n",
    "      <li> le champ 'COMPTEUR' indique le nombre de fois que le mot a été trouvé dans txt </li>\n",
    "      <li> le champ 'POSITION' est un tableau indiquant pour chaque mot trouvé la position du premier caractère </li>\n",
    "    </ul>\n",
    "    Si <code>txt=\"BONBON\"</code>, <code>a=2</code> et </code>b=4</code> alors cette fonction renverra le dictionnaire :<br> \n",
    "<code>{\n",
    "    'BO' : {'COMPTEUR':2, 'POSITION':[0, 3]},\n",
    "    'ON' : {'COMPTEUR':2, 'POSITION':[1, 4]},\n",
    "    'NB' : {'COMPTEUR':1, 'POSITION':[2]},\n",
    "    'BON' : {'COMPTEUR':2, 'POSITION':[0, 3]},\n",
    "    'ONB' : {'COMPTEUR':1, 'POSITION':[1]},\n",
    "    'NBO' : {'COMPTEUR':1, 'POSITION':[2]},\n",
    "    'BONB' : {'COMPTEUR':1, 'POSITION':[0]},\n",
    "    'ONBO' : {'COMPTEUR':1, 'POSITION':[1]},\n",
    "    'NBON' : {'COMPTEUR':1, 'POSITION':[1]}\n",
    "}</code>\n",
    "</p>"
   ]
  },
  {
   "cell_type": "code",
   "execution_count": null,
   "metadata": {},
   "outputs": [],
   "source": [
    "def VIGENERE_REPETITION(txt, a=3, b=7):\n",
    "    if(b<a) : return VIGENERE_REPETITION(txt, b, a)\n",
    "    arbre=VIGENERE_DICO(txt, a, b)\n",
    "\n",
    "    lst_mots=dict()\n",
    "    n=len(txt)\n",
    "    for i in range(n) :\n",
    "        test=True\n",
    "        j=i\n",
    "        positionDico=arbre\n",
    "        mot=\"\"\n",
    "        while(j<n and test) :\n",
    "            cara=txt[j]\n",
    "            mot+=cara\n",
    "            try : x=positionDico[cara]\n",
    "            except : \n",
    "                test=False\n",
    "                mot=\"\"\n",
    "                break\n",
    "            if(x['FINMOT']) : \n",
    "                if(mot in lst_mots) : \n",
    "                    lst_mots[mot][\"POSITION\"].append(i)\n",
    "                    lst_mots[mot][\"COMPTEUR\"]+=1\n",
    "                else : \n",
    "                    lst_mots[mot]=dict()\n",
    "                    lst_mots[mot][\"COMPTEUR\"]=1\n",
    "                    lst_mots[mot][\"POSITION\"]=[]\n",
    "                    lst_mots[mot][\"POSITION\"].append(i)\n",
    "            positionDico=x\n",
    "            j+=1\n",
    "\n",
    "    return lst_mots"
   ]
  },
  {
   "cell_type": "markdown",
   "metadata": {},
   "source": [
    "<h3>Tests</h3>"
   ]
  },
  {
   "cell_type": "code",
   "execution_count": null,
   "metadata": {},
   "outputs": [],
   "source": [
    "X=VIGENERE_REPETITION(\"BONBON\", 2, 4)\n",
    "for clef in X : \n",
    "    print(\"'\"+str(clef)+\"':\\t\", X[clef])"
   ]
  },
  {
   "cell_type": "markdown",
   "metadata": {},
   "source": [
    "<h3>Taille de la clef</h3>\n",
    "<p>Utilisez la fonction précédente pour écrire la fonction <code>Taille_Clef</code> qui renvoie la taille hypotétique de la clef. Si la clef n'est pas trouvée la fonction renverra $-1$.</p>"
   ]
  },
  {
   "cell_type": "code",
   "execution_count": null,
   "metadata": {},
   "outputs": [],
   "source": [
    "def Taille_clef(txt, a=3, b=7) :\n",
    "    return -1"
   ]
  },
  {
   "cell_type": "markdown",
   "metadata": {},
   "source": [
    "<h3>Tests</h3>"
   ]
  },
  {
   "cell_type": "code",
   "execution_count": null,
   "metadata": {},
   "outputs": [],
   "source": [
    "txt=\"BONJOURAVOUSLESETUDIANTSJESPEREQUECECOURDECRYPTOVOUSPLAITETQUEVOUSYTROUVERDELINTERETETUNPEUDEPLAISIRENTOUTCASPOURMAPARTCENESTQUNEPARTIEDEPLAISIRLEPLAISIRESTDAILLEURBIENPLUSGRANDPOURMOIPARCEQUEJESAISENPLUSCEQUIVAARRIVERDANSLASUITERIREDEMONIAQUEHAHA\"\n",
    "clef=\"CRYPTO\"\n",
    "TXT=C_VIGENERE(txt,clef)\n",
    "print(\"MESSAGE A ATTAQUER :\", TXT)\n",
    "print(\"Cryptogramme qui se répètent :\")\n",
    "a=3\n",
    "b=10\n",
    "X=VIGENERE_REPETITION(TXT, a, b)\n",
    "for clef in X : \n",
    "    if(X[clef]['COMPTEUR']>1) : print(\"'\"+str(clef)+\"':\\t\", X[clef])\n",
    "\n",
    "print(\"TAILLE PROBABLE DE LA CLEF : \", Taille_clef(TXT,a, b))"
   ]
  },
  {
   "cell_type": "code",
   "execution_count": null,
   "metadata": {},
   "outputs": [],
   "source": [
    "txt=\"BONJOURAVOUSLESETUDIANTSJESPEREQUECECOURDECRYPTOVOUSPLAITETQUEVOUSYTROUVERDELINTERETETUNPEUDEPLAISIRENTOUTCASPOURMAPARTCENESTQUNEPARTIEDEPLAISIRLEPLAISIRESTDAILLEURBIENPLUSGRANDPOURMOIPARCEQUEJESAISENPLUSCEQUIVAARRIVERDANSLASUITERIREDEMONIAQUEHAHA\"\n",
    "clef=\"UNECLEFUNPEUPLUSLONGUE\"\n",
    "TXT=C_VIGENERE(txt,clef)\n",
    "print(\"MESSAGE A ATTAQUER :\", TXT)\n",
    "print(\"Cryptogramme qui se répètent :\")\n",
    "a=3\n",
    "b=10\n",
    "X=VIGENERE_REPETITION(TXT, a, b)\n",
    "for clef in X : \n",
    "    if(X[clef]['COMPTEUR']>1) : print(\"'\"+str(clef)+\"':\\t\", X[clef])\n",
    "\n",
    "print(\"TAILLE PROBABLE DE LA CLEF : \", Taille_clef(TXT,a, b))"
   ]
  },
  {
   "cell_type": "markdown",
   "metadata": {},
   "source": [
    "<div id=\"Partie3\" style=\"border:3px solid black; padding:3%; font-size:314% ; text-align:center; color:white; background-color:black;\">\n",
    "    Partie 3 : Attaque de Kasiki \n",
    "</div>\n",
    "\n",
    "<p>\n",
    "    <details>\n",
    "        <summary><strong style=\"font-size:1.414em;color:green;\">Menu de navigation</strong></summary>\n",
    "        <ul>\n",
    "            <li><a href=\"#haut2page\">Haut de page</a></li>\n",
    "            <li><a href=\"#Partie1\">Partie 1 : Cryptosystème de Vigenère </a></li>\n",
    "            <li><a href=\"#Partie2\">Partie 2 : Préparation à l'attaque de Kasiki </a></li>\n",
    "            <li><a href=\"#Partie3\">Partie 3 : Attaque de Kasiki</a></li>\n",
    "        </ul>\n",
    "    </details>\n",
    "</p>"
   ]
  },
  {
   "cell_type": "markdown",
   "metadata": {},
   "source": [
    "<p>Une fois la taille de la clef estimée, il <em>suffit</em> de faire une attaque fréquentielle en espaçant le calcul des fréquence suivant la taille estimée. Rédiger la fonction suivante permettant de déterminer la clef.</p>"
   ]
  },
  {
   "cell_type": "code",
   "execution_count": null,
   "metadata": {},
   "outputs": [],
   "source": [
    "def AttaqueKasiski(txt, taille_min_clef=3) :\n",
    "    return \"\""
   ]
  },
  {
   "cell_type": "markdown",
   "metadata": {},
   "source": [
    "<h3>Test</h3>"
   ]
  },
  {
   "cell_type": "code",
   "execution_count": null,
   "metadata": {},
   "outputs": [],
   "source": [
    "TXT=\"VNYISTSALVMEGLRFIBCYHUVUIAEVUEOTKXIUEUVHJTULWQAQSPFENIEEIOLITULPETNBGVFCCHYIEBTYSIYXBGOTLQFDOQIOOKKVJNYRYMLQVIQEHGEYTYLIKEXRRYAQJHFLUWIEEXIITQOHEDSWLTJSIXHLIVZPTEZLXFNBRTPTYPIYTKFQNEXHUFETHYVNZUEAPIEXEOOFIXEVKJSAJSEYTICEQOLWIOEURGIAGEVPCMJXRUYOUFEDZWJTYXVXUZDYSACMIBUQWVBPJHEWAXFVUEXHQLCPRQCRYFIYEAKUVEWHPLEBIMFNXHTWUARLEIMWMYCBVQFNNMIXEAFYWIYQWBUMTIUACWHLNACIHLUFMLLLVGFMVUIPTKYERUYWMDOVSVPDULXLSWEXPULOIALIEGIELGYCENCIUDYVSYAOFRJEUUHPMUVRUJYGIDIZRMTLYPEEIVVRWACQQPTIZWKEYIJZRKVHFTCUICDMDITLCYVPSCEWVRMLWLMIKVJSNHWDEURXSIMWIDSMGSVRGDPPNWIIQELGYPPWLVMAJUINIMLWFENUEJOVEEOTYIMWLMHYFLYVEYGMJRPMGHRELMESSEYWUFIKZSONYQSXMMIEKAGDMDPTLWFTFHWZYMLBURCVXPEBMEHUYEVFIAJINEHWHPSZZHFAOATZUZGVFSGHTPNMKVBINPICEUGPJSMDMEDMKISRYXVDFIEXBSNLUFEAZRDOHQYPSXFYSMILNFSYLEDEDRYCSQSMFNKXIYFQETPULDTLIAVVMEVDXEEUVRUDYPSYCWVYSJYPIORMJWBILHTPTIEXDEMWUFETHYFVCVMEECIUVIMRPWIKZXFLYQXCEMRPBPIUXPDMDEDHUPFCEYLIMQOHZTSQKIVRUWXLRLVWPLFLGTTIEXMEHWVPEICEQOLWIOEURGIAGEVPCMJXDEFDQPMMVXSIYQHPPTLWNOHDQPEVTINOGHRESMJIOTCWTWUAWSSTYQLPSQKEOTXRRNPIJTMUMOSYGBVQQSGRRDIMLVEIMMIZUURHBMYHRGEZZXFJCPTWOZVZPTLHTLRLFRNACVPPFIZXFSNTYPJMJSNMYLPWAQJIUVIXWPTMJZFNOIVLPXVVTIXRYNEUVRUSCIETBTVQFNNYSFSMKITVYQYEAXVVBLUSSCTMUINAWKEXBZVUVAJHMYEMKEJSDHGPRBRMODYYSFSIMSJRYQXPNLLIUAFRVDJWLZSIMOEAOZKIUOOWIRRIEHFLYVXPNMSVFSYWVTEVUIQLOVWNRCKEOTJUSQOVUINEHWGPSBVRFBLHWUEUVXJNMOSYGBVQQSJOITNLVXPNHHQPNBUIDRULREELVHPUNHVPVIEXEEMUIGEAHYBUWXRXOZKIMNUMEXAQJSTELHZPRURMTLYVMWEVTIOEZXXAAAKVPUVOIPTTZQNOVLPTTMEIEOHQELUKLRTIAQIPTTVWFUFPSEPZFJFRYIYEUVESNCBXGSOBVPFNIUINEBRMUMILUFITVGIUWKSEAQJIUUHHGSOIJSOTIXVXUZDYSAWHQZTTVRPRYSYCEUVRUCYOEPTZZIODYSPFSZVRURUQXOAVJQBCBDQMRMVXTEHWEYTMEQPINRYEEUFRBMYLRNEVUMFEDHREEVUMTBCHREOBLRDOOSYYPMLTMUMISCTYLIMEJUIXIMIWVRYPIYTLZWKEMXVPMMEXJLSDUFETHYFCBRWPACONBLIXWTEAUINAZHRPTZVZPYIQWOOVTGFQOHGPSBVXFXJOSCOVJGFMSVXPRMCEJSMRRDMWEGPEOUWPCICQFROQMYSBRRUENHBALWISOSWHQJSBVVFCYVXWEDVRUENUMPNLVTMUMMIAOCJWBIUOSCSTVZPLYWIEADVGVNNXQFLBLIVXVDXEEUVRUDULPPSMEXSAOQQLJMJXVEOAGZRJVEVDCJRPDMJEOCCHRDJWLVTIFQIQIBGETLUPSTNLIISEPHVPNKVMMNYVECRMKEQAMLPYHMJMUAJDWFNMDMOUNHQLIARZFCFDQTNMUYOLIUHZULLRFLUGCTLAVTFRWKELULVWTUMGIWAXFVUEXHQLCPRQCRYLPDEXVVDHUVYCUVSYTTYGIAATCETJOVXPACUITSOVHPLIGSSTYGIXAKYENBLHMWSMGISCBDWTNAKEMLUHXCIMEHFPFXWLLWIWDENRMDEILHFBYQIAAZCEHRUYMEELVWPNGDMYTQVRFTFDWPVMIMUEXHWLPPPWJOHRQTEQEHVIMDREMIKVJSNHMXAOZRBTCRRLSWLVJRYEMPNYLIUANHXPLCZHJSDHWZIBJEOSBXTAEMKWBNMFMXIMIXVNYVGPRBVWQAMXRAOTKVPNFXKFBZVIUAHFMPNKFVCEUXZZYIXIVRJDVEILVWSIPDKPSLVPBNOLXOIADSJQOHPPSBKSONIPWPIOEIVRCDPLUFIMWAAHWOETRRVINSPFTWEMFNHHPPCWIFFAOGMEJIDEJSJOYDJMWYTEGHVGEQCPFQOHGPDQJKSAWLIFXDFPBTCOIPNBVREINVMQAKZPFMYQXWAXRVPLYEMPNYLITALHTZNAVRFUNSEDUVSMFNAUEYDAVRTENQIXENLXQAMGYYGZRRESYFSFRATESNIXWOEDFRTCIQZPNQIUVEDDQLIAZPOEZXXOOVEIBUHKSXMMMMWAHWHPVWZVVNILWPACRYEEMVYDDMCEQOLWIOEARGIAGEVPUVFMTEUXSFUVVFFTYVYCUVSYTTYVGFLXKIBUXHWDUAUIMAJRVEELVWBCBDQMRMJIOOGPEYTLLROOGWIWQCVNBMULWALCJQBIMOINOZSIBUJHVNHMJSMINDMCEUVRUSOUPPBCJXFPFDGTDMEIQRIIICAYLIDEGRXFNQHYFCIPQPSQUEOSWHQZTCEMRUYLPCEXRREACWXZUBVWPNUPITLVVTSOHRRNAZZIODYSPFSQCRFRYPYLPIJYOEJOYXERLWRUUFIBUMAINEJUMDSMRQVRGXVPRNRMCLYPIYTLRYURYVEXIAJITOHWHPJIVRWOFHWWOQEHFMILZPRACINANLRWUQRYTSCLPXEYLMUTYUENOUDINEMDRNIMERFSYVTPRIEGFSXHNLEVMSMEYVPZIAVEVDCWEWOZJNBMULWALCJXSEMVETLTRRUAOEVFIBUIDENWICEXFRTEDHXPEIMIDTUQXOAXISQOMVEYSLFYUEXLWUEKVUVIFSVZNWEGFEMWXZUBJSOBUJERELVWBVILVBUQCEQRCVGSEHHYFLKXIXAQKVFIHISCTCEIRUYOIXATYIVRCPTTTWPECLYDTZUZJYJVCDVOEUDIOTMDRDRMGMUJOVUFAKVUVEMHWNHIEWPNMQIFSAVRUPFXWBUCEWFUFUIQRIZRKUMTYLCMHYFLYGIARWWYODCVHPSWEITPYUEYCMVYUPLLWNEUVPBNWRPTQCVVFFLDMYJIDEJSDDQLIAGPVSGDMDLMTSSBYDYTNLLMTAHWIYCWIIUOOWIXABIMTTYDQPAAFYSILHNPRWLPBINRYEDMJYJTYXRDIMXIBCIXWDIVJIOFUFIOETFMTEUXIEDCSYTTYHXOETRTPRNHEWOZJQFNZRRNAVKHBNMOIGETFYSSDHQLPXCMRUULEPNKYEJNYUPPSQUIFSUXBTDMVWDHYUGSAVKGFQOHGPTILKVRUOSTSMRYEEMDRNIMEWKOOUWNEYLIDENUMDTMUMTGLDGTECOWJNCVXCEURMHRYHXLUOLVBLILWPACUITAHFMPNAASVRMYSFLIZXGACUIPNBVRERYHRNRWRWTAHWWZNRRQBIMSPFSRVQFTYQETSIZRTILHZLNBTSOJYFXFRIEXNACVRLDZVWTAHWTWUALRFSSOPLBMRPPIMHEFDWEXMEMBIFXIIHFNNVQPBZLPBIYQXXAQEXFNUQXUUAHYBUZRRODCTSFULMINHMIGIACVEOEDZRFRWHPLEBGPVSYQGZRMDEUENHVPPWJEOTUOETSMJYSLYYIWOCIWEUWRYDSQEUVEWDVPSARMULUOYXIMIIEEFDPLMXVGFVYOSFRAMMPLYWGLRMJWFPUUPLLCDMFRYGIWATRQQEKXIDABVXFAYOPPNMGVFSMHVLPTLWBHDDQLIAGPVSUOSCSQCQFSYPFWAYLIMACUWPPIZWTIMVETTXRVGUGHTLRCEIOCYQWZIZZRWIMLFWEYLICAFDRNAQVRUDYVWPRIGLJNMGSYTTVWQAMIVZLIZIOTFHXLPQJHFLUFLLMJIIJNZRVEUVVQFCLLETJMKSODCHYEALFROEJDVDEARRHEMLPEAMEZPYYGYCEXZXEULHTTTMKHVNYSIYTPVWEAHVXPSZVWTOOYIYIZJHFLYQSCEJFMTOBESTSKVFPNHHTPNBYITENRYMLQVGFTNHPPNWIIQELGYPLMTSSBYDYOIBAENACVTWUAGVPPBHXPDQJNFENUIOEURPIEOUSTSMRYPUXHQZNURMTTIXNZUZJTSOJKIEEYLIUUMRMDUVVRWOSHHFTMEXBTYXVZUYLIMANHQAEBVXBINVMXPTVQFNNHGSOCVRBUZUEREURMTEHFSCEQEXSEJLHPSCIGFTNHXPRZVHFSYUXPEVJSSCYOIPDIEWDEFRKTSXRVMHIUVPUZYEOTYGMDMWZWJNWHVPMMEXKENHRDUXGPJEYAMDTMKMMERLWEEBZPJCCXRMACDIEEDXHPELZWEIMMIEEVJYQPFLIWEKFVCEUXHTTRRQBIMSPFSXISQHYWIOIAAIFTLHHPMICLFULRMDEILSVDYPSYTWLNPULVTCOXYIUEJDVNEKZIMTYQHFSCIRPSNHXPSXRVDEXLIFQCVXPUMGIFXVFYTAXRVZNAUMTAWHXEEIDIDHUUKPELVHPUFHYCSQUEOSFHTLRIUMTLILREAQEIMLYSSFRZRINBLDWDEZLRFFCOPPSIZRUEKXIWEARRHEMQSXMMEXMEHRVPEUSVBSMHVFNMGVFCCHYDEMKVBYIQRLNBVJJLFHUFETVWBNAHWYOUDIOTFHRZRMCIDOLEILULZXKAGDMDPTLWRUYFIETMGESOFHWZIBCITIAQEWDMESURYVIAAZRXJOHRMDEILSVDYPSYHCIPBIDHIYMMIIERYVWLNBIIOTLHHLNACEUEGSIEEZVXPULQILUZZZBGYGIWAVLMUPFXXZNQVROEHHPLIAJIQAMLGTUVVWFUFHTWUUVRPILHGZMUVWPUPHRTRLLQFNMRRREYLIUOHDQPAXISGELHPLIAJINAMRPTTCUIJNPLSWEMHYJTNHGPBCJXFAOGIDSCJHFMUSSCTMRVSAWKIEOVSIDDYPSYCWVYSENSVPCQGMUENRRDPMTXSEFRMYDMDEQOLWIWEKFVCEUXHTTRRQBIMSPFSMKPFCIUFPACZQNUUEPPEAKXPUDRYCSQEWUAFOIEOCASVRMLRDTICPFSOUPPBCJXFPUOIOEXRPMAMMYDTMRYEEMVYDDMCEQOLWIOEURGIAGEVPEBJITYYXBZNBKSVTYOEDEUSPBNWHHPSGVYYDOQHPMWEUVILHZPEBCEMUGLICELVPBLUPTPEVIYJSMHPLNBJYSLOLTCORVXUEMRRZMJIITULOIALIEGIELHXXOVRQFHIUWOUKVVDLYGINEBKIPMVUIBUQXMUFFRXEAVKITULOIALIEGIELQIAOCIVBPFXWDETVZFRDDQLIAGPVS\""
   ]
  },
  {
   "cell_type": "code",
   "execution_count": null,
   "metadata": {},
   "outputs": [],
   "source": [
    "clef = AttaqueKasiski(TXT, 4)\n",
    "\n",
    "if(clef!=\"\") :\n",
    "    print(\"La clef est :\", clef)\n",
    "    print(\"Le message claire est :\")\n",
    "    print(D_VIGENERE(TXT, clef))\n",
    "    "
   ]
  }
 ],
 "metadata": {
  "kernelspec": {
   "display_name": "Python 3",
   "language": "python",
   "name": "python3"
  },
  "language_info": {
   "codemirror_mode": {
    "name": "ipython",
    "version": 3
   },
   "file_extension": ".py",
   "mimetype": "text/x-python",
   "name": "python",
   "nbconvert_exporter": "python",
   "pygments_lexer": "ipython3",
   "version": "3.6.2"
  }
 },
 "nbformat": 4,
 "nbformat_minor": 2
}
