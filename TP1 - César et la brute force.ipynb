{
 "cells": [
  {
   "cell_type": "markdown",
   "metadata": {},
   "source": [
    "<div id=\"haut2page\" style=\"border:3px solid black; padding:3%; font-size:314% ; text-align:center; color:white; background-color:black;\">\n",
    "    <img style=\"display:inline;\" alt=\"ataraXy\" src=\"http://www.ataraxy.info/IMAGE/favicon.ico\"> César et la brute force\n",
    "</div>\n",
    "<h3>Navigation dans la page</h3>\n",
    "<p>\n",
    "    Si c'est votre première visite dans ce TP, lisez attentivement chacun des points détaillé après ce paragraphe.<br>\n",
    "    Si vous avez déjà commencer à travailler sur ce TP et que vous souhaiter vous déplacer rapidement dans une partie précise vous pouvez choisir la partie que vous souhaitez rejoindre ci-dessous. <br>\n",
    "    <details open>\n",
    "        <summary><strong style=\"font-size:1.414em;color:green;\">Menu de navigation</strong></summary>\n",
    "        <ul>\n",
    "            <li><a href=\"#haut2page\">Haut de page</a></li>\n",
    "            <li><a href=\"#Partie0\">Partie 0 : <code>OutilsCrypto.py</code></a></li>\n",
    "            <li><a href=\"#Partie1\">Partie 1 : Chiffrement de César</a></li>\n",
    "            <li><a href=\"#Partie2\">Partie 2 : Brute force</a></li>\n",
    "            <li><a href=\"#Partie3\">Partie 3 : Brute force avec dictionnaire</a></li>\n",
    "        </ul>\n",
    "    </details>\n",
    "</p>\n",
    "\n",
    "<details>\n",
    "    <summary><strong style=\"font-size:1.414em\">Technologie jupyter</strong></summary>\n",
    "<p>\n",
    "    La technologie <em>jupyter</em> permet d'exécuter du code python par un simple clique sur <em>Executer</em> ci-dessus.<br> \n",
    "    Les morceaux de code de cette page sont interprétées case par case. Pour savoir quelle case a été interprétée avant une autre, il suffit de repérer le numéro devant la case. <br>\n",
    "    Une fois qu'une case a été interprétée (=exécutée), la page garde en mémoire les variables et fonctions lues<br>\n",
    "    La plateforme propose quelques outils de purge de la mémoire : \n",
    "    <ul>\n",
    "    <li>Il est possible de tout recommencer (dénuméroter) en choisissant dans le menu <em>Kernel</em> ci-dessus <em>Restart & Clear Output</em> pour purger la mémoire de toutes ses variables et de toutes ses executions </li> \n",
    "    <li>Dans le menu <em>Kernel</em> choisir <em>Restard & Run All</em> aura le même effet que <em>Restart & Clear Output</em> mais en plus relancera chacune des cases depuis le haut du document jusqu'en bas (renuméroter).</li>\n",
    "    </ul>\n",
    "</p>\n",
    "<div style=\"background-color:rgba(255, 0, 0, 0.19);padding:3%;\">\n",
    "    <h3 style=\"color:red;\">SAUVEGARDER VOTRE TRAVAIL</h3>\n",
    "    <p>\n",
    "        Pour ne pas perdre votre travail pensez à le sauvegarder régulièrement. Par défault, la sauvegarde par un clic sur la disquette en haut à gauche de page, ou par le racourci clavier classique <code>ctrl+S</code>\n",
    "    est une sauvegarde en local, sur le serveur de jupyter. Vous pouvez et devez très régulièrement sauvegarder votre travail sur votre support personnel de sauvegarde (clef USB, se l'envoyer par mail etc). Ce faisant vous disposerez d'un fichier  .ipynb (IPYthon NoteBook) qu'il vous suffira de recharger  pour avancer. Après le rechargement assurez vous que les fonctionnalités anciennement developpées et variables utilisées sont bien <em>dans la mémoire de la page</em> (en rééxecutant les cases, ou plus rapidement par <em>Kernel &gt; Restart & Run All</em>.</p>\n",
    "    <p> A NOTER : vous pouvez travailler sur le tp (et tout autre fichier .ipynb) hors connexion en installant une version local du notebook de jupyter. Il faut que votre machine possède un interpreteur de python et que vous soyez connecter à internet.\n",
    "        <ol>\n",
    "            <li>Lancer un terminal</li>\n",
    "            <li>Taper la commande suivante : <code>pip install jupyterlab</code></li>\n",
    "            <li>Une fois l'installation terminée portez votre attention sur les dernières lignes affichées dans votre terminal vous invitant probablement à taper une ligne de commande pour faire une mise à jour</li>\n",
    "            <li>Pour lancer notebook de jupyter, taper dans votre termial : <code>jupyter notebook</code></li>\n",
    "            <li>Votre simulateur de serveur est lancé. Il ne faut pas fermer votre terminal, auquel cas votre simulateur de serveur s'interompera. Suivez le lien indiqué dans les dernières lignes de votre terminal pour vous diriger vers votre espace local. L'interface se présente comme celle que vous trouverez sur le web. Votre travail sera cependant toujours enregistré et jamais perdu même si vous le consultez après plusieurs jours </li>\n",
    "        </ol>\n",
    "    </p>\n",
    "</div>\n",
    "</details>"
   ]
  },
  {
   "cell_type": "markdown",
   "metadata": {},
   "source": [
    "<div style=\"border:3px solid black; padding:3%; font-size:314% ; text-align:center; color:white; background-color:black;\" id=\"Partie0\">\n",
    "    Partie 0 : <code>OutilsCrypto.py</code>\n",
    "</div>\n",
    "<p>\n",
    "    <details>\n",
    "        <summary><strong style=\"font-size:1.414em;color:green;\">Menu de navigation</strong></summary>\n",
    "        <ul>\n",
    "            <li><a href=\"#haut2page\">Haut de page</a></li>\n",
    "            <li><a href=\"#Partie0\">Partie 0 : <code>OutilsCrypto.py</code></a></li>\n",
    "            <li><a href=\"#Partie1\">Partie 1 : Chiffrement de César</a></li>\n",
    "            <li><a href=\"#Partie2\">Partie 2 : Brute force</a></li>\n",
    "            <li><a href=\"#Partie3\">Partie 3 : Brute force avec dictionnaire</a></li>\n",
    "        </ul>\n",
    "    </details>\n",
    "</p>"
   ]
  },
  {
   "cell_type": "markdown",
   "metadata": {},
   "source": [
    "<p>Une bibliothèque regroupant quelques outils de la cryptologie vous ont été donnée. Chargeons l'intégralité des fonctionnalités qu'elle propose</p>"
   ]
  },
  {
   "cell_type": "code",
   "execution_count": null,
   "metadata": {},
   "outputs": [],
   "source": [
    "from OutilsCrypto import *"
   ]
  },
  {
   "cell_type": "markdown",
   "metadata": {},
   "source": [
    "<h3><code>codex</code></h3>\n",
    "<p>Cette fonction applique, comme en cours, le codex <em>pédagogique</em> base de notre étude : le caractère $\\texttt{A}$ est transformé en $0$, le $\\texttt{B}$ en 1 etcaetera jusqu'au $\\texttt{Z}$ qui est transformé en $25$. Exécuter la case suivante pour vous assurer du fonctionnement de cette fonction. Si le caractère n'est pas une lettre entre $\\texttt{A}$ et $\\texttt{Z}$, quel code erreur renverra la fonction ? Que dire de la case ?</p>"
   ]
  },
  {
   "cell_type": "code",
   "execution_count": null,
   "metadata": {},
   "outputs": [],
   "source": [
    "x='a'\n",
    "print(x, \"=\", codex(x))\n",
    "x='B'\n",
    "print(x, \"=\", codex(x))\n",
    "x='c'\n",
    "print(x, \"=\", codex(x))\n",
    "x='Z'\n",
    "print(x, \"=\", codex(x))\n",
    "x='9'\n",
    "print(x, \"=\", codex(x))\n",
    "x='('\n",
    "print(x, \"=\", codex(x))\n",
    "x='-'\n",
    "print(x, \"=\", codex(x))"
   ]
  },
  {
   "cell_type": "markdown",
   "metadata": {},
   "source": [
    "<h3><code>xedoc</code></h3>\n",
    "<p>Cette fonction applique, comme en cours, le codex <em>pédagogique</em> inversé (il s'agit du mot codex à l'envers) : le nombre $25$ renvoie le caractète $\\texttt{Z}$, le chiffre $4$ renvoie le caractère $\\texttt{E}$ etcaetera. Si le nombre n'est pas entre $0$ et $25$, quel code erreur renverra la fonction ? Que dire de la case ?</p>"
   ]
  },
  {
   "cell_type": "code",
   "execution_count": null,
   "metadata": {},
   "outputs": [],
   "source": [
    "n=0\n",
    "print(n, \"=\", xedoc(n))\n",
    "n=1\n",
    "print(n, \"=\", xedoc(n))\n",
    "n=4\n",
    "print(n, \"=\", xedoc(n))\n",
    "n=25\n",
    "print(n, \"=\", xedoc(n))\n",
    "n=26\n",
    "print(n, \"=\", xedoc(n))\n",
    "n=50\n",
    "print(n, \"=\", xedoc(n))\n",
    "n=-1\n",
    "print(n, \"=\", xedoc(n))"
   ]
  },
  {
   "cell_type": "markdown",
   "metadata": {},
   "source": [
    "<h3><code>paquet</code></h3>\n",
    "<p>Cette fonction prend une chaine de caractère <code>txt</code> et un entier <code>paq</code> et vas convertir la chaine en un tableau d'entier correspondant aux paquets de lettre de taille <code>paq</code>. Les paquet seront complété par des $0$ si la longueur de la chaine <code>txt</code> n'est pas multiple de <code>paq</code>. Executer la case suivante pour observer le comportement de cette fonction. Cette fonction renvoie en particulier le tableau vide en cas d'erreur</p>"
   ]
  },
  {
   "cell_type": "code",
   "execution_count": null,
   "metadata": {},
   "outputs": [],
   "source": [
    "txt=\"ABCD\"\n",
    "print(\"Sans taille de paquet :\", paquet(txt))\n",
    "print(\"Par paquet de 1 :\", paquet(txt, 1))\n",
    "print(\"Par paquet de 2 :\", paquet(txt, 2))\n",
    "print(\"Par paquet de 3 :\", paquet(txt, 3))\n",
    "txt=\"BONJOUR\"\n",
    "print(\"Par paquet de 2 :\", paquet(txt, 2))\n",
    "txt=\"Bonjour\"\n",
    "print(\"Par paquet de 2 :\", paquet(txt, 2))\n",
    "txt=\"Ca va ?\"\n",
    "print(\"Par paquet de 2 :\", paquet(txt, 2))"
   ]
  },
  {
   "cell_type": "markdown",
   "metadata": {},
   "source": [
    "<h3><code>Filtre</code></h3>\n",
    "<p>Cette fonction prend en paramètre une chaine de caractère et renvoie la même chaine où les caractères spéciaux ou accentués ont été transformé en leur forme génériques (les accents disparaissent). Les espaces et la ponctuation sont enlevés</p>"
   ]
  },
  {
   "cell_type": "code",
   "execution_count": null,
   "metadata": {},
   "outputs": [],
   "source": [
    "txt=\"Bonjour\"\n",
    "print(Filtre(txt))\n",
    "txt=\"Bonjour ca va ?\"\n",
    "print(Filtre(txt))\n",
    "txt=\"Tu me donnes ton 06 stp ?\"\n",
    "print(Filtre(txt))"
   ]
  },
  {
   "cell_type": "markdown",
   "metadata": {},
   "source": [
    "<h3><code>mod2base</code></h3>\n",
    "<p>Cette fonction prend en paramètre un entier correspondant à la taille des paquets et renvoie le modulo de base de travail.</p>"
   ]
  },
  {
   "cell_type": "code",
   "execution_count": null,
   "metadata": {},
   "outputs": [],
   "source": [
    "print(mod2base())\n",
    "print(mod2base(1))\n",
    "print(mod2base(2))\n",
    "print(mod2base(3))\n",
    "\n",
    "print(mod2base(-1))"
   ]
  },
  {
   "cell_type": "markdown",
   "metadata": {},
   "source": [
    "<div style=\"border:3px solid black; padding:3%; font-size:314% ; text-align:center; color:white; background-color:black;\" id=\"Partie1\">\n",
    "    Partie 1 : Chiffrement de César\n",
    "</div>\n",
    "\n",
    "<p>\n",
    "    <details>\n",
    "        <summary><strong style=\"font-size:1.414em;color:green;\">Menu de navigation</strong></summary>\n",
    "        <ul>\n",
    "            <li><a href=\"#haut2page\">Haut de page</a></li>\n",
    "            <li><a href=\"#Partie0\">Partie 0 : <code>OutilsCrypto.py</code></a></li>\n",
    "            <li><a href=\"#Partie1\">Partie 1 : Chiffrement de César</a></li>\n",
    "            <li><a href=\"#Partie2\">Partie 2 : Brute force</a></li>\n",
    "            <li><a href=\"#Partie3\">Partie 3 : Brute force avec dictionnaire</a></li>\n",
    "        </ul>\n",
    "    </details>\n",
    "</p>"
   ]
  },
  {
   "cell_type": "markdown",
   "metadata": {},
   "source": [
    "<p>Ecrire la fonction <code>Ecesar(txt, clef, paq=1)</code> qui a deux paramètres obligatoire et un paramètre optionnel:\n",
    "<ul>\n",
    "    <li><code>txt</code> : une chaine de caractère</li>\n",
    "    <li><code>clef</code> : un entier</li>\n",
    "    <li><code>paq</code> : la taille des paquets qui par défaut vaut 1</li>\n",
    "</ul>\n",
    "Cette fonction renvoie une chaine de caractère correspondant au chiffrement de César <code>txt</code> de clef <code>clef</code> par paquet de <code>paq</code>. Si <code>paq</code> vaut 1 alors la fonction devra retourner le décodage des entiers calculer. Sinon la fonction renverra une chaine de caractère correspondant aux entiers chiffrés du message séparé par des $\\texttt{-}$.<br>\n",
    "Par exemple le message $\\texttt{BONJOUR}$ de clef $3$ par paquet de 1 donne $\\texttt{ERQMRXU}$ alors que par paquet de 2, la fonction renvoie $\\texttt{117-1312-1423-1703}$.<br>\n",
    "\n",
    "La fonction renvoie la chaine vide (ie $\\texttt{\"\"}$) en cas d'erreur.\n",
    "</p>"
   ]
  },
  {
   "cell_type": "code",
   "execution_count": null,
   "metadata": {},
   "outputs": [],
   "source": [
    "def Ecesar(txt, clef, paq=1) :\n",
    "    return \"\""
   ]
  },
  {
   "cell_type": "markdown",
   "metadata": {},
   "source": [
    "<h3>Tests</h3>"
   ]
  },
  {
   "cell_type": "code",
   "execution_count": null,
   "metadata": {},
   "outputs": [],
   "source": [
    "txt=\"BONJOUR\"\n",
    "clef=3\n",
    "print(\"Par paquet de 1 :\", Ecesar(txt, clef))\n",
    "print(\"Par paquet de 2 :\", Ecesar(txt, clef, 2))\n",
    "txt=\"Il était une fois...\"\n",
    "clef=2020\n",
    "print(\"Par paquet de 2 :\", Ecesar(txt, clef, 2))\n",
    "print(\"Par paquet de 2 :\", Ecesar(Filtre(txt), clef, 2))"
   ]
  },
  {
   "cell_type": "markdown",
   "metadata": {},
   "source": [
    "<p>Ecrire la fonction <code>Dcesar(txt, clef, paq=1)</code> qui a deux paramètres obligatoire et un paramètre optionnel:\n",
    "<ul>\n",
    "    <li><code>txt</code> : une chaine de caractère</li>\n",
    "    <li><code>clef</code> : un entier</li>\n",
    "    <li><code>paq</code> : la taille des paquets qui par défaut vaut 1</li>\n",
    "</ul>\n",
    "Cette fonction renvoie une chaine de caractère correspondant au déchiffrement de César <code>txt</code> de clef <code>clef</code> par paquet de <code>paq</code>. <br>\n",
    "ATTENTION : si <code>paq</code> vaut 1 alors <code>txt</code> est une suite de lettre de l'alphabet. Sinon cette chaine est une suite d'entiers séparés par des $\\texttt{-}$. On pourra récupérer une liste de chaine de caractère des entiers par <code>txt.split('-')</code><br>\n",
    "La fonction renvoie la chaine vide (ie $\\texttt{\"\"}$) en cas d'erreur.\n",
    "</p>"
   ]
  },
  {
   "cell_type": "code",
   "execution_count": null,
   "metadata": {},
   "outputs": [],
   "source": [
    "def Dcesar(txt, clef, paq=1) :\n",
    "    return \"\""
   ]
  },
  {
   "cell_type": "markdown",
   "metadata": {},
   "source": [
    "<h3>Tests</h3>"
   ]
  },
  {
   "cell_type": "code",
   "execution_count": null,
   "metadata": {},
   "outputs": [],
   "source": [
    "#Test 1\n",
    "txt0=\"BONJOUR\"\n",
    "clef=3\n",
    "txt1=Ecesar(txt0, clef)\n",
    "txt2=Dcesar(txt1, clef)\n",
    "print(txt0)\n",
    "print(txt1)\n",
    "print(txt2)\n",
    "\n",
    "#Test 2\n",
    "txt=\"La vie n'est pas un long fleuve tranquille !\"\n",
    "txt0=Filtre(txt)\n",
    "clef=2020\n",
    "txt1=Ecesar(txt0, clef, 3)\n",
    "txt2=Dcesar(txt1, clef, 3)\n",
    "print(txt)\n",
    "print(txt0)\n",
    "print(txt1)\n",
    "print(txt2)"
   ]
  },
  {
   "cell_type": "markdown",
   "metadata": {},
   "source": [
    "<div style=\"border:3px solid black; padding:3%; font-size:314% ; text-align:center; color:white; background-color:black;\" id=\"Partie2\">\n",
    "    Partie 2 : Brute force\n",
    "</div>\n",
    "\n",
    "<p>\n",
    "    <details>\n",
    "        <summary><strong style=\"font-size:1.414em;color:green;\">Menu de navigation</strong></summary>\n",
    "        <ul>\n",
    "            <li><a href=\"#haut2page\">Haut de page</a></li>\n",
    "            <li><a href=\"#Partie0\">Partie 0 : <code>OutilsCrypto.py</code></a></li>\n",
    "            <li><a href=\"#Partie1\">Partie 1 : Chiffrement de César</a></li>\n",
    "            <li><a href=\"#Partie2\">Partie 2 : Brute force</a></li>\n",
    "            <li><a href=\"#Partie3\">Partie 3 : Brute force avec dictionnaire</a></li>\n",
    "        </ul>\n",
    "    </details>\n",
    "</p>\n"
   ]
  },
  {
   "cell_type": "markdown",
   "metadata": {},
   "source": [
    "<p>Dans cette dernière partie, on cherche à déchiffrer le messaque suivant : <br>\n",
    "$$\\texttt{2138-523-1651-1650-712-1434-1834-2338-412-721-212-708}$$    \n",
    "</p>"
   ]
  },
  {
   "cell_type": "code",
   "execution_count": null,
   "metadata": {},
   "outputs": [],
   "source": [
    "MESSAGE = \"2138-523-1651-1650-712-1434-1834-2338-412-721-212-708\""
   ]
  },
  {
   "cell_type": "markdown",
   "metadata": {},
   "source": [
    "<p>Ecrire une procédure <code>BruteForceCesar(txt, paq=1)</code> qui teste toutes les clefs possible et affiche, lorsque le message à pu etre décrypter, la liste des déchiffrement possibles.<p>"
   ]
  },
  {
   "cell_type": "code",
   "execution_count": null,
   "metadata": {},
   "outputs": [],
   "source": [
    "def BruteForceCesar(txt, paq=1) : \n",
    "    try : \n",
    "        txt=str(txt)\n",
    "        paq=int(paq)\n",
    "    except :\n",
    "        print(\"L'attaque ne fonctionne pas\")\n",
    "        return\n",
    "\n",
    "    print(\"---------------------------------\")\n",
    "    print(\"Début de l'attaque en froce brute\")\n",
    "    print(\"---------------------------------\")\n",
    "    top=time.time()\n",
    "    clef_valide = 0\n",
    "    #Mettre votre code ici\n",
    "    \n",
    "    temps=time.time()-top\n",
    "    print(\"Fin de l'attaque | \"+str(clef_valide)+\" clefs valides testées (\"+str(round(temps,3))+\"s)\")"
   ]
  },
  {
   "cell_type": "markdown",
   "metadata": {},
   "source": [
    "<h3>Tests</h3>"
   ]
  },
  {
   "cell_type": "code",
   "execution_count": null,
   "metadata": {},
   "outputs": [],
   "source": [
    "txt0=\"BONJOUR\"\n",
    "clef=3\n",
    "txt1=Ecesar(txt0, clef)\n",
    "BruteForceCesar(txt1)"
   ]
  },
  {
   "cell_type": "markdown",
   "metadata": {},
   "source": [
    "<h3>Attaque de <code>MESSAGE</code></h3>"
   ]
  },
  {
   "cell_type": "code",
   "execution_count": null,
   "metadata": {},
   "outputs": [],
   "source": [
    "BruteForceCesar(MESSAGE, 2)"
   ]
  },
  {
   "cell_type": "markdown",
   "metadata": {},
   "source": [
    "<p>En observant la liste précédente vous pourrez lire le message décrypter... mais...</p>"
   ]
  },
  {
   "cell_type": "markdown",
   "metadata": {},
   "source": [
    "<div style=\"border:3px solid black; padding:3%; font-size:314% ; text-align:center; color:white; background-color:black;\" id=\"Partie3\">\n",
    "    Partie 3 : Brute force avec dictionnaire\n",
    "</div>\n",
    "<p>\n",
    "    <details>\n",
    "        <summary><strong style=\"font-size:1.414em;color:green;\">Menu de navigation</strong></summary>\n",
    "        <ul>\n",
    "            <li><a href=\"#haut2page\">Haut de page</a></li>\n",
    "            <li><a href=\"#Partie0\">Partie 0 : <code>OutilsCrypto.py</code></a></li>\n",
    "            <li><a href=\"#Partie1\">Partie 1 : Chiffrement de César</a></li>\n",
    "            <li><a href=\"#Partie2\">Partie 2 : Brute force</a></li>\n",
    "            <li><a href=\"#Partie3\">Partie 3 : Brute force avec dictionnaire</a></li>\n",
    "        </ul>\n",
    "    </details>\n",
    "</p>"
   ]
  },
  {
   "cell_type": "markdown",
   "metadata": {},
   "source": [
    "<p>L'inconvenient avec la brute force est qu'il faut <em>lire</em> le message claire dans la liste des messages possible. Une alternative à ce travail de fourmis est d'analyser les messages déchiffrer et de déterminer lequel à le nombre de mot le plus élévé. Pour y arriver on va charger des dictionnaires. Exécuter le code suivant pour charger les différents dictionnaires proposée. ATTENTION : Cette opération peux prendre plusieurs secondes (environ 30). Un message de fin s'affichera lorsque le chargement sera terminé.</p>"
   ]
  },
  {
   "cell_type": "code",
   "execution_count": null,
   "metadata": {},
   "outputs": [],
   "source": [
    "print(\"-----> DéBUT DU CHARGMENT DES DICTIONNAIRES <-----\")\n",
    "top=time.time()\n",
    "lang=\"FR\"\n",
    "print(\"CHARGEMENT DU DICTIONNAIRE \\\"\", lang, \"\\\": \\tEN COURS\",end='')\n",
    "DICO_FR = MonDico(lang)\n",
    "print(\"\\rCHARGEMENT DU DICTIONNAIRE \\\"\", lang, \"\\\": \\tTERMINéE (en\", round(time.time()-top, 3), \"secondes)\")\n",
    "top=time.time()\n",
    "lang=\"ANG\"\n",
    "print(\"CHARGEMENT DU DICTIONNAIRE \\\"\", lang, \"\\\": \\tEN COURS\",end='')\n",
    "DICO_ANG = MonDico(lang)\n",
    "print(\"\\rCHARGEMENT DU DICTIONNAIRE \\\"\", lang, \"\\\": \\tTERMINéE (en\", round(time.time()-top, 3), \"secondes)\")\n",
    "top=time.time()\n",
    "lang=\"ESP\"\n",
    "print(\"CHARGEMENT DU DICTIONNAIRE \\\"\", lang, \"\\\": \\tEN COURS\",end='')\n",
    "DICO_ESP = MonDico(lang)\n",
    "print(\"\\rCHARGEMENT DU DICTIONNAIRE \\\"\", lang, \"\\\": \\tTERMINéE (en\", round(time.time()-top, 3), \"secondes)\")\n",
    "top=time.time()\n",
    "lang=\"IT\"\n",
    "print(\"CHARGEMENT DU DICTIONNAIRE \\\"\", lang, \"\\\": \\tEN COURS\",end='')\n",
    "DICO_IT = MonDico(lang)\n",
    "print(\"\\rCHARGEMENT DU DICTIONNAIRE \\\"\", lang, \"\\\": \\tTERMINéE (en\", round(time.time()-top, 3), \"secondes)\")\n",
    "print(\"-----> FIN DU CHARGMENT DES DICTIONNAIRES <-----\")"
   ]
  },
  {
   "cell_type": "markdown",
   "metadata": {},
   "source": [
    "<h3>La fonction <code>pertinence</code></h3>\n",
    "<p>\n",
    "Cette fonction prend deux paramètres : \n",
    "    <ul>\n",
    "        <li><code>phrase</code> : qui est une chaine de caractère</li>\n",
    "        <li><code>dico</code> : qui est l'un des dictionnaire chargé précédémment</li>\n",
    "    </ul>\n",
    "    Cette fonction retourne un entier correspondant au nombre de mot du dictionnaire reconnu dans la phrase.<br>\n",
    "    Par exemple dans le mot $\\texttt{BONJOUR}$ sont reconnus cinq mots du dictionnaire français : $\\texttt{BON}$,  $\\texttt{ON}$,  $\\texttt{JOUR}$,  $\\texttt{OU}$ et  $\\texttt{BONJOUR}$\n",
    "    </p>"
   ]
  },
  {
   "cell_type": "code",
   "execution_count": null,
   "metadata": {},
   "outputs": [],
   "source": [
    "#Affiche 5\n",
    "print(pertinence(\"BONJOUR\", DICO_FR))"
   ]
  },
  {
   "cell_type": "markdown",
   "metadata": {},
   "source": [
    "<p>Il en va de même en changeant la langue, qui doit être une donnée <em>a priori</em> et non <em>a posteriori</em>, comme le montre le contre-exemple.</p>"
   ]
  },
  {
   "cell_type": "code",
   "execution_count": null,
   "metadata": {},
   "outputs": [],
   "source": [
    "txt=\"BONJOUR\"\n",
    "print(\"Pertinance FR  :\", pertinence(txt, DICO_FR))\n",
    "print(\"Pertinance ANG :\", pertinence(txt, DICO_ANG))\n",
    "print(\"Pertinance ESP  :\", pertinence(txt, DICO_ESP))"
   ]
  },
  {
   "cell_type": "markdown",
   "metadata": {},
   "source": [
    "<p>Ecrire une procédure <code>BruteForceCesar_dico</code> qui prend en paramètre : \n",
    "<ul>\n",
    "   <li><code>txt</code> : un chaine de caractère correspondant au message à attaquer.</li>\n",
    "   <li><code>paq</code> : l'entier correspondant à l'hypothétique nombre de paquet utilisé.</li>\n",
    "   <li><code>DICO</code> : le dictionnaire correspondant à la langue hypothétique du message claire.</li>\n",
    "</ul>\n",
    "Comme son homonyme cette procédure réalise une attaque mais n'affiche que des chaines décryptées de plus en plus pertinente.\n",
    "</p>"
   ]
  },
  {
   "cell_type": "code",
   "execution_count": null,
   "metadata": {},
   "outputs": [],
   "source": [
    "def BruteForceCesar_dico(txt, paq=1, dico=DICO_FR) : \n",
    "    try : \n",
    "        txt=str(txt)\n",
    "        paq=int(paq)\n",
    "    except :\n",
    "        print(\"L'attaque ne fonctionne pas\")\n",
    "        return\n",
    "\n",
    "    print(\"\\t-----------------------------\")\n",
    "    print(\"\\tBRUTE FORCE AVEC DICTIONNAIRE\")\n",
    "    print(\"\\t-----------------------------\")\n",
    "    top=time.time()\n",
    "    \n",
    "    #Mettre votre code ici\n",
    "    \n",
    "    temps=time.time()-top\n",
    "    print(\"Le dernier message semble être le bon\")\n",
    "    print(\"Attaque terminée (\"+str(round(temps, 3))+\"s)\")\n",
    "    print(\"---------------------------------\")"
   ]
  },
  {
   "cell_type": "markdown",
   "metadata": {},
   "source": [
    "<h3>Tests</h3>"
   ]
  },
  {
   "cell_type": "code",
   "execution_count": null,
   "metadata": {},
   "outputs": [],
   "source": [
    "txt0=Filtre(\"My name is David. I'd like to have student who work\")\n",
    "clef=2020\n",
    "paq=2 \n",
    "txt1=Ecesar(txt0, clef, paq)\n",
    "print(\"Message claire :\", txt0)\n",
    "print(\"Message à attaquer :\", txt1)\n",
    "BruteForceCesar_dico(txt1, paq, DICO_ANG)"
   ]
  },
  {
   "cell_type": "markdown",
   "metadata": {},
   "source": [
    "<h3>Attaque de <code>MESSAGE</code></h3>"
   ]
  },
  {
   "cell_type": "code",
   "execution_count": null,
   "metadata": {},
   "outputs": [],
   "source": [
    "BruteForceCesar_dico(MESSAGE, 2, DICO_FR)"
   ]
  },
  {
   "cell_type": "markdown",
   "metadata": {},
   "source": [
    "<h3>Attaque final</h3>\n",
    "<p>Un chiffrement de César à été utilisé et le message obtenu est le suivant. Attaquez le et donner le nom de la personne qui a prononcé cette phrase à votre enseignant pour obtenir un bonus !\n",
    "$$\\texttt{62358-63351-235870-63054-124260-52854-43841}$$\n",
    "</p>"
   ]
  },
  {
   "cell_type": "code",
   "execution_count": null,
   "metadata": {},
   "outputs": [],
   "source": [
    "MESSAGE2 = \"62358-63351-235870-63054-124260-52854-43841\"\n",
    "BruteForceCesar_dico(MESSAGE2, 3, DICO_ANG)"
   ]
  },
  {
   "cell_type": "code",
   "execution_count": null,
   "metadata": {},
   "outputs": [],
   "source": []
  }
 ],
 "metadata": {
  "kernelspec": {
   "display_name": "Python 3",
   "language": "python",
   "name": "python3"
  },
  "language_info": {
   "codemirror_mode": {
    "name": "ipython",
    "version": 3
   },
   "file_extension": ".py",
   "mimetype": "text/x-python",
   "name": "python",
   "nbconvert_exporter": "python",
   "pygments_lexer": "ipython3",
   "version": "3.6.2"
  }
 },
 "nbformat": 4,
 "nbformat_minor": 2
}
