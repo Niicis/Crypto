{
 "cells": [
  {
   "cell_type": "markdown",
   "metadata": {},
   "source": [
    "<div id=\"haut2page\" style=\"border:3px solid black; padding:3%; font-size:314% ; text-align:center; color:white; background-color:black;\">\n",
    "    <img style=\"display:inline;\" alt=\"ataraXy\" src=\"http://www.ataraxy.info/IMAGE/favicon.ico\"> Introduction aux outils de python\n",
    "</div>\n",
    "<h3>Navigation dans la page</h3>\n",
    "<p>\n",
    "    Si c'est votre première visite dans ce TP, lisez attentivement chacun des points détaillé après ce paragraphe.<br>\n",
    "    Si vous avez déjà commencer à travailler sur ce TP et que vous souhaiter vous déplacer rapidement dans une partie précise vous pouvez choisir la partie que vous souhaitez rejoindre ci-dessous. <br>\n",
    "    <details open>\n",
    "        <summary><strong style=\"font-size:1.414em;color:green;\">Menu de navigation</strong></summary>\n",
    "        <ul>\n",
    "            <li><a href=\"#haut2page\">Haut de page</a></li>\n",
    "            <li><a href=\"#Partie1\">Python comme une calculatrice</a></li>\n",
    "            <li><a href=\"#Partie2\">Le calcul propositionnel en python</a></li>\n",
    "            <li><a href=\"#Partie3\">La puissance des boucles</a></li>\n",
    "            <li><a href=\"#Partie4\">Numération sur les nombres entiers</a></li>\n",
    "            <li><a href=\"#Partie5\">Numération sur les nombres décimaux</a></li>\n",
    "            <li><a href=\"#Partie6\">Graphiques en python</a></li>\n",
    "        </ul>\n",
    "    </details>\n",
    "</p>\n",
    "\n",
    "<details open>\n",
    "    <summary><strong style=\"font-size:1.414em\">Technologie jupyter</strong></summary>\n",
    "<p>\n",
    "    La technologie <em>jupyter</em> permet d'exécuter du code python par un simple clique sur <em>Executer</em> ci-dessus.<br> \n",
    "    Les morceaux de code de cette page sont interprétées case par case. Pour savoir quelle case a été interprétée avant une autre, il suffit de repérer le numéro devant la case. <br>\n",
    "    Une fois qu'une case a été interprétée (=exécutée), la page garde en mémoire les variables et fonctions lues<br>\n",
    "    La plateforme propose quelques outils de purge de la mémoire : \n",
    "    <ul>\n",
    "    <li>Il est possible de tout recommencer (dénuméroter) en choisissant dans le menu <em>Kernel</em> ci-dessus <em>Restart & Clear Output</em> pour purger la mémoire de toutes ses variables et de toutes ses executions </li> \n",
    "    <li>Dans le menu <em>Kernel</em> choisir <em>Restard & Run All</em> aura le même effet que <em>Restart & Clear Output</em> mais en plus relancera chacune des cases depuis le haut du document jusqu'en bas (renuméroter).</li>\n",
    "    </ul>\n",
    "</p>\n",
    "<div style=\"background-color:rgba(255, 0, 0, 0.19);padding:3%;\">\n",
    "    <h3 style=\"color:red;\">SAUVEGARDER VOTRE TRAVAIL</h3>\n",
    "    <p>\n",
    "        Pour ne pas perdre votre travail pensez à le sauvegarder régulièrement. Par défault, la sauvegarde par un clic sur la disquette en haut à gauche de page, ou par le racourci clavier classique <code>ctrl+S</code>\n",
    "    est une sauvegarde en local, sur le serveur de jupyter. Vous pouvez et devez très régulièrement sauvegarder votre travail sur votre support personnel de sauvegarde (clef USB, se l'envoyer par mail etc). Ce faisant vous disposerez d'un fichier  .ipynb (IPYthon NoteBook) qu'il vous suffira de recharger  pour avancer. Après le rechargement assurez vous que les fonctionnalités anciennement developpées et variables utilisées sont bien <em>dans la mémoire de la page</em> (en rééxecutant les cases, ou plus rapidement par <em>Kernel &gt; Restart & Run All</em>.</p>\n",
    "    <p> A NOTER : vous pouvez travailler sur le tp (et tout autre fichier .ipynb) hors connexion en installant une version local du notebook de jupyter. Il faut que votre machine possède un interpreteur de python et que vous soyez connecter à internet.\n",
    "        <ol>\n",
    "            <li>Lancer un terminal</li>\n",
    "            <li>Taper la commande suivante : <code>pip install jupyterlab</code></li>\n",
    "            <li>Une fois l'installation terminée portez votre attention sur les dernières lignes affichées dans votre terminal vous invitant probablement à taper une ligne de commande pour faire une mise à jour</li>\n",
    "            <li>Pour lancer notebook de jupyter, taper dans votre termial : <code>jupyter notebook</code></li>\n",
    "            <li>Votre simulateur de serveur est lancé. Il ne faut pas fermer votre terminal, auquel cas votre simulateur de serveur s'interompera. Suivez le lien indiqué dans les dernières lignes de votre terminal pour vous diriger vers votre espace local. L'interface se présente comme celle que vous trouverez sur le web. Votre travail sera cependant toujours enregistré et jamais perdu même si vous le consultez après plusieurs jours </li>\n",
    "        </ol>\n",
    "    </p>\n",
    "</div>\n",
    "</details>"
   ]
  },
  {
   "cell_type": "markdown",
   "metadata": {},
   "source": [
    "<div id=\"Partie1\" style=\"border:3px solid black; padding:3%; font-size:314% ; text-align:center; color:white; background-color:black;\">\n",
    "    Python comme une calculatrice\n",
    "</div>\n",
    "<p>\n",
    "    <details>\n",
    "        <summary><strong style=\"font-size:1.414em;color:green;\">Menu de navigation</strong></summary>\n",
    "        <ul>\n",
    "            <li><a href=\"#haut2page\">Haut de page</a></li>\n",
    "            <li><a href=\"#Partie1\">Python comme une calculatrice</a></li>\n",
    "            <li><a href=\"#Partie2\">Le calcul propositionnel en python</a></li>\n",
    "            <li><a href=\"#Partie3\">La puissance des boucles</a></li>\n",
    "            <li><a href=\"#Partie4\">Numération sur les nombres entiers</a></li>\n",
    "            <li><a href=\"#Partie5\">Numération sur les nombres décimaux</a></li>\n",
    "            <li><a href=\"#Partie6\">Graphiques en python</a></li>\n",
    "        </ul>\n",
    "    </details>\n",
    "</p>"
   ]
  },
  {
   "cell_type": "markdown",
   "metadata": {},
   "source": [
    "<p>Fan de la série télévisé des Monty python, Guido van Rossum, crée à la fin des années 80 un langage de programmation alors qu’il travaillait sur un autre. Il s’inspire de ce que les langages offrent de mieux à son époque et parvint à faire adopter\n",
    "ce langage à ses collègues de travail. Deux années après sa création, Python est rendu publique en open source. Ce langage a bénéficié de nombreuses avancées par de nombreux collaborateurs (comme la DARPA pour n’en cité qu’un) et a été entre autre pensé pour l’enseignement de l’informatique.</p>\n",
    "\n",
    "<p>Comme tout bon langage de programmation, il est de prime abord une calculatrice sophistiquée.</p>\n",
    "\n",
    "<p>Exéctuer la case suivante pour réaliser une simple addition.</p>"
   ]
  },
  {
   "cell_type": "code",
   "execution_count": null,
   "metadata": {},
   "outputs": [],
   "source": [
    "2+3"
   ]
  },
  {
   "cell_type": "markdown",
   "metadata": {},
   "source": [
    "<p>Comme vous l'observez, le mot <em>Out</em> est apparu à gauche. En effet, nous avons demandé à notre langage, python, de réaliser l'opération $2+3$ ; sans plus. C'est Jupyter (la plateforme que nous utilisons ici) qui comprend que nous souhaitons réaliser une addition et  la voir apparaitre. Comme jupyter est aussi gentil que python, il prend l'initiative de nous afficher la réponse. Nous allons revenir sur cette prise d'initiative (non mais oh !) mais explorons les différentes opérations que nous pouvons réaliser sur les nombres.</p>\n",
    "\n",
    "<p>\n",
    "<table>\n",
    "    <tr>\n",
    "        <td><code>+</code></td>\n",
    "        <td>pour l'addition</td>\n",
    "    </tr>\n",
    "    <tr>\n",
    "        <td><code>-</code></td>\n",
    "        <td>pour la soustraction</td>\n",
    "    </tr>\n",
    "    <tr>\n",
    "        <td><code>*</code></td>\n",
    "        <td>pour la multiplication</td>\n",
    "    </tr>\n",
    "    <tr>\n",
    "        <td><code>/</code></td>\n",
    "        <td>pour la division à virgule flottante</td>\n",
    "    </tr>\n",
    "    <tr>\n",
    "        <td><code>//</code></td>\n",
    "        <td>pour la division entière (sans partie décimale)</td>\n",
    "    </tr>\n",
    "    <tr>\n",
    "        <td><code>%</code></td>\n",
    "        <td>pour le modulo (le reste de la division euclidienne)</td>\n",
    "    </tr>\n",
    "    <tr>\n",
    "        <td><code>**</code></td>\n",
    "        <td>pour la puissance</td>\n",
    "    </tr>\n",
    "</table>\n",
    "</p>\n",
    "\n",
    "<h3>Exercice</h3>\n",
    "De tête, anticipez le résultat des opérations suivantes, et vérifiez vos résultats en tapant votre opération dans la case suivante.\n",
    "    <ol>\n",
    "        <li><code>2020-5</code></li>\n",
    "        <li><code>2020//5</code></li>\n",
    "        <li><code>2020/5</code></li>\n",
    "        <li><code>2020%5</code></li>\n",
    "        <li><code>2**5</code></li>\n",
    "    </ol>"
   ]
  },
  {
   "cell_type": "code",
   "execution_count": null,
   "metadata": {},
   "outputs": [],
   "source": []
  },
  {
   "cell_type": "markdown",
   "metadata": {},
   "source": [
    "<h3>Attention au arrondis</h3>\n",
    "<p>Comme tout logiciel de calcul, python réalise des erreurs d'approximation, parfois surprennante. Observer l'exécution de la case précédente.</p>"
   ]
  },
  {
   "cell_type": "code",
   "execution_count": null,
   "metadata": {},
   "outputs": [],
   "source": [
    "0.1+0.1+0.1+0.1+0.1+0.1+0.1+0.1+0.1+0.1"
   ]
  },
  {
   "cell_type": "markdown",
   "metadata": {},
   "source": [
    "<p>Les erreurs d'arrondis sont très insignifiantes mais très courrantes en informatique (pas qu'en python). Il faut garder en tête que lorsque les programmes indiquent que le résultat est 0, il s'agit en fait d'une valeur approchée de ce nombre.</p>"
   ]
  },
  {
   "cell_type": "markdown",
   "metadata": {},
   "source": [
    "<h3>Python et l'écriture scientifique</h3>\n",
    "<p>Python gère très bien l'écriture scienfique (avec ses erreurs d'arrondis intrinsec à tous les langages). Exécuter la case suivante.</p>"
   ]
  },
  {
   "cell_type": "code",
   "execution_count": null,
   "metadata": {},
   "outputs": [],
   "source": [
    "1.1234e-2+0.001"
   ]
  },
  {
   "cell_type": "markdown",
   "metadata": {},
   "source": [
    "<p>Réaliser les opérations suivantes :\n",
    "<ol>\n",
    "<li>$3.14\\ E\\ -2020+1\\ E -2019$</li>\n",
    "<li>$3.14\\ E\\ -20+1\\ E -19$</li>\n",
    "<li>$3.14\\ E\\ 20+1\\ E 19$</li>\n",
    "<li>$3.14\\ E\\ 2020+1\\ E 2019$</li>\n",
    "</ol>\n",
    "<p>"
   ]
  },
  {
   "cell_type": "code",
   "execution_count": null,
   "metadata": {},
   "outputs": [],
   "source": []
  },
  {
   "cell_type": "code",
   "execution_count": null,
   "metadata": {},
   "outputs": [],
   "source": []
  },
  {
   "cell_type": "code",
   "execution_count": null,
   "metadata": {},
   "outputs": [],
   "source": []
  },
  {
   "cell_type": "code",
   "execution_count": null,
   "metadata": {},
   "outputs": [],
   "source": []
  },
  {
   "cell_type": "markdown",
   "metadata": {},
   "source": [
    "<h3>Les fonctions classique</h3>\n",
    "<p>Comme n'importe quelle calculatrice, nous souhaitons pouvoir utiliser des fonctions comme le cosinus, la racine carré, le logarithme etc. Pour pouvoir utiliser ces fonctionnalités dites <em>avancées</em> il faut les <b>charger</b> dans le programme. Autrement dis : pour calculer la racine carré de $2$, il faut écrire un programme de calcul de la racine carré. Fort heureusement d'autre s'en sont déjà occupé ! Le fait de <b>charger</b> cette fonction reviens à aller chercher le code d'autre programmeur et de simplement l'utiliser. Toutes les fonctions mathématiques dont nous pourrions avoir besoin sont rangé dans une bibliothèque : <code>math</code> (original). Exécuter la case suivante pour charger les fonctions de math.</p>"
   ]
  },
  {
   "cell_type": "code",
   "execution_count": null,
   "metadata": {},
   "outputs": [],
   "source": [
    "from math import *"
   ]
  },
  {
   "cell_type": "markdown",
   "metadata": {},
   "source": [
    "<p>Une fois chargée, voici ce que vous pouvez à présent faire:\n",
    "\n",
    "<table>\n",
    "    <tr>\n",
    "        <th>Mathématiques</th>\n",
    "        <th>Python</th>\n",
    "    </tr>\n",
    "    <tr>\n",
    "        <td>$|x|$</td>\n",
    "        <td><code>abs(x)</code></td>\n",
    "    </tr>\n",
    "    <tr>\n",
    "        <td>$\\sqrt{x}$</td>\n",
    "        <td><code>sqrt(x)</code></td>\n",
    "    </tr>\n",
    "    <tr>\n",
    "        <td>$e^x$</td>\n",
    "        <td><code>exp(x)</code></td>\n",
    "    </tr>\n",
    "    <tr>\n",
    "        <td>$ln(x)$</td>\n",
    "        <td><code>log(x)</code></td>\n",
    "    </tr>\n",
    "    <tr>\n",
    "        <td>$log(x)$</td>\n",
    "        <td><code>log10(x)</code></td>\n",
    "    </tr>\n",
    "    <tr>\n",
    "        <td>$cos(x)$</td>\n",
    "        <td><code>cos(x)</code></td>\n",
    "    </tr>\n",
    "    <tr>\n",
    "        <td>$sin(x)$</td>\n",
    "        <td><code>sin(x)</code></td>\n",
    "    </tr>\n",
    "    <tr>\n",
    "        <td>$tan(x)$</td>\n",
    "        <td><code>tan(x)</code></td>\n",
    "    </tr>\n",
    "    <tr>\n",
    "        <td>$\\pi$</td>\n",
    "        <td><code>pi</code></td>\n",
    "    </tr>\n",
    "    <tr>\n",
    "        <td>$e(=e^1)$</td>\n",
    "            <td><code>e</code></td>\n",
    "    </tr>\n",
    "    <tr>\n",
    "        <td>$x^y$</td>\n",
    "        <td><code>pow(x, y)</code></td>\n",
    "    </tr>\n",
    "    <tr>\n",
    "        <td>$n!$</td>\n",
    "        <td><code>factorial(n)</code></td>\n",
    "    </tr>\n",
    "</table>\n",
    "</div>\n",
    "</p>\n",
    "<h3>Exercice</h3>\n",
    "<ol>\n",
    "    <li>Donner une valeur approchée de $\\sqrt{2}$.</li>\n",
    "    <li>Donner une valeur approchée du nombre d'or $\\dfrac{1+\\sqrt{5}}{2}$.</li>\n",
    "    <li>Donner une valeur approchée de $cos(6*6*6)$.</li>\n",
    "    <li>Donner une valeur approchée de $sin(666)$.</li>\n",
    "    <li>Donner une valeur approchée de $tan\\left(\\dfrac{\\pi}{2}\\right)$.</li>\n",
    "    <li>Donner la valeur de $2020!$.</li>\n",
    "</ol>"
   ]
  },
  {
   "cell_type": "code",
   "execution_count": null,
   "metadata": {},
   "outputs": [],
   "source": []
  },
  {
   "cell_type": "code",
   "execution_count": null,
   "metadata": {},
   "outputs": [],
   "source": []
  },
  {
   "cell_type": "code",
   "execution_count": null,
   "metadata": {},
   "outputs": [],
   "source": []
  },
  {
   "cell_type": "code",
   "execution_count": null,
   "metadata": {},
   "outputs": [],
   "source": []
  },
  {
   "cell_type": "code",
   "execution_count": null,
   "metadata": {},
   "outputs": [],
   "source": []
  },
  {
   "cell_type": "code",
   "execution_count": null,
   "metadata": {},
   "outputs": [],
   "source": []
  },
  {
   "cell_type": "markdown",
   "metadata": {},
   "source": [
    "<h3>Un peu plus qu'une calculatrice</h3>\n",
    "<p>Python peut faire bien mieux (et encore plus que ça) que ces opérations élémentaires. Le premier point important c'est que l'on peut stocker le résultat d'une opération dans une <b>variable</b> et utiliser cette variable pour d'autres opérations.<br> Pour utiliser une variable rien de plus simple : il faut la <b>déclarer</b> en la <b>nommant</b> et l'<b>initialiser</b> en lui attribuant une valeur. Il y a bien deux étapes pour jouer avec une variable : \n",
    "    <ul>\n",
    "        <li>La faire exister dans le programme : il suffit de lui donner un nom. <em>On peut nommer une variable comme on le souhaite avec quelques petites régles :\n",
    "            <ol>\n",
    "                <li>Le nom ne peut contenir que des caractères alphanumériques et le symbole underscore (le tiret du 8)</li>\n",
    "                <li>Le nom est sensible à la case. Les variables <code>x0y</code>, <code>X0y</code>, <code>x0Y</code> et <code>X0Y</code> sont différentes.</li>\n",
    "                <li>Le nom de la variables ne peut pas commencer par un chiffre.</li>\n",
    "                <li>Le nom de la variables ne peut pas être parmi une petite liste de mot réservé que nous découvrirons au fil de ce TP (nous les afficherons en <span style=\"color:green\">vert</span> dans cette page).</li>\n",
    "            </ol>\n",
    "        </em></li>\n",
    "        <li>Lui donner une valeur : cela passe par l'utilisation du <code>=</code></li>\n",
    "    </ul>\n",
    "    Ainsi <code>x=0</code> fera exister une variable <code>x</code> qui aura la valeur <code>0</code>. On peut ensuite faire sur <code>x</code> toutes les opérations que l'on souhaite (celle que l'on a vu plus haut) avec des valeurs numériques ou d'autres variables (qui contiennent des valeurs numérique).\n",
    "</p>\n",
    "\n",
    "<p>Pour afficher une ou plusieurs variables on utilise la fonction <code>print</code> (nous reviendrons sur la notion de fonction). Par exemple la commande <code>print(x)</code> affichera la valeur de la variable <code>x</code> (si elle existe dans le code ; une erreur sinon). De même <code>print(x, y, 0, z)</code> affichera la valeur de <code>x</code>, de <code>y</code>, le nombre <code>0</code> et la valeur de <code>z</code>.</p>\n",
    "\n",
    "<h3>Exercice</h3>\n",
    "<p>Lisez attentivement le code suivant et anticiper la valeur de <code>x</code>. Vérfier votre résultat en exécutant les deux cases suivantes.</p>"
   ]
  },
  {
   "cell_type": "code",
   "execution_count": null,
   "metadata": {},
   "outputs": [],
   "source": [
    "x=0\n",
    "a=1\n",
    "b=-1\n",
    "a=a+2*x\n",
    "x=a\n",
    "a=2*b-3*x\n",
    "x=a\n",
    "a=x"
   ]
  },
  {
   "cell_type": "code",
   "execution_count": null,
   "metadata": {},
   "outputs": [],
   "source": [
    "print(x)"
   ]
  },
  {
   "cell_type": "markdown",
   "metadata": {},
   "source": [
    "<h3>Un dernier commentaire</h3>\n",
    "<p>Lorsque nous réaliserons des codes un peu plus sophistiqué, il pourra être raisonnable de les commenter (pour comprendre ce qui nous est passé par la tête au moment de son ériture, ou si quelqu'u d'autre doit lire notre code).\n",
    "En python, il existe deux manière de faire un commentaires : \n",
    "    <ol>\n",
    "        <li><b>Sur une ligne</b> : il suffit de placer un <code>#</code> pour que tout ce qui suit ce symbole soit ignoré, jusqu'à la fin de la ligne.</li>\n",
    "        <li><b>Sur plusieurs lignes</b> : il suffit de placer trois guillemets (du 4) <code>'''</code> pour que tout ce qui suit ces symboles soit ignoré jusqu'au prochain triple guillemets.</li>\n",
    "    </ol>\n",
    "</p>"
   ]
  },
  {
   "cell_type": "code",
   "execution_count": null,
   "metadata": {},
   "outputs": [],
   "source": [
    "'''Voici un code commenté\n",
    "Il s'agit de l'exercice précédent '''\n",
    "#Initialisation\n",
    "x=0\n",
    "a=1\n",
    "b=-1\n",
    "\n",
    "#Opérations\n",
    "a=a+2*x #a est écrasé par a+2x soit 1+2*0=1. a vaut 1\n",
    "x=a #x est écrasé par la valeur de a. x vaut 1\n",
    "a=2*b-3*x #a est écrasé par 2b-3x=2*(-1)-3*1=-5\n",
    "x=a #x est écrasé par a. x vaut -5\n",
    "a=x #a est écrasé par x. a vaut -5\n",
    "\n",
    "#Affichage\n",
    "print(x)"
   ]
  },
  {
   "cell_type": "markdown",
   "metadata": {},
   "source": [
    "<div id=\"Partie2\" style=\"border:3px solid black; padding:3%; font-size:314% ; text-align:center; color:white; background-color:black;\">\n",
    "    Le calcul propositionnel en python\n",
    "</div>\n",
    "<p>\n",
    "    <details>\n",
    "        <summary><strong style=\"font-size:1.414em;color:green;\">Menu de navigation</strong></summary>\n",
    "        <ul>\n",
    "            <li><a href=\"#haut2page\">Haut de page</a></li>\n",
    "            <li><a href=\"#Partie1\">Python comme une calculatrice</a></li>\n",
    "            <li><a href=\"#Partie2\">Le calcul propositionnel en python</a></li>\n",
    "            <li><a href=\"#Partie3\">La puissance des boucles</a></li>\n",
    "            <li><a href=\"#Partie4\">Numération sur les nombres entiers</a></li>\n",
    "            <li><a href=\"#Partie5\">Numération sur les nombres décimaux</a></li>\n",
    "            <li><a href=\"#Partie6\">Graphiques en python</a></li>\n",
    "        </ul>\n",
    "    </details>\n",
    "</p>"
   ]
  },
  {
   "cell_type": "markdown",
   "metadata": {},
   "source": [
    "<p>Un proposition est un énoncé dont on peut dire sans ambiguïté qu'il est <em>vrai</em> ou qu'il est <em>faux</em>. En python le <em>vrai</em> et le <em>faux</em> sont représentés par le <code>1</code> ou plus proprement <code style=\"color:green\">True</code> (la majuscule est importante) pour <em>vrai</em> et le <code>0</code> ou plus proprement <code style=\"color:green\">False</code> pour <em>Faux</em>. Bien que cela n'ai pas vraiment de sens on peut additionner multiplier etc... les <code style=\"color:green\">True</code> et <code style=\"color:green\">False</code> avec des nombres. La variable <code style=\"color:green\">False</code> valant alors <code>0</code> et la variable <code style=\"color:green\">True</code> valant <code>1</code>.</p>"
   ]
  },
  {
   "cell_type": "code",
   "execution_count": null,
   "metadata": {},
   "outputs": [],
   "source": [
    "print(True+2)\n",
    "print(True+True)\n",
    "print( (True+True)/(False-4))"
   ]
  },
  {
   "cell_type": "markdown",
   "metadata": {},
   "source": [
    "<p>L'existence de  <code style=\"color:green\">True</code> et <code style=\"color:green\">False</code> permet de réaliser du calcul propositionnel. En python, il existe également les opérations de la logique, qui sont simplement la version anglophone de leur pendant français : \n",
    "\n",
    "<table>\n",
    "        <tr>\n",
    "            <th>Logique</th>\n",
    "            <th>Python</th>\n",
    "        </tr>\n",
    "        <tr>\n",
    "            <td>et</td>\n",
    "            <td><code style=\"color:green\">and</code></td>\n",
    "        </tr>\n",
    "        <tr>\n",
    "            <td>ou</td>\n",
    "            <td><code style=\"color:green\">or</code></td>\n",
    "        </tr>\n",
    "        <tr>\n",
    "            <td>non</td>\n",
    "            <td><code style=\"color:green\">not</code></td>\n",
    "        </tr>\n",
    "</table>\n",
    "</p>\n",
    "<h3>\n",
    "Exercice\n",
    "</h3>\n",
    "<p>Anticiper le résultat des affichages suivant et vérifier vos résultats en exécutant la case.</p>"
   ]
  },
  {
   "cell_type": "code",
   "execution_count": null,
   "metadata": {},
   "outputs": [],
   "source": [
    "#1\n",
    "test = (True and False) \n",
    "print(test)\n",
    "\n",
    "#2\n",
    "test = (True or False) \n",
    "print(test)\n",
    "\n",
    "#3\n",
    "test = (not True or False) \n",
    "print(test)\n",
    "\n",
    "#4\n",
    "test = (not (True or False)) \n",
    "print(test)\n",
    "\n",
    "#5\n",
    "test = (not (True and not False)) \n",
    "print(test)\n",
    "\n",
    "#6\n",
    "test = (not(True and False) and (True and not False or (True and not(not False and True)))) \n",
    "print(test)"
   ]
  },
  {
   "cell_type": "markdown",
   "metadata": {},
   "source": [
    "<h1>Test sur les nombres</h1>\n",
    "<p>On peut tester si des variables prennent des valeurs particulières ou sont plus grandes ou plus petites que ces dites valeurs. Elles sont toutes très instinctives comme sur les exemples suivants : \n",
    "<ul>\n",
    "<li><code>3*x-1&lt;1/2*y</code> renverra <code style=\"color:green\">True</code> si $3x-1$ est strictement inférieur à $\\dfrac{1}{2}y$ et <code style=\"color:green\">False</code> sinon.</li>\n",
    "<li><code>x**2&gt;=(y**3%2020)</code> renverra <code style=\"color:green\">True</code> si $x^2$ est supérieur ou égale au reste de la division euclidienne de $y^3$ par $2020$ et <code style=\"color:green\">False</code> sinon.</li>\n",
    "</ul>\n",
    "\n",
    "Une opération différe légèrement, c'est le test d'égalité. En effet le symbole <code>=</code> est déjà réservé en python et permet l'affectation d'une valeur à une variable. Pour tester une égalité, on utilise le double égale <code>==</code>. Ainsi\n",
    "<code>x=0</code> affecte la valeur <code>0</code> à la variable <code>x</code> tandis que <code>x==0</code> renverra <code style=\"color:green\">True</code> si <code>x</code> est nul et <code style=\"color:green\">False</code> sinon.\n",
    "</p>\n",
    "<p>Il y a aussi une petite simplification de code offerte par python. Le code <code>not (x==0)</code> s'écrit aussi <code>x!=0</code>.</p>\n",
    "<h3>\n",
    "Exercice\n",
    "</h3>\n",
    "<p>Anticiper le résultat des affichages suivant et vérifier vos résultats en exécutant la case.</p>"
   ]
  },
  {
   "cell_type": "code",
   "execution_count": null,
   "metadata": {},
   "outputs": [],
   "source": [
    "#Initialisation\n",
    "x = 1\n",
    "y = 10\n",
    "z = 100\n",
    "\n",
    "#1\n",
    "Test = (10*x>y)\n",
    "print(Test)\n",
    "\n",
    "#2\n",
    "Test = (10*x>=y)\n",
    "print(Test)\n",
    "\n",
    "#3\n",
    "Test = (10*x==y)\n",
    "print(Test)\n",
    "\n",
    "#4\n",
    "Test = (x+y+z%y==x)\n",
    "print(Test)\n",
    "\n",
    "#5\n",
    "Test = ((x+y+z)%y==x)\n",
    "print(Test)"
   ]
  },
  {
   "cell_type": "markdown",
   "metadata": {},
   "source": [
    "<h1>Les exécutions conditionnelles</h1>\n",
    "    \n",
    "<p>Elles permettent d'exécuter un bout de code si une condition est satisfaite, un autre bout de code sinon.<br>\n",
    "<blockquote style=\"font-style:italic\">\n",
    "    si <code>Test</code> est vrai alors faire : <br>\n",
    "        &nbsp;&nbsp;&nbsp;&nbsp;&nbsp;un bout de code<br>\n",
    "    sinon faire : <br>\n",
    "    &nbsp;&nbsp;&nbsp;&nbsp;&nbsp;un autre bout de code<br>\n",
    "</blockquote>\n",
    "Dont les mots clef du python sont <code style=\"color:green\">if</code> (pour le <em>si</em>) et <code style=\"color:green\">else</code> (pour le <em>sinon</em>). Il faut aussi faire suivre le test par <code>:</code>.\n",
    "ATTENTION : il est important que les <em>bout de code</em> soit tabulés comme dans l'exemple suivant.\n",
    "</p>"
   ]
  },
  {
   "cell_type": "code",
   "execution_count": null,
   "metadata": {},
   "outputs": [],
   "source": [
    "#Initialisation\n",
    "x = 1\n",
    "y = 10\n",
    "z = 100\n",
    "\n",
    "#Exemple 1\n",
    "if (x+y+z%y==x) :\n",
    "    print(x+y+z%y==x)\n",
    "    print(\"Le test est vrai\")\n",
    "else :\n",
    "    print(x+y+z%y==x)\n",
    "    print(\"Le test est faux\")\n",
    "    \n",
    "#Exemple 2\n",
    "if ((x+y+z)%y==x) :\n",
    "    print((x+y+z)%y==x)\n",
    "    print(\"Le test est vrai\")\n",
    "else :\n",
    "    print((x+y+z)%y==x)\n",
    "    print(\"Le test est faux\")\n",
    "    "
   ]
  },
  {
   "cell_type": "markdown",
   "metadata": {},
   "source": [
    "<div id=\"Partie3\" style=\"border:3px solid black; padding:3%; font-size:314% ; text-align:center; color:white; background-color:black;\">\n",
    "    La puissance des boucles\n",
    "</div>\n",
    "<p>\n",
    "    <details>\n",
    "        <summary><strong style=\"font-size:1.414em;color:green;\">Menu de navigation</strong></summary>\n",
    "        <ul>\n",
    "            <li><a href=\"#haut2page\">Haut de page</a></li>\n",
    "            <li><a href=\"#Partie1\">Python comme une calculatrice</a></li>\n",
    "            <li><a href=\"#Partie2\">Le calcul propositionnel en python</a></li>\n",
    "            <li><a href=\"#Partie3\">La puissance des boucles</a></li>\n",
    "            <li><a href=\"#Partie4\">Numération sur les nombres entiers</a></li>\n",
    "            <li><a href=\"#Partie5\">Numération sur les nombres décimaux</a></li>\n",
    "            <li><a href=\"#Partie6\">Graphiques en python</a></li>\n",
    "        </ul>\n",
    "    </details>\n",
    "</p>"
   ]
  },
  {
   "cell_type": "markdown",
   "metadata": {},
   "source": [
    "<p>La puissance de n'importe quel (bon) langage de programmation viens de ce que l'on appel des <em>boucles</em>. C'est à dire l'instruction qui demande de réaliser une ou plusieurs ligne de code tant qu'une certaine proposition n'est pas fausse. Le plus : l'ordinateur ne se plaindra pas si cette boucle dure mille ans !</p>\n",
    "\n",
    "<p> Il existe deux type de boucle. Pour simplifier ce cours nous n'en présentons qu'une (la plus simple). Il sagit du <code style=\"color:green\">while</code> qui se traduit par <em>tant que</em>.\n",
    "<br>\n",
    "<blockquote style=\"font-style:italic\">\n",
    "    Tant que <code>Test</code> est vrai alors faire : <br>\n",
    "        &nbsp;&nbsp;&nbsp;&nbsp;&nbsp;un bout de code<br>\n",
    "    sinon faire la suite\n",
    "</blockquote>\n",
    "Comme pour le <code style=\"color:green\">if</code>, il faut faire suivre le test par <code>:</code> et placer le <em>le bout de code</em> dans une zone tabulée. Voici un exemple\n",
    "</p>"
   ]
  },
  {
   "cell_type": "code",
   "execution_count": null,
   "metadata": {},
   "outputs": [],
   "source": [
    "i=1\n",
    "while(i<=5) :\n",
    "    print(i)\n",
    "    i=i+1"
   ]
  },
  {
   "cell_type": "markdown",
   "metadata": {},
   "source": [
    "<h3>Exercice</h3>\n",
    "<p>Pour chacune des cases suivantes, indiquer ce qu'affichera le programme et vérifier en l'éxécutant.</p>"
   ]
  },
  {
   "cell_type": "code",
   "execution_count": null,
   "metadata": {},
   "outputs": [],
   "source": [
    "i=10\n",
    "while(i>=0) :\n",
    "    print(i**2)\n",
    "    i=i-2"
   ]
  },
  {
   "cell_type": "code",
   "execution_count": null,
   "metadata": {
    "scrolled": true
   },
   "outputs": [],
   "source": [
    "x=1\n",
    "y=0\n",
    "while(x!=y) :\n",
    "    print(x, y)\n",
    "    if(x>y) :\n",
    "        y=y+2\n",
    "    else : \n",
    "        x=x+1\n",
    "print(x, y)"
   ]
  },
  {
   "cell_type": "code",
   "execution_count": null,
   "metadata": {},
   "outputs": [],
   "source": [
    "a=2\n",
    "b=-1\n",
    "while(a+b==0) : \n",
    "    print(a+b)\n",
    "print(a+b)"
   ]
  },
  {
   "cell_type": "code",
   "execution_count": null,
   "metadata": {},
   "outputs": [],
   "source": [
    "a=1\n",
    "b=-1\n",
    "while(a+b==0) : \n",
    "    print(a+b)\n",
    "print(a+b)"
   ]
  },
  {
   "cell_type": "markdown",
   "metadata": {},
   "source": [
    "<div id=\"Partie4\" style=\"border:3px solid black; padding:3%; font-size:314% ; text-align:center; color:white; background-color:black;\">\n",
    "    Numération sur les nombres entiers\n",
    "</div>\n",
    "<p>\n",
    "    <details>\n",
    "        <summary><strong style=\"font-size:1.414em;color:green;\">Menu de navigation</strong></summary>\n",
    "        <ul>\n",
    "            <li><a href=\"#haut2page\">Haut de page</a></li>\n",
    "            <li><a href=\"#Partie1\">Python comme une calculatrice</a></li>\n",
    "            <li><a href=\"#Partie2\">Le calcul propositionnel en python</a></li>\n",
    "            <li><a href=\"#Partie3\">La puissance des boucles</a></li>\n",
    "            <li><a href=\"#Partie4\">Numération sur les nombres entiers</a></li>\n",
    "            <li><a href=\"#Partie5\">Numération sur les nombres décimaux</a></li>\n",
    "            <li><a href=\"#Partie6\">Graphiques en python</a></li>\n",
    "        </ul>\n",
    "    </details>\n",
    "</p>"
   ]
  },
  {
   "cell_type": "markdown",
   "metadata": {},
   "source": [
    "<p>Comme <em>dans la vie de tous les jours pour les humains</em> la base de numération canonique de python est la base 10. Dans cette partie nous allons nous intérésser à d'autre base. Cependant, comme python est gentil et que pour un ordinateur, le binaire, l'octal et l'héxadécimal sont usuelles, il existe des opération de conversion automatique.\n",
    "<ul>\n",
    "    <li><b>Le binaire</b> : pour ne pas confondre le nombre décimal $1010$ le nombre binaire $1010$ python fait précéder les nombres binaire par <code>0b</code>. La fonction <code style=\"color:green\">bin</code> converti un nombre décimal en binaire.</li>\n",
    "    <li><b>L'octal</b> : Comme pour le binaire, pour éviter toute confusion, python fait précéder les nombres octaux par <code>0o</code>. La fonction <code style=\"color:green\">oct</code> converti un nombre décimal en octal.</li>\n",
    "    <li><b>L'héxadécimal</b> : Comme pour le binaire et l'octal, pour éviter toute confusion, python fait précéder les nombres héxadécimaux par <code>0x</code>. La fonction <code style=\"color:green\">hex</code> converti un nombre décimal en hexadécimal.</li>\n",
    "    <li><b>Le décimal</b> : Cette fois pas de préfixe. La fonction <code style=\"color:green\">int</code> converti un nombre décimal quelque soit sa base de départ (pourvu que le chiffre passé en paramètre possède le bon préfixe).</li>\n",
    "</ul>\n",
    "Exécuter la case suivante pour observer les résultats.\n",
    "</p>"
   ]
  },
  {
   "cell_type": "code",
   "execution_count": null,
   "metadata": {},
   "outputs": [],
   "source": [
    "x=10\n",
    "\n",
    "#En binaire\n",
    "x_en_binaire=bin(x)\n",
    "print(x_en_binaire)\n",
    "\n",
    "#En octal\n",
    "x_en_octal=oct(x)\n",
    "print(x_en_octal)\n",
    "\n",
    "#En héxadécimal\n",
    "x_en_hexa=hex(x)\n",
    "print(x_en_hexa)\n",
    "\n",
    "#Retour en décimale\n",
    "print(int(0b1111111111))\n",
    "print(int(0o7777777777))\n",
    "print(int(0xFFFFFFFFFF))"
   ]
  },
  {
   "cell_type": "markdown",
   "metadata": {},
   "source": [
    "<p>Tout comme précédement, nous pouvons sur les bases $2$, $8$ et $16$ réaliser des opérations et des test en précisant bien à python laquelle de ces bases nous utilisons en indiquant le préfixe.\n",
    "<ul>\n",
    "    <li><b>PLUS</b> : peut importe les base, python converti et réalise l'opération</li>\n",
    "    <li><b>MOINS</b> : sans insctruction contraire, python affiche en décimale</li>\n",
    "</ul>\n",
    "</p>\n",
    "<h3>Exercices</h3>\n",
    "<p>Avec ces informations, anticipez les résultats des opérations suivantes et vérifier les en exécutant la case.</p>"
   ]
  },
  {
   "cell_type": "code",
   "execution_count": null,
   "metadata": {},
   "outputs": [],
   "source": [
    "#Initialisation+opérations\n",
    "x=0b1010+0x10\n",
    "y=0b1010+0o10\n",
    "z=0b1010+0b10\n",
    "\n",
    "#Affichage\n",
    "print(x, y, z)\n",
    "\n",
    "#1\n",
    "if(x==26) : \n",
    "    print(\"x vaut 26\")\n",
    "else : \n",
    "    print(\"x ne vaut pas 26\")\n",
    "\n",
    "#2\n",
    "if(y==0x18) : \n",
    "    print(\"y vaut 18 en base 16\")\n",
    "else : \n",
    "    print(\"y ne vaut pas 18 en base 16\")\n",
    "    \n",
    "#3\n",
    "print(bin(z))"
   ]
  },
  {
   "cell_type": "markdown",
   "metadata": {},
   "source": [
    "<h1>Les autres bases</h1> \n",
    "<p>Là,  les choses se compliquent : rien n'est automatisé SAUF pour revenir en décimale. Il s'agit encore une fois de la fonction <code style=\"color:green\">int</code> mais avec deux paramètres : \n",
    "    <ol>\n",
    "        <li>Le nombre quelque soit sa base, <b>placé entre guillemets</b></li>\n",
    "        <li>La base de ce nombre</li>\n",
    "    </ol>\n",
    "    Ainsi <code><span style=\"color:green\">int</span>(0b1010)</code> et <code><span style=\"color:green\">int</span>(\"1010\", 2)</code> sont équivalents. <br>\n",
    "    <b>ATTENTION</b> : python ne pourra rien faire si vous travailler en base sexadécimale ou dans la base indienne. La plus grande base possible pour ce langage est la base 36 dont les caractères de notations sont <code>0</code>, <code>1</code>,...,<code>9</code> puis comme pour l'héxadécimale <code>a</code>, <code>b</code> jusqu'à <code>z</code> (10 chiffres et 26 lettres soit une base maximale de 36).\n",
    "</p>\n",
    "<h3>Vers notre prémier programme : les chaines de caractères</h3>\n",
    "<p>A présent l'objectif est d'écrire un programme qui transforme n'importe quelle nombre en décimale en un nombre en base <code>b</code> quelconque que nous supposerons inférieur à 36 pour pouvoir utiliser la fonction <code style=\"color:green\">int</code> pour vérfier notre calcul. Mais cette fonction prend des chiffres entre guillemets. Ce n'est pas autre chose qu'une <code>chaine de caractère</code>. Ainsi pour python <code>0</code> est le nombre $0$ mais <code>\"0\"</code> est une chaine de caractère, composé du seul caractère $0$. De même <code>\"Salut ! Ca va les mathématiques\"</code>. Comme pour les nombres nous pouvons stocker les chaines de caractères dans des variables et comme pour les nombres nous pouvons réaliser quelques opérations. Nous n'en détaillons qu'une : la concaténation qui passe par l'opération <code>+</code>. Prenez garde : \n",
    "<ul>\n",
    "    <li><code>10+1</code> renvoie le nombre <code>11</code>.</li>\n",
    "    <li><code>\"10\"+\"1\"</code> renvoie la chaine <code>\"101\"</code>.</li>\n",
    "    <li><code>\"10\"+1</code> est une erreur.</li>\n",
    "</ul>\n",
    "</p>"
   ]
  },
  {
   "cell_type": "code",
   "execution_count": null,
   "metadata": {},
   "outputs": [],
   "source": [
    "print(10+1)\n",
    "print(\"10\"+\"1\")\n",
    "print(\"10\"+1)"
   ]
  },
  {
   "cell_type": "markdown",
   "metadata": {},
   "source": [
    "<p>Quelques petit plus : \n",
    "<ul>\n",
    "    <li>La fonction <code style=\"color:green\">str</code> permet de transformer un nombre en chaine de caractère et la fonction <code style=\"color:green\">int</code> (encore) fait l'inverse !</li>\n",
    "    <li>Pour accéder au $i$-ième caractère d'une chaine <code>x</code> on fait <code>x[i]</code>.</li>\n",
    "    <li>La longueur d'une chaine <code>x</code> (le nombre de caractère) est donné par <code><span style=\"color:green\">len</span>(x)</code>.</li>\n",
    "</ul>\n",
    "</p>\n",
    "\n",
    "<h3>Exercice</h3>\n",
    "<p>Qu'affichera le code suivant ? Vérifiez votre résultat en exécutant la case.</p>"
   ]
  },
  {
   "cell_type": "code",
   "execution_count": null,
   "metadata": {},
   "outputs": [],
   "source": [
    "x=1\n",
    "y=10\n",
    "z=str(x)+str(y)\n",
    "t=str(y)+str(x)\n",
    "u=int(z)+int(t)\n",
    "v=str(u)\n",
    "print(v[len(v)-1])"
   ]
  },
  {
   "cell_type": "markdown",
   "metadata": {},
   "source": [
    "<h3>Vers notre premier programme : les fonctions</h3>\n",
    "<p>Comme pour les meilleurs films... nous avons déjà spoiler la fin (Daenerys meurt à la fin) ! Nous avons en effet déjà rencontré les <em>fonctions</em> en python : <code style=\"color:green\">print</code>, <code style=\"color:green\">int</code>, <code style=\"color:green\">hex</code>, <code style=\"color:green\">sqrt</code> etc. Pour définir une fonction on utilise le mot clef <code style=\"color:green\">def</code> suivit du nom de la fonction (qui doit respecter les même règles que les variables), puis les paramètres puis <code>:</code> puis le code de la fonction. Pour indiquer la valeur renvoyée par la fonction, on utilise le mot clef <code style=\"color:green\">return</code> qui intérompt l'appel de la fonction (donc une fonction s'intérompt si elle renvoie une valeur, soit si on arrive à la fin de ce qui la définie).</p>\n",
    "<h3>Exercice</h3>\n",
    "<p>Voici un exemple de fonction. Que feront les appels de la case suivante. Vérifier vos résultats en éxécutant les cases.</p>"
   ]
  },
  {
   "cell_type": "code",
   "execution_count": null,
   "metadata": {},
   "outputs": [],
   "source": [
    "def mystere(f, x) :\n",
    "    if(x<=0) : \n",
    "        return 0\n",
    "    x=x**2\n",
    "    return f(x)"
   ]
  },
  {
   "cell_type": "code",
   "execution_count": null,
   "metadata": {},
   "outputs": [],
   "source": [
    "x=-1\n",
    "print(mystere(log10, x))\n",
    "\n",
    "x=exp(2)\n",
    "print(mystere(log, x))\n",
    "\n",
    "x=121\n",
    "print(mystere(sqrt, x))"
   ]
  },
  {
   "cell_type": "markdown",
   "metadata": {},
   "source": [
    "<h3>Ca y est ! Notre premier programme</h3>\n",
    "<p>Dans la case suivante écrire la fonction <code>ChangeBase(n, b)</code> qui prend un entier <code>n</code> (que l'on supposera positif) et une base <code>b</code> (que l'on supposera strictement supérieur à $1$ et inférieur ou égale à $36$) et qui renvoie la <b>chaine de caractère</b> du nombre <code>n</code> en base <code>b</code>.</p>"
   ]
  },
  {
   "cell_type": "code",
   "execution_count": null,
   "metadata": {},
   "outputs": [],
   "source": [
    "def ChangeBase(n,b) :\n",
    "    return \"\""
   ]
  },
  {
   "cell_type": "code",
   "execution_count": null,
   "metadata": {},
   "outputs": [],
   "source": [
    "n0 = 123 #Vous pouvez vous amuser à changer ce nombre \n",
    "n2 = ChangeBase(n0, 2)\n",
    "n8 = ChangeBase(n0, 8)\n",
    "n16 = ChangeBase(n0, 16)\n",
    "\n",
    "if('0b'+n2==bin(n0)) : print(\"OK\")\n",
    "else : print(\"Problème avec la base 2\")\n",
    "    \n",
    "if('0o'+n8==oct(n0)) : print(\"OK\")\n",
    "else : print(\"Problème avec la base 8\")\n",
    "    \n",
    "if('0x'+n16==hex(n0)) : print(\"OK\")\n",
    "else : print(\"Problème avec la base 16\")\n",
    "\n",
    "b=12#Vous pouvez vous amuser à changer ce nombre\n",
    "nb=ChangeBase(n0, b)\n",
    "print(\"Sinon\", n0, \"en base\", b, \"c'est\", ChangeBase(n0, b))\n",
    "print(\"D'ailleurs avec la fonction int on retrouve\", int(nb, b))"
   ]
  },
  {
   "cell_type": "markdown",
   "metadata": {},
   "source": [
    "<div id=\"Partie6\" style=\"border:3px solid black; padding:3%; font-size:314% ; text-align:center; color:white; background-color:black;\">\n",
    "    Graphiques en python\n",
    "</div>\n",
    "<p>\n",
    "    <details>\n",
    "        <summary><strong style=\"font-size:1.414em;color:green;\">Menu de navigation</strong></summary>\n",
    "        <ul>\n",
    "            <li><a href=\"#haut2page\">Haut de page</a></li>\n",
    "            <li><a href=\"#Partie1\">Python comme une calculatrice</a></li>\n",
    "            <li><a href=\"#Partie2\">Le calcul propositionnel en python</a></li>\n",
    "            <li><a href=\"#Partie3\">La puissance des boucles</a></li>\n",
    "            <li><a href=\"#Partie4\">Numération sur les nombres entiers</a></li>\n",
    "            <li><a href=\"#Partie5\">Numération sur les nombres décimaux</a></li>\n",
    "            <li><a href=\"#Partie6\">Graphiques en python</a></li>\n",
    "        </ul>\n",
    "    </details>\n",
    "</p>"
   ]
  },
  {
   "cell_type": "markdown",
   "metadata": {},
   "source": [
    "<h1>Première partie : les listes</h1>\n",
    "<p>Pour pouvoir réaliser des graphiques en python, nous avons besoin de spécifier des listes (de points). La fonction de base est la fonction <code style=\"color:green\">range</code> qui permet très rapidement d'énumeré des entiers (et non des nombres décimaux). Voici les trois utilisations possible : \n",
    "<ol>\n",
    "    <li><code><span style=\"color:green\">range</span>(n)</code> qui donne la liste des entiers de <code>0</code> à <code>n-1</code>. Par exemple <code><span style=\"color:green\">range</span>(10)</code> donnera <code>[0, 1, 2, 3, 4, 5, 6, 7, 8, 9]</code> </li>\n",
    "    <li><code><span style=\"color:green\">range</span>(a, b)</code> qui donne la liste des entiers entre <code>a</code> et <code>b-1</code>. Par exemple <code><span style=\"color:green\">range</span>(3, 10)</code> donnera <code>[3, 4, 5, 6, 7, 8, 9]</code> </li>\n",
    "    <li><code><span style=\"color:green\">range</span>(a, b, p)</code> qui donne la liste des entiers entre <code>a</code> et <code>b-1</code> par bond de <code>p</code>. Par exemple <code><span style=\"color:green\">range</span>(3, 10, 3)</code> donnera <code>[3, 6, 9]</code> </li>\n",
    "</ol>\n",
    "</p>\n",
    "<h3>\n",
    "    Exercice\n",
    "</h3>    \n",
    "<p>Donner la liste des entiers entre $2000$ et $2020$ qui sont dans la table de $5$.</p>"
   ]
  },
  {
   "cell_type": "code",
   "execution_count": null,
   "metadata": {},
   "outputs": [],
   "source": [
    "print(list(range(2000, 2021, 5)))"
   ]
  },
  {
   "cell_type": "markdown",
   "metadata": {},
   "source": [
    "<p>Il est possible de créer des listes de nombres pas forcément entiers de la manière suivante : \n",
    "<blockquote>\n",
    "    <code>y=[<em>fonction de x</em> for x in <em>valeur</em>]</code>\n",
    "</blockquote>\n",
    "Dans ce cas la liste <code>y</code> aura dans chacune de ses cases la valeur de <code>f(x)</code> pour les différentes valeurs prises par <code>x</code>. Voici des exemples :\n",
    "<ol><li>\n",
    "<blockquote>\n",
    "    <code>y=[x**2/10 for x in range(1, 10, 2)]</code>\n",
    "</blockquote>\n",
    "alors \n",
    "<code>y=[0.1, 0.9, 2.5, 4.9, 8.1]</code>\n",
    "</li>\n",
    "    \n",
    "<li>\n",
    "<blockquote>\n",
    "    <code>z=[pow(abs(t), t/2 ) for t in range(-10, 10, 1)]</code>\n",
    "</blockquote>\n",
    "alors \n",
    "<code>z=[1e-05, 5.080526342529086e-05, 0.000244140625, 0.001101937239093957, 0.004629629629629629, 0.01788854381999832, 0.0625, 0.19245008972987526, 0.5, 1.0, 1.0, 1.0, 2.0, 5.196152422706632, 16.0, 55.90169943749474, 216.0, 907.4926996951546, 4096.0, 19683.0]</code>\n",
    "</li>\n",
    "    \n",
    "</ol>\n",
    "</p>"
   ]
  },
  {
   "cell_type": "markdown",
   "metadata": {},
   "source": [
    "<h1>Seconde partie : Les graphiques</h1>\n",
    "<p>Comme pour les fonctions, il faut définir la fenêtre de graphique. Par chance, d'autre s'en sont occupés. Chargeons cette fonctionnalité : exécuter la case suivante.</p>"
   ]
  },
  {
   "cell_type": "code",
   "execution_count": null,
   "metadata": {},
   "outputs": [],
   "source": [
    "from matplotlib.pyplot import *"
   ]
  },
  {
   "cell_type": "markdown",
   "metadata": {},
   "source": [
    "<p>Pour faire un graphique rien de plus simple ! On utilise la fonction <code>plot</code> qui prend au moins deux paramètres : \n",
    "<ol>\n",
    "     <li>Le premier est la liste des points d'abscisses</li>\n",
    "     <li>La seconde est la liste des points d'ordonnées</li>\n",
    "</ol>\n",
    "Voici un exemple : \n",
    "</p>"
   ]
  },
  {
   "cell_type": "code",
   "execution_count": null,
   "metadata": {},
   "outputs": [],
   "source": [
    "X=[x/10 for x in range(-10, 10)]\n",
    "Y=[x**3 for x in X]\n",
    "plot(X, Y)"
   ]
  },
  {
   "cell_type": "markdown",
   "metadata": {},
   "source": [
    "<h3>Exercice</h3>\n",
    "<ol>\n",
    "    <li>Dessiner la fonction exponentielle sur $[-10, 2]$</li>\n",
    "    <li>Dessiner la fonction logarithme en base 10 sur $]0, 100]$</li>\n",
    "    <li>Dessiner un cercle de rayon $2$</li>\n",
    "</ol>"
   ]
  },
  {
   "cell_type": "code",
   "execution_count": null,
   "metadata": {},
   "outputs": [],
   "source": []
  },
  {
   "cell_type": "code",
   "execution_count": null,
   "metadata": {},
   "outputs": [],
   "source": []
  },
  {
   "cell_type": "code",
   "execution_count": null,
   "metadata": {},
   "outputs": [],
   "source": []
  },
  {
   "cell_type": "markdown",
   "metadata": {},
   "source": [
    "<h3>Quelques fonctionnalités supplémentaires</h3>\n",
    "<ul>\n",
    "    <li><code>grid(<span style=\"color:green\">True</span>)</code> permet d'afficher une grille dans le graphique. Exemple : \n",
    "    <blockquote><code>plot(X, Y)<br>grid(<span style=\"color:green\">True</span>)</code></blockquote>\n",
    "    </li>\n",
    "    <li>On peut modifier la couleur de la courbre en ajoutant un paramètre à la fonction <code>plot</code>, comme dans l'exemple suivant : \n",
    "        <blockquote><code>plot(X, Y, 'k')</code></blockquote>\n",
    "    Les différentes couleurs prédéfinies sont : \n",
    "    <table>\n",
    "        <tr>\n",
    "            <th>Couleur</th>\n",
    "            <th>Code</th>\n",
    "        </tr>\n",
    "        <tr>\n",
    "            <td>Bleu</td>\n",
    "            <td><code>'b'</code></td>\n",
    "        </tr>\n",
    "        <tr>\n",
    "            <td>Vert</td>\n",
    "            <td><code>'g'</code></td>\n",
    "        </tr>\n",
    "        <tr>\n",
    "            <td>Rouge</td>\n",
    "            <td><code>'r'</code></td>\n",
    "        </tr>\n",
    "        <tr>\n",
    "            <td>Cyan</td>\n",
    "            <td><code>'c'</code></td>\n",
    "        </tr>\n",
    "        <tr>\n",
    "            <td>Magenta</td>\n",
    "            <td><code>'m'</code></td>\n",
    "        </tr>\n",
    "        <tr>\n",
    "            <td>Jaune</td>\n",
    "            <td><code>'y'</code></td>\n",
    "        </tr>\n",
    "        <tr>\n",
    "            <td>Noir</td>\n",
    "            <td><code>'k'</code></td>\n",
    "        </tr>\n",
    "        <tr>\n",
    "            <td>Blanc</td>\n",
    "            <td><code>'w'</code></td>\n",
    "        </tr>\n",
    "    </table>\n",
    "    </li>\n",
    "    <li>On peut préciser le style de la ligne parmi les choix suivant : \n",
    "    <table>\n",
    "        <tr>\n",
    "            <th>Style</th>\n",
    "            <th>Code</th>\n",
    "        </tr>\n",
    "        <tr>\n",
    "            <td>Ligne continue (par défaut)</td>\n",
    "            <td><code>'-'</code></td>\n",
    "        </tr>\n",
    "        <tr>\n",
    "            <td>Tiret</td>\n",
    "            <td><code>'--'</code></td>\n",
    "        </tr>\n",
    "        <tr>\n",
    "            <td>Pointillé</td>\n",
    "            <td><code>':'</code></td>\n",
    "        </tr>\n",
    "    </table>\n",
    "        <blockquote><code>plot(X, Y, ':')<br></code></blockquote>\n",
    "        <b>ATTENTION</b> cependant ! Si vous voulez modifier la couleur et le style du trait, il faut le faire en même temps. De sorte que <code>plot(X, Y, ':', 'r')</code> est une erreur. On corrigera par\n",
    "        <blockquote><code>plot(X, Y, 'r:')<br></code></blockquote>\n",
    "        </li>\n",
    "    <li>La fonction <code>plot(X, Y)</code> place par défaut des points (ceux de <code>X</code> et <code>Y</code>) et les relie par des traits (où d'autre style comme nous l'avons vu précédement). On peut changer le style des marques parmi ceux de la liste suivante : \n",
    "    <table>\n",
    "        <tr>\n",
    "            <th>Marqueur</th>\n",
    "            <th>Code</th>\n",
    "        </tr>\n",
    "        <tr>\n",
    "            <td>Point (par défaut)</td>\n",
    "            <td><code>'.'</code></td>\n",
    "        </tr>\n",
    "        <tr>\n",
    "            <td>Cercle</td>\n",
    "            <td><code>'o'</code></td>\n",
    "        </tr>\n",
    "        <tr>\n",
    "            <td>Triangle vers le bas</td>\n",
    "            <td><code>'v'</code></td>\n",
    "        </tr>\n",
    "        <tr>\n",
    "            <td>Triangle vers le haut</td>\n",
    "            <td><code>'^'</code></td>\n",
    "        </tr>\n",
    "        <tr>\n",
    "            <td>Triangle vers la gauche</td>\n",
    "            <td><code>'<'</code></td>\n",
    "        </tr>\n",
    "        <tr>\n",
    "            <td>Triangle vers la droite</td>\n",
    "            <td><code>'>'</code></td>\n",
    "        </tr>\n",
    "        <tr>\n",
    "            <td>Carré</td>\n",
    "            <td><code>'s'</code></td>\n",
    "        </tr>\n",
    "        <tr>\n",
    "            <td>Pentagone</td>\n",
    "            <td><code>'p'</code></td>\n",
    "        </tr>\n",
    "        <tr>\n",
    "            <td>Etoile</td>\n",
    "            <td><code>'*'</code></td>\n",
    "        </tr>\n",
    "        <tr>\n",
    "            <td>Plus</td>\n",
    "            <td><code>'+'</code></td>\n",
    "        </tr>\n",
    "        <tr>\n",
    "            <td>Croix</td>\n",
    "            <td><code>'x'</code></td>\n",
    "        </tr>\n",
    "        <tr>\n",
    "            <td>Losange</td>\n",
    "            <td><code>'d'</code></td>\n",
    "        </tr>\n",
    "    </table>\n",
    "        Il en existe quelque autres. Comme pour les styles de traits, il faut déclarer les marqueurs au même moment.\n",
    "        <blockquote><code>plot(X, Y, 'rd:')<br></code></blockquote>\n",
    "    </li>\n",
    "        <li>On peut préciser l'épaisseur de la ligne en ajoutant à la fonction <code>plot</code> la paramètre <code>linewidth</code>.\n",
    "    <blockquote><code>plot(X, Y, linewidth=5)<br></code></blockquote>\n",
    "    </li>\n",
    "    <li>On peut préciser les bords de la fenêtre de graphique par l'appel des fonction <code>xlim</code> et <code>ylim</code> qui prennent chacun deux paramètres : la plus grande et la plus petite valeur sur les axes respectifs.\n",
    "    <blockquote><code>plot(X, Y)<br>xlim(-1,1)<br>ylim(-10, 10)</code></blockquote>\n",
    "    </li>\n",
    "    <li>On peut donner un titre au graphique par l'appel de la fonction <code>title</code>\n",
    "    <blockquote><code>plot(X, Y)<br>title(\"Graphique de ma fonction\")</code></blockquote>\n",
    "    </li>\n",
    "    <li>On peut déssiner plusieurs fonctions sur un même graphique (par l'appel de plusieurs <code>plot</code> différent). Dans ce cas, pour les disctinguer (en plus des couleurs), on peut légender les différentes courbes. Il y a pour cela deux choses à faire : \n",
    "        <ol>\n",
    "        <li>Donner un titre à la courbe, en ajoutant un <code>label</code> dans <code>plot</code>.</li>\n",
    "        <li>Demander l'affichage de ce <code>label</code>. Pour cela on appel la fonction <code>legend</code> sans paramètre.</li>\n",
    "        </ol>\n",
    "    <blockquote><code>plot(X, Y, label=\"Fonction 1\")<br>plot(X, Z, label=\"Fonction 2\")<br>legend()</code></blockquote>\n",
    "    </li>\n",
    "    <li>On peut aussi labéliser les axes : <code>xlabel</code> pour les abscisses et <code>ylabel</code> pour les ordonnées.\n",
    "    <blockquote><code>plot(X, Y)<br>xlabel(\"Abscisses\")<br>ylabel(\"Ordonnées\")</code></blockquote>\n",
    "    </li>\n",
    "</ul>\n",
    "\n",
    "<p>Voici un exemple qui résume tout <em>(dans les label a été placé du code $\\LaTeX$ qui une langage d'édition d'équation compris par Jupyter. N'y prétez pas attention, et admiez le résultat)</em>.</p>"
   ]
  },
  {
   "cell_type": "code",
   "execution_count": null,
   "metadata": {},
   "outputs": [],
   "source": [
    "#Coordonnes des points\n",
    "X=[x/10 for x in range(10+1)]\n",
    "Y=[sqrt(x) for x in X]\n",
    "Z=[x**2 for x in X]\n",
    "\n",
    "#Dessin\n",
    "plot(X, Y, 'cx-', linewidth=1.5, label=\"$x\\mapsto \\sqrt{x}$\")\n",
    "plot(X, Z, 'm^--', label=\"$x\\mapsto x^2$\")\n",
    "plot(X, X, 'r*:', label=\"$x\\mapsto x$\")\n",
    "\n",
    "#Dimension de la fenêtre\n",
    "xlim(0, 1)\n",
    "ylim(0, 1)\n",
    "\n",
    "#Titre et légende\n",
    "title(\"Comparaison entre $x^2$ et $\\sqrt{x}$ sur $[0; 1]$\")\n",
    "xlabel(\"Abscisses\")\n",
    "ylabel(\"Ordonnées\")\n",
    "legend()\n",
    "\n",
    "#Quadrillage\n",
    "grid(True)"
   ]
  },
  {
   "cell_type": "markdown",
   "metadata": {},
   "source": [
    "<h3>Exercices</h3>\n",
    "<ol>\n",
    "<li>Déssiner un carré de coté $2$ centré à l'origine du repère.</li>\n",
    "<li>Déssiner un carré de coté $2$ dont un des coins est en $(0, 0)$.</li>\n",
    "<li>Représenter les fonctions $x\\mapsto cos(x)$ et $x\\mapsto sin(x)$ sur $[-\\pi ; \\pi]$.</li>\n",
    "<li>Déssiner $x\\mapsto e^x$ et $x\\mapsto ln(x)$ entre sur $[-2 ; 4]$ (attention le logarithme n'est pas définie (normalement) sur les réels négatifs). Tracer également la droite $x\\mapsto x$.</li>\n",
    "<li>Déssiner la fonction tangante entre $\\left]-\\dfrac{\\pi}{2}; \\dfrac{\\pi}{2}\\right[$.</li>    \n",
    "</ol>"
   ]
  },
  {
   "cell_type": "code",
   "execution_count": null,
   "metadata": {},
   "outputs": [],
   "source": []
  },
  {
   "cell_type": "code",
   "execution_count": null,
   "metadata": {},
   "outputs": [],
   "source": []
  },
  {
   "cell_type": "code",
   "execution_count": null,
   "metadata": {},
   "outputs": [],
   "source": []
  },
  {
   "cell_type": "code",
   "execution_count": null,
   "metadata": {},
   "outputs": [],
   "source": []
  },
  {
   "cell_type": "code",
   "execution_count": null,
   "metadata": {},
   "outputs": [],
   "source": []
  }
 ],
 "metadata": {
  "kernelspec": {
   "display_name": "Python 3",
   "language": "python",
   "name": "python3"
  },
  "language_info": {
   "codemirror_mode": {
    "name": "ipython",
    "version": 3
   },
   "file_extension": ".py",
   "mimetype": "text/x-python",
   "name": "python",
   "nbconvert_exporter": "python",
   "pygments_lexer": "ipython3",
   "version": "3.6.2"
  }
 },
 "nbformat": 4,
 "nbformat_minor": 2
}
