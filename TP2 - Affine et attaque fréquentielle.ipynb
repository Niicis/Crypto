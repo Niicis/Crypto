{
 "cells": [
  {
   "cell_type": "markdown",
   "metadata": {},
   "source": [
    "<div id=\"haut2page\" style=\"border:3px solid black; padding:3%; font-size:314% ; text-align:center; color:white; background-color:black;\">\n",
    "    <img style=\"display:inline;\" alt=\"ataraXy\" src=\"http://www.ataraxy.info/IMAGE/favicon.ico\"> Affine et attaque fréquentielle\n",
    "</div>\n",
    "<h3>Navigation dans la page</h3>\n",
    "<p>\n",
    "    Si c'est votre première visite dans ce TP, lisez attentivement chacun des points détaillé après ce paragraphe.<br>\n",
    "    Si vous avez déjà commencer à travailler sur ce TP et que vous souhaiter vous déplacer rapidement dans une partie précise vous pouvez choisir la partie que vous souhaitez rejoindre ci-dessous. <br>\n",
    "    <details open>\n",
    "        <summary><strong style=\"font-size:1.414em;color:green;\">Menu de navigation</strong></summary>\n",
    "        <ul>\n",
    "            <li><a href=\"#haut2page\">Haut de page</a></li>\n",
    "            <li><a href=\"#Partie1\">Partie 1 : Outils arithmétiques</a></li>\n",
    "            <li><a href=\"#Partie2\">Partie 2 : Chiffrement affine</a></li>\n",
    "            <li><a href=\"#Partie3\">Partie 3 : Retour sur la brute force avec dictionnaire</a></li>\n",
    "            <li><a href=\"#Partie4\">Partie 4 : Attaque fréquentielle</a></li>\n",
    "            <li><a href=\"#Partie5\">Partie 5 : Attaque du fichier</a></li>\n",
    "        </ul>\n",
    "    </details>\n",
    "</p>\n",
    "\n",
    "<details>\n",
    "    <summary><strong style=\"font-size:1.414em\">Technologie jupyter</strong></summary>\n",
    "<p>\n",
    "    La technologie <em>jupyter</em> permet d'exécuter du code python par un simple clique sur <em>Executer</em> ci-dessus.<br> \n",
    "    Les morceaux de code de cette page sont interprétées case par case. Pour savoir quelle case a été interprétée avant une autre, il suffit de repérer le numéro devant la case. <br>\n",
    "    Une fois qu'une case a été interprétée (=exécutée), la page garde en mémoire les variables et fonctions lues<br>\n",
    "    La plateforme propose quelques outils de purge de la mémoire : \n",
    "    <ul>\n",
    "    <li>Il est possible de tout recommencer (dénuméroter) en choisissant dans le menu <em>Kernel</em> ci-dessus <em>Restart & Clear Output</em> pour purger la mémoire de toutes ses variables et de toutes ses executions </li> \n",
    "    <li>Dans le menu <em>Kernel</em> choisir <em>Restard & Run All</em> aura le même effet que <em>Restart & Clear Output</em> mais en plus relancera chacune des cases depuis le haut du document jusqu'en bas (renuméroter).</li>\n",
    "    </ul>\n",
    "</p>\n",
    "<div style=\"background-color:rgba(255, 0, 0, 0.19);padding:3%;\">\n",
    "    <h3 style=\"color:red;\">SAUVEGARDER VOTRE TRAVAIL</h3>\n",
    "    <p>\n",
    "        Pour ne pas perdre votre travail pensez à le sauvegarder régulièrement. Par défault, la sauvegarde par un clic sur la disquette en haut à gauche de page, ou par le racourci clavier classique <code>ctrl+S</code>\n",
    "    est une sauvegarde en local, sur le serveur de jupyter. Vous pouvez et devez très régulièrement sauvegarder votre travail sur votre support personnel de sauvegarde (clef USB, se l'envoyer par mail etc). Ce faisant vous disposerez d'un fichier  .ipynb (IPYthon NoteBook) qu'il vous suffira de recharger  pour avancer. Après le rechargement assurez vous que les fonctionnalités anciennement developpées et variables utilisées sont bien <em>dans la mémoire de la page</em> (en rééxecutant les cases, ou plus rapidement par <em>Kernel &gt; Restart & Run All</em>.</p>\n",
    "    <p> A NOTER : vous pouvez travailler sur le tp (et tout autre fichier .ipynb) hors connexion en installant une version local du notebook de jupyter. Il faut que votre machine possède un interpreteur de python et que vous soyez connecter à internet.\n",
    "        <ol>\n",
    "            <li>Lancer un terminal</li>\n",
    "            <li>Taper la commande suivante : <code>pip install jupyterlab</code></li>\n",
    "            <li>Une fois l'installation terminée portez votre attention sur les dernières lignes affichées dans votre terminal vous invitant probablement à taper une ligne de commande pour faire une mise à jour</li>\n",
    "            <li>Pour lancer notebook de jupyter, taper dans votre termial : <code>jupyter notebook</code></li>\n",
    "            <li>Votre simulateur de serveur est lancé. Il ne faut pas fermer votre terminal, auquel cas votre simulateur de serveur s'interompera. Suivez le lien indiqué dans les dernières lignes de votre terminal pour vous diriger vers votre espace local. L'interface se présente comme celle que vous trouverez sur le web. Votre travail sera cependant toujours enregistré et jamais perdu même si vous le consultez après plusieurs jours </li>\n",
    "        </ol>\n",
    "    </p>\n",
    "</div>\n",
    "</details>"
   ]
  },
  {
   "cell_type": "markdown",
   "metadata": {},
   "source": [
    "<p>Comme pour le TP1, ne bibliothèque regroupant quelques outils de la cryptologie vous ont été donnée. Chargeons l'intégralité des fonctionnalités qu'elle propose</p>"
   ]
  },
  {
   "cell_type": "code",
   "execution_count": null,
   "metadata": {},
   "outputs": [],
   "source": [
    "from OutilsCrypto import *"
   ]
  },
  {
   "cell_type": "markdown",
   "metadata": {},
   "source": [
    "<p>Vous êtes invité à travailler sur la première partie du TP1 pour vous refamiliariser avec les fonctionnalités de cette bibliothèque comme <code>codex</code>, <code>codex</code>, <code>xedoc</code>, <code>paquet</code>, <code>mode2base</code>, <code>Filtre</code> ainsi que les fonctions d'attaque par dictionnaire.</p>"
   ]
  },
  {
   "cell_type": "markdown",
   "metadata": {},
   "source": [
    "<div style=\"border:3px solid black; padding:3%; font-size:314% ; text-align:center; color:white; background-color:black;\" id=\"Partie1\">\n",
    "    Partie 1 : Outils arithmétiques\n",
    "</div>\n",
    "\n",
    "<p>\n",
    "    <details>\n",
    "        <summary><strong style=\"font-size:1.414em;color:green;\">Menu de navigation</strong></summary>\n",
    "        <ul>\n",
    "            <li><a href=\"#haut2page\">Haut de page</a></li>\n",
    "            <li><a href=\"#Partie1\">Partie 1 : Outils arithmétiques</a></li>\n",
    "            <li><a href=\"#Partie2\">Partie 2 : Chiffrement affine</a></li>\n",
    "            <li><a href=\"#Partie3\">Partie 3 : Retour sur la brute force avec dictionnaire</a></li>\n",
    "            <li><a href=\"#Partie4\">Partie 4 : Attaque fréquentielle</a></li>\n",
    "            <li><a href=\"#Partie5\">Partie 5 : Attaque du fichier</a></li>\n",
    "        </ul>\n",
    "    </details>\n",
    "</p>"
   ]
  },
  {
   "cell_type": "markdown",
   "metadata": {},
   "source": [
    "<p>Ecrire la fonction <code>PGCD</code> qui prend en paramètre deux entiers <code>a</code> et <code>b</code> et qui renvoie le plus grand diviseur commun à ces deux nombres. </p>"
   ]
  },
  {
   "cell_type": "code",
   "execution_count": null,
   "metadata": {},
   "outputs": [],
   "source": [
    "def PGCD(a, b) :\n",
    "    return 0"
   ]
  },
  {
   "cell_type": "markdown",
   "metadata": {},
   "source": [
    "<h3>Tests</h3>"
   ]
  },
  {
   "cell_type": "code",
   "execution_count": null,
   "metadata": {},
   "outputs": [],
   "source": [
    "a=10\n",
    "b=15\n",
    "print(\"PGCD(\",a,\", \",b,\")=\", PGCD(a, b))\n",
    "a=100\n",
    "b=150\n",
    "print(\"PGCD(\",a,\", \",b,\")=\", PGCD(a, b))\n",
    "a=1983\n",
    "b=666\n",
    "print(\"PGCD(\",a,\", \",b,\")=\", PGCD(a, b))"
   ]
  },
  {
   "cell_type": "markdown",
   "metadata": {},
   "source": [
    "<p>En imitant le développement de l'algorithme vu en cours, écrire la fonction <code>inv_mod</code> qui prend en paramètre deux entiers <code>a</code> et <code>n</code> et renvoie l'inverse de <code>a</code> modulo <code>n</code>. On convient que lorsque c'est impossible, la fonciton renvoie $0$</p>"
   ]
  },
  {
   "cell_type": "code",
   "execution_count": null,
   "metadata": {},
   "outputs": [],
   "source": [
    "def inv_mod(a, n) :\n",
    "    return 0"
   ]
  },
  {
   "cell_type": "markdown",
   "metadata": {},
   "source": [
    "<h3>Tests</h3>"
   ]
  },
  {
   "cell_type": "code",
   "execution_count": null,
   "metadata": {},
   "outputs": [],
   "source": [
    "a=[19, 11, 876, 1777]\n",
    "n=[13, 4, 484, 1111]\n",
    "for i in range(len(a)) :\n",
    "    a1=inv_mod(a[i], n[i])\n",
    "    if(a1==0) : print(a[i], \"n'est pas inversible modulo\", n[i])\n",
    "    else : print(a[i], \"^(-1) modulo\", n[i], \"=\", a1)\n"
   ]
  },
  {
   "cell_type": "markdown",
   "metadata": {},
   "source": [
    "<div style=\"border:3px solid black; padding:3%; font-size:314% ; text-align:center; color:white; background-color:black;\" id=\"Partie1\">\n",
    "    Partie 2 : Chiffrement affine\n",
    "</div>\n",
    "\n",
    "<p>\n",
    "    <details>\n",
    "        <summary><strong style=\"font-size:1.414em;color:green;\">Menu de navigation</strong></summary>\n",
    "        <ul>\n",
    "            <li><a href=\"#haut2page\">Haut de page</a></li>\n",
    "            <li><a href=\"#Partie1\">Partie 1 : Outils arithmétiques</a></li>\n",
    "            <li><a href=\"#Partie2\">Partie 2 : Chiffrement affine</a></li>\n",
    "            <li><a href=\"#Partie3\">Partie 3 : Retour sur la brute force avec dictionnaire</a></li>\n",
    "            <li><a href=\"#Partie4\">Partie 4 : Attaque fréquentielle</a></li>\n",
    "            <li><a href=\"#Partie5\">Partie 5 : Attaque du fichier</a></li>\n",
    "        </ul>\n",
    "    </details>\n",
    "</p>"
   ]
  },
  {
   "cell_type": "markdown",
   "metadata": {},
   "source": [
    "<p>Ecrire la fonction <code>Eaffine(txt, a, b, paq=1)</code> qui a trois paramètres obligatoires et un paramètre optionnel:\n",
    "<ul>\n",
    "    <li><code>txt</code> : une chaine de caractère</li>\n",
    "    <li><code>a</code> : un entier</li>\n",
    "    <li><code>b</code> : un entier</li>\n",
    "    <li><code>paq</code> : la taille des paquets qui par défaut vaut 1</li>\n",
    "</ul>\n",
    "Cette fonction renvoie une chaine de caractère correspondant au chiffrement de César <code>txt</code> de clef <code>(a, b)</code> par paquet de <code>paq</code>. Si <code>paq</code> vaut 1 alors la fonction devra retourner le décodage des entiers calculer. Sinon la fonction renverra une chaine de caractère correspondant aux entiers chiffrés du message séparé par des $\\texttt{-}$.<br>\n",
    "Par exemple le message $\\texttt{BONJOUR}$ de clef $(7, 19)$ par paquet de 1 donne $\\texttt{ANGENDI}$ alors que par paquet de 2, la fonction renvoie $\\texttt{817-1604-2381-1815}$.<br>\n",
    "\n",
    "La fonction renvoie la chaine vide (ie $\\texttt{\"\"}$) en cas d'erreur.\n",
    "</p>"
   ]
  },
  {
   "cell_type": "code",
   "execution_count": null,
   "metadata": {},
   "outputs": [],
   "source": [
    "def Eaffine(txt, a, b, paq=1) :\n",
    "    return \"\""
   ]
  },
  {
   "cell_type": "markdown",
   "metadata": {},
   "source": [
    "<h3>Tests</h3>"
   ]
  },
  {
   "cell_type": "code",
   "execution_count": null,
   "metadata": {},
   "outputs": [],
   "source": [
    "txt=\"BONJOUR\"\n",
    "clefa=7\n",
    "clefb=19\n",
    "print(\"Par paquet de 1 :\", Eaffine(txt, clefa, clefb))\n",
    "print(\"Par paquet de 2 :\", Eaffine(txt, clefa, clefb, 2))\n",
    "txt=\"Il était une fois...\"\n",
    "clefa=2019\n",
    "clefb=1983\n",
    "print(\"Par paquet de 2 :\", Eaffine(txt, clefa, clefb, 2))\n",
    "print(\"Par paquet de 2 :\", Eaffine(Filtre(txt), clefa, clefb, 2))\n",
    "clefa=2017\n",
    "clefb=1983\n",
    "print(\"Par paquet de 2 :\", Eaffine(txt, clefa, clefb, 2))\n",
    "print(\"Par paquet de 2 :\", Eaffine(Filtre(txt), clefa, clefb, 2))"
   ]
  },
  {
   "cell_type": "markdown",
   "metadata": {},
   "source": [
    "<p>Ecrire la fonction <code>Daffine(txt, a, b, paq=1)</code> qui a trois paramètres obligatoires et un paramètre optionnel:\n",
    "<ul>\n",
    "    <li><code>txt</code> : une chaine de caractère</li>\n",
    "    <li><code>a</code> : un entier</li>\n",
    "    <li><code>b</code> : un entier</li>\n",
    "    <li><code>paq</code> : la taille des paquets qui par défaut vaut 1</li>\n",
    "</ul>\n",
    "Cette fonction renvoie une chaine de caractère correspondant au déchiffrement de César <code>txt</code> de clef <code>(a, b)</code> par paquet de <code>paq</code>. <br>\n",
    "ATTENTION : si <code>paq</code> vaut 1 alors <code>txt</code> est une suite de lettre de l'alphabet. Sinon cette chaine est une suite d'entiers séparés par des $\\texttt{-}$. On pourra récupérer une liste de chaine de caractère des entiers par <code>txt.split('-')</code><br>\n",
    "La fonction renvoie la chaine vide (ie $\\texttt{\"\"}$) en cas d'erreur.\n",
    "</p>"
   ]
  },
  {
   "cell_type": "code",
   "execution_count": null,
   "metadata": {},
   "outputs": [],
   "source": [
    "def Daffine(txt, a, b, paq=1) :\n",
    "    return \"\""
   ]
  },
  {
   "cell_type": "markdown",
   "metadata": {},
   "source": [
    "<h3>Tests</h3>"
   ]
  },
  {
   "cell_type": "code",
   "execution_count": null,
   "metadata": {},
   "outputs": [],
   "source": [
    "#Test 1\n",
    "txt0=\"BONJOUR\"\n",
    "clefa=3\n",
    "clefb=9\n",
    "txt1=Eaffine(txt0, clefa, clefb)\n",
    "txt2=Daffine(txt1, clefa, clefb)\n",
    "print(txt0)\n",
    "print(txt1)\n",
    "print(txt2)\n",
    "\n",
    "#Test 2\n",
    "txt=\"La vie n'est pas un long fleuve tranquille !\"\n",
    "txt0=Filtre(txt)\n",
    "clefa=2017\n",
    "clefb=2021\n",
    "txt1=Eaffine(txt0, clefa, clefb, 3)\n",
    "txt2=Daffine(txt1, clefa, clefb, 3)\n",
    "print(txt)\n",
    "print(txt0)\n",
    "print(txt1)\n",
    "print(txt2)"
   ]
  },
  {
   "cell_type": "markdown",
   "metadata": {},
   "source": [
    "<div style=\"border:3px solid black; padding:3%; font-size:314% ; text-align:center; color:white; background-color:black;\" id=\"Partie3\">\n",
    "    Partie 3 : Retour sur la brute force avec dictionnaire\n",
    "</div>\n",
    "<p>\n",
    "    <details>\n",
    "        <summary><strong style=\"font-size:1.414em;color:green;\">Menu de navigation</strong></summary>\n",
    "        <ul>\n",
    "            <li><a href=\"#haut2page\">Haut de page</a></li>\n",
    "            <li><a href=\"#Partie1\">Partie 1 : Outils arithmétiques</a></li>\n",
    "            <li><a href=\"#Partie2\">Partie 2 : Chiffrement affine</a></li>\n",
    "            <li><a href=\"#Partie3\">Partie 3 : Retour sur la brute force avec dictionnaire</a></li>\n",
    "            <li><a href=\"#Partie4\">Partie 4 : Attaque fréquentielle</a></li>\n",
    "            <li><a href=\"#Partie5\">Partie 5 : Attaque du fichier</a></li>\n",
    "        </ul>\n",
    "    </details>\n",
    "</p>"
   ]
  },
  {
   "cell_type": "markdown",
   "metadata": {},
   "source": [
    "<p>Comme nos l'avons vu avec le chiffrement de César, nous allons nous intérésser ici à une attaque en brute force avec dictionnaire. Exécuter le code suivant pour charger les différents dictionnaires proposée. ATTENTION : Cette opération peux prendre plusieurs secondes (environ 30). Un message de fin s'affichera lorsque le chargement sera terminé.</p>"
   ]
  },
  {
   "cell_type": "code",
   "execution_count": null,
   "metadata": {},
   "outputs": [],
   "source": [
    "print(\"-----> DéBUT DU CHARGMENT DES DICTIONNAIRES <-----\")\n",
    "top=time.time()\n",
    "lang=\"FR\"\n",
    "print(\"CHARGEMENT DU DICTIONNAIRE \\\"\", lang, \"\\\": \\tEN COURS\",end='')\n",
    "DICO_FR = MonDico(lang)\n",
    "print(\"\\rCHARGEMENT DU DICTIONNAIRE \\\"\", lang, \"\\\": \\tTERMINéE (en\", round(time.time()-top, 3), \"secondes)\")\n",
    "top=time.time()\n",
    "lang=\"ANG\"\n",
    "print(\"CHARGEMENT DU DICTIONNAIRE \\\"\", lang, \"\\\": \\tEN COURS\",end='')\n",
    "DICO_ANG = MonDico(lang)\n",
    "print(\"\\rCHARGEMENT DU DICTIONNAIRE \\\"\", lang, \"\\\": \\tTERMINéE (en\", round(time.time()-top, 3), \"secondes)\")\n",
    "top=time.time()\n",
    "lang=\"ESP\"\n",
    "print(\"CHARGEMENT DU DICTIONNAIRE \\\"\", lang, \"\\\": \\tEN COURS\",end='')\n",
    "DICO_ESP = MonDico(lang)\n",
    "print(\"\\rCHARGEMENT DU DICTIONNAIRE \\\"\", lang, \"\\\": \\tTERMINéE (en\", round(time.time()-top, 3), \"secondes)\")\n",
    "top=time.time()\n",
    "lang=\"IT\"\n",
    "print(\"CHARGEMENT DU DICTIONNAIRE \\\"\", lang, \"\\\": \\tEN COURS\",end='')\n",
    "DICO_IT = MonDico(lang)\n",
    "print(\"\\rCHARGEMENT DU DICTIONNAIRE \\\"\", lang, \"\\\": \\tTERMINéE (en\", round(time.time()-top, 3), \"secondes)\")\n",
    "print(\"-----> FIN DU CHARGMENT DES DICTIONNAIRES <-----\")"
   ]
  },
  {
   "cell_type": "markdown",
   "metadata": {},
   "source": [
    "<h3>La fonction <code>pertinence</code></h3>\n",
    "<p>\n",
    "Pour rappel, cette fonction prend deux paramètres : \n",
    "    <ul>\n",
    "        <li><code>phrase</code> : qui est une chaine de caractère</li>\n",
    "        <li><code>dico</code> : qui est l'un des dictionnaire chargé précédémment</li>\n",
    "    </ul>\n",
    "    Cette fonction retourne un entier correspondant au nombre de mot du dictionnaire reconnu dans la phrase.<br>\n",
    "    Par exemple dans le mot $\\texttt{BONJOUR}$ sont reconnus cinq mots du dictionnaire français : $\\texttt{BON}$,  $\\texttt{ON}$,  $\\texttt{JOUR}$,  $\\texttt{OU}$ et  $\\texttt{BONJOUR}$\n",
    "    </p>"
   ]
  },
  {
   "cell_type": "code",
   "execution_count": null,
   "metadata": {},
   "outputs": [],
   "source": [
    "#Affiche 5\n",
    "print(pertinence(\"BONJOUR\", DICO_FR))"
   ]
  },
  {
   "cell_type": "markdown",
   "metadata": {},
   "source": [
    "<p>Ecrire une procédure <code>BruteForcAffine_dico</code> qui prend en paramètre : \n",
    "<ul>\n",
    "   <li><code>txt</code> : un chaine de caractère correspondant au message à attaquer.</li>\n",
    "   <li><code>paq</code> : l'entier correspondant à l'hypothétique nombre de paquet utilisé.</li>\n",
    "   <li><code>DICO</code> : le dictionnaire correspondant à la langue hypothétique du message claire.</li>\n",
    "</ul>\n",
    "Cette procédure réalise une attaque en brute forcemais n'affiche que des chaines décryptées de plus en plus pertinente.\n",
    "</p>"
   ]
  },
  {
   "cell_type": "code",
   "execution_count": null,
   "metadata": {},
   "outputs": [],
   "source": [
    "def BruteForceAffine_dico(txt, paq=1, dico=DICO_FR) : \n",
    "    try : \n",
    "        txt=str(txt)\n",
    "        paq=int(paq)\n",
    "    except :\n",
    "        print(\"L'attaque ne fonctionne pas\")\n",
    "        return\n",
    "    print(\"\\t-----------------------------\")\n",
    "    print(\"\\tBRUTE FORCE AVEC DICTIONNAIRE\")\n",
    "    print(\"\\t-----------------------------\\n\")\n",
    "    top=time.time()\n",
    "    \n",
    "    #Mettre votre code ici\n",
    "    \n",
    "    temps=time.time()-top\n",
    "    print(\"\\rLe dernier message semble être le bon\")\n",
    "    print(\"Attaque terminée (\"+str(round(temps, 3))+\"s)\")"
   ]
  },
  {
   "cell_type": "markdown",
   "metadata": {},
   "source": [
    "<h3>Tests</h3>"
   ]
  },
  {
   "cell_type": "code",
   "execution_count": null,
   "metadata": {},
   "outputs": [],
   "source": [
    "txt0=Filtre(\"My name is David. I'd like to have student who work\")\n",
    "clefa=19\n",
    "clefb=25\n",
    "paq=1\n",
    "txt1=Eaffine(txt0, clefa, clefb, paq)\n",
    "print(\"Message claire :\", txt0)\n",
    "print(\"Message à attaquer :\", txt1)\n",
    "BruteForceAffine_dico(txt1, paq, DICO_ANG)"
   ]
  },
  {
   "cell_type": "code",
   "execution_count": null,
   "metadata": {},
   "outputs": [],
   "source": [
    "#Exécuter le code suivant demandera un petit temps de calcul (moins de 4 minutes (~222 s) sur un core i5)\n",
    "txt0=Filtre(\"Une poule sur un mur qui picore du pain dure... elle a rien de mieux à faire ? Nan mais sérieux là !\")\n",
    "clefa=2017\n",
    "clefb=1234\n",
    "paq=2\n",
    "txt1=Eaffine(txt0, clefa, clefb, paq)\n",
    "print(\"Message claire :\", txt0)\n",
    "print(\"Message à attaquer :\", txt1)\n",
    "BruteForceAffine_dico(txt1, paq, DICO_FR)"
   ]
  },
  {
   "cell_type": "markdown",
   "metadata": {},
   "source": [
    "<div style=\"border:3px solid black; padding:3%; font-size:314% ; text-align:center; color:white; background-color:black;\" id=\"Partie4\">\n",
    "    Partie 4 : Attaque fréquentielle\n",
    "</div>\n",
    "<p>\n",
    "    <details>\n",
    "        <summary><strong style=\"font-size:1.414em;color:green;\">Menu de navigation</strong></summary>\n",
    "        <ul>\n",
    "            <li><a href=\"#haut2page\">Haut de page</a></li>\n",
    "            <li><a href=\"#Partie1\">Partie 1 : Outils arithmétiques</a></li>\n",
    "            <li><a href=\"#Partie2\">Partie 2 : Chiffrement affine</a></li>\n",
    "            <li><a href=\"#Partie3\">Partie 3 : Retour sur la brute force avec dictionnaire</a></li>\n",
    "            <li><a href=\"#Partie4\">Partie 4 : Attaque fréquentielle</a></li>\n",
    "            <li><a href=\"#Partie5\">Partie 5 : Attaque du fichier</a></li>\n",
    "        </ul>\n",
    "    </details>\n",
    "</p>"
   ]
  },
  {
   "cell_type": "markdown",
   "metadata": {},
   "source": [
    "<p>Ecrire une fonction <code>lst_freq</code> qui prend en paramètre un texte et renvoie un tableau (sous forme de dictionnaire) ou la case 'A' est la fréquence de la lettre A, la case 'B' celle de la lettre B etc...</p>"
   ]
  },
  {
   "cell_type": "code",
   "execution_count": null,
   "metadata": {},
   "outputs": [],
   "source": [
    "def lst_freq(txt) :\n",
    "    alphabet=\"ABCDEFGHIJKLMNOPQRSTUVWXYZ\"\n",
    "    res=dict()\n",
    "    for c in alphabet : res[c]=0\n",
    "    \n",
    "    return res"
   ]
  },
  {
   "cell_type": "markdown",
   "metadata": {},
   "source": [
    "<h3>Tests</h3>"
   ]
  },
  {
   "cell_type": "code",
   "execution_count": null,
   "metadata": {},
   "outputs": [],
   "source": [
    "txt=\"Voici un texte plutot court, comme mes blagues ^_^\"\n",
    "lettre=\"E\"\n",
    "print(txt, \"\\nLa fréquence de la lettre\", lettre, \"dans ce texte est\", round(100*(lst_freq(Filtre(txt).upper())[lettre]),2), \"%\")"
   ]
  },
  {
   "cell_type": "markdown",
   "metadata": {},
   "source": [
    "<p>Ecrire la fonction <code>lettre_plus_freq</code> qui prend en paramètre un texte et renvoie le caractère le plus fréquent dans ce texte.</p>"
   ]
  },
  {
   "cell_type": "code",
   "execution_count": null,
   "metadata": {},
   "outputs": [],
   "source": [
    "def lettre_plus_freq(txt) :\n",
    "    return 'E'"
   ]
  },
  {
   "cell_type": "markdown",
   "metadata": {},
   "source": [
    "<h3>Tests</h3>"
   ]
  },
  {
   "cell_type": "code",
   "execution_count": null,
   "metadata": {},
   "outputs": [],
   "source": [
    "txt=\"Voici un texte plutot court, comme mes blagues ^_^\"\n",
    "print(txt, \"\\nLa lettre la plus fréquente dans ce texte est\", lettre_plus_freq((Filtre(txt).upper())))"
   ]
  },
  {
   "cell_type": "markdown",
   "metadata": {},
   "source": [
    "<p>Ecrire une fonction <code>attaquefreqaffine_dico</code> qui prend en paramètre :\n",
    "    <ul>\n",
    "        <li><code>txt</code> qui est une chaine de caractère correspondant à un chiffrement affine.</li>\n",
    "        <li><code>paq</code> qui est un paramètre optionnel correspondant à la taille des paquet utilisé pour ce chiffrement affine.</li>\n",
    "        <li><code>DICO</code> qui est un paramètre optionnel correspondant à la langue qui aurait été utilisé pour le chiffrement.</li>\n",
    "    </ul>\n",
    "    Cette fonction affiche le résultat (et éventuellement les détails des opérations effectués) d'une attaque fréquentielle. \n",
    "</p>"
   ]
  },
  {
   "cell_type": "code",
   "execution_count": null,
   "metadata": {},
   "outputs": [],
   "source": [
    "def attaquefreqaffine_dico(txt, paq=1, dico=DICO_FR) : \n",
    "    try : \n",
    "        txt=str(txt)\n",
    "        paq=int(paq)\n",
    "    except :\n",
    "        print(\"L'attaque ne fonctionne pas\")\n",
    "        return\n",
    "\n",
    "    if(paq>1) : \n",
    "        print(\"Il n'est pas possible de faire une attaque fréquentielle s'il n'y a pas de caractère\")\n",
    "        return \n",
    "    \n",
    "    print(\"\\t---------------------------------------\")\n",
    "    print(\"\\tATTAQUE FREQUENTIELLE AVEC DICTIONNAIRE\")\n",
    "    print(\"\\t---------------------------------------\\n\")\n",
    "    top=time.time()\n",
    "    \n",
    "    #Mettre votre code ici\n",
    "    \n",
    "    temps=time.time()-top\n",
    "    print(\"\\rLe dernier message semble être le bon\")\n",
    "    print(\"Attaque terminée (\"+str(round(temps, 3))+\"s)\")"
   ]
  },
  {
   "cell_type": "markdown",
   "metadata": {},
   "source": [
    "<h3>Tests</h3>"
   ]
  },
  {
   "cell_type": "markdown",
   "metadata": {},
   "source": [
    "<p>Dans la case suivante, on réalise un test sur l'attaque fréquentielle mais aussi une comparaison de temps d'éxecution entre l'attaque en force brute et l'attaque fréquentielle. Normalement, une attaque fréquentielle est au moins 10 fois plus rapide qu'une brute force !</p>"
   ]
  },
  {
   "cell_type": "code",
   "execution_count": null,
   "metadata": {},
   "outputs": [],
   "source": [
    "txt=\"Pour qu'une attaque fréquentielle soit pertinente, il faut que le message soit relativement long. Voici donc un texte plutôt long qui ne dis rien de franchement intéressant... un peu comme certain politicien. Oui ! Je suis engagé !!!\"\n",
    "clefa=17\n",
    "clefb=19\n",
    "txt0=Filtre(txt).upper()\n",
    "txt1=Eaffine(txt0, clefa, clefb)\n",
    "\n",
    "#Attaque en force brute\n",
    "BruteForceAffine_dico(txt1)\n",
    "\n",
    "#Attaque fréquentielle\n",
    "attaquefreqaffine_dico(txt1)"
   ]
  },
  {
   "cell_type": "markdown",
   "metadata": {},
   "source": [
    "<div style=\"border:3px solid black; padding:3%; font-size:314% ; text-align:center; color:white; background-color:black;\" id=\"Partie5\">\n",
    "    Partie 5 : Test\n",
    "</div>\n",
    "<p>\n",
    "    <details>\n",
    "        <summary><strong style=\"font-size:1.414em;color:green;\">Menu de navigation</strong></summary>\n",
    "        <ul>\n",
    "            <li><a href=\"#haut2page\">Haut de page</a></li>\n",
    "            <li><a href=\"#Partie1\">Partie 1 : Outils arithmétiques</a></li>\n",
    "            <li><a href=\"#Partie2\">Partie 2 : Chiffrement affine</a></li>\n",
    "            <li><a href=\"#Partie3\">Partie 3 : Retour sur la brute force avec dictionnaire</a></li>\n",
    "            <li><a href=\"#Partie4\">Partie 4 : Attaque fréquentielle</a></li>\n",
    "            <li><a href=\"#Partie5\">Partie 5 : Test</a></li>\n",
    "        </ul>\n",
    "    </details>\n",
    "</p>"
   ]
  },
  {
   "cell_type": "markdown",
   "metadata": {},
   "source": [
    "<p>Attaquer le message suivant qui a été chiffré par la méthode affine. Indiquer à votre enseignant l'auteur du texte claire pour obtenir un petit bonus (ou pas ^_^ )!</p>"
   ]
  },
  {
   "cell_type": "code",
   "execution_count": null,
   "metadata": {},
   "outputs": [],
   "source": [
    "txt=\"SPATIYGGSNDAWYPSYZDSMSVNABAPHCPZUSARAWHYZCYGTCYVDAAZTCZYMSGSNWCYPZBNOYASXAZOSNYASXLIDSWAHCSPAHIOZNYPAISVDYABAPHCPZUSARAHIPPCYGHADCZZABNAGUSACGGISBYGISHCYPYDGATYZSPZCBIZAWAPZOIWWAHAUSADUSCSPTNCBBCPZHISOAWAPZTNCBBCPZDCBINZAHAWCOFCWVNACOCAGZUSADUSALYGYZASNCWSNWSNCYRACUSYTNCBBADCBINZAHAWCOFCWVNAOAPCAGZUSAOADCAZNYAPHABDSGCCFHYGZYPOZAWAPZRAWAGISLYAPGUSAOCZCYZHCPGDAMDCOYCDHOAWVNAAZOFCUSAZYGIPVNIHCYZGIPZISNDABDCPOFANHSNATDAZHAGIPCMIPYACNHAWWAPZRAHGYNCYGDAWCZYPAPLCYPWCZCYGRAATTINOHAZYNANHAWAGDYLNAGSPGSNGYGWCZNYGZAGGAWCZNYGZAGGABISNWCDPINABANHSABISNDCBNOYASGAAZNCQIPPCPZATYDDAUSADAGCPMAGPIWWAPZDPINACAZUSCYOYIPPAPIWWANCRCWCYGBDSGAZDAGIQASXZNYGZAAZLCMSAVNSYGGAWAPZHAGNYHACSXBISNBNGWABPZNCYZWANAWBDYGGCYZHAZANNASNGTCPZCGZYUSAGYPOIPPSAGBISNWIYRSGUSCOARISNGYVYAPUSCAPTYPBISNCBCYGANDAVCZZAWAPZHAWIPOCSNRAWAHNAGGCYNBZCPZCOCAGZUSADUSALYGYZASNUSYGIDDYOYZADCAPZNADCBINZAHAWCOFCWVNAUSADUSALYGYZASNCZZCNHGIDDYOYZCPZDCAPZNADCBINZAHAWCOFCWVNACOCAGZOADCWWAAZNYAPHABDSGCWIPWAAPOAWIWAPZGAGAPZYZBDSGTINZAPCFGYZCPZHIPOBCGBDSGDIPMZAWBGCWIPGYASNCHYGRACISWCHCWAAPLNYZRCYWBDINALIZNABCNHIPWCYGDATCYZAGZUSARAGIWWAYDDCYGAZLISGZAGLAPSTNCBBANGYHISOAWAPZGYTCYVDAWAPZLISGZAGLAPSZCBANDCBINZAHAWCOFCWVNAUSCBAYPAZCYGRAOANZCYPHALISGCLIYNAPZAPHSCAZCDINGRCISLNYGDCBINZAZISZAMNCPHACDAGZPVNAGAZNYAPHABDSGGONSZCPZBNITIPHWAPZOAGZPVNAGRAWAZYPGDIPMZAWBGBDAYPHCZIPPAWAPZHAONCYPZAHAHISZANLCPZHAGNLAGUSCCSOSPWINZADPCCRCWCYGIGNLANWCYGDAGYDAPOAPATSZBCGZNISVDAZDCYWWIVYDYZPAHIPPCCSOSPGYMPAAZDAGASDWIZBNITNTSZSPPIWOFSOFIZCDPINACCOCZCYZWIYUSYDAOFSOFIZCYGAZSPOFIGIPZISNWSNWSNCOAWIZCDPINACCBSNAWAPZOADCAZNYAPHABDSGNAPZNCPZHCPGWCOFCWVNAAZGAPZCPZAPWIYZISZAWIPWAYPOAPHYARCAPZAPHYGVYAPZZSPOISBSPBASBDSGTINZUSADABNAWYANCGNAWAPZCHYGRACGNAWAPZYDQCUSADUSAOFIGACSXRCDISGYAGHAWCTAPZNALIQIPGHIPOOAUSAOCAGZAZAXBDINIPGOAWQGZNADCYGGIPGWIPOCSNGAOCDWANSPYPGZCPZAZAXBDINIPGOAWQGZNACOCAGZDALAPZAZNYAPHABDSGCRABISGGCYCDINGDALIDAZAZCLAOSPZSWSDZSASXVCZZAWAPZHCCYDAGAPZNCSPWCRAGZSASXOINVACSHYMPAHAGCPOYAPGRISNGYDPATYZBCGDCWIYPHNANLNAPOAYDPAGCCNNZCBCGYDPCFGYZCBCGSPAWYPSZAWCYGCLAODCWYPAHCSPDINHISHCSPADCHQYDGABANOFCCSHAGGSGHADCBINZAHAWCOFCWVNAYDGABANOFCGSNSPVSGZAHABCDDCGRSGZACSHAGGSGHADCBINZAHAWCOFCWVNACYDGABANOFCGCYPGZCDDCAZNYAPHABDSGCDINGOAZIYGACSHCVPABCNDCMNCLYZHAGIPWCYPZYAPAZDCGLNYZHAGCBFQGYIPIWYAYPHSYGCPZWCZNYGZAYWCMYPCZYIPGISNYNACVYAPUSAZCZZACDSYHYGRACGIYZGCPGFSBBAAZGCPGOYWYANZSPCAGOANZAGBCGSPBIDZNIPDSMSVNAAZCPOYAPOINVACSLIQCMASNBCNZYHAGNYLCMAGHADCPSYZHYGWIYUSADAGZZIPPIWGAYMPASNYCDCSXNYLCMAGHADCPSYZBDSZIPYAPPACDAOINVACSHYZCRCWCYGBDSGCRATSGWANLAYDDUSAOAHYGMNCOYASXLIDCZYDAAPZAPHZGYTCOYDAWAPZDCBCNIDAVYAPUSAGCNBIPGAPCAZBCGSPVYAPMNCPHGAPGAZPAWATZBCGHCSPMNCPHGAOISNGOCNPISGHALIPGOIPLAPYNUSARCWCYGYDPATSZHIPPSPFIWWALYLCPZHALIYNSPIYGACSCSHAGGSGHADCBINZAHAGCOFCWVNASPIYGACSISSPAVZAGSNSPVSGZAGOSDBZCSHAGGSGHADCBINZAHAGCOFCWVNAGAPIWWCPZHCSPPIWZADUSARCWCYGBDSGWCYGDAOINVACSBANOFGIDYZCYNAWAPZGSNDAVSGZABDCOYHAPABNITNCUSAOAWIZSPYUSAOIWWAGYHCPGOAWIZSPYUSAYDNBCPHCYZZISZAGIPWAYDPABNIPIPCNYAPHABDSGYDPANAWSCBCGSPABDSWACRSGUSCOAUSARAWABNYGGAWSNWSNANTCYVDAWAPZCHCCSZNAGCWYGGAGIPZHRAPLIDGDIYPHAWIYLANGDAWCZYPDSYCSGGYYDWAUSYZZANCOIWWAWAGCPOYAPPAGAGBNCPOAGHRAPLIDAGCDCIYGACSHYZCDINGCRCWCYGBDSGCZNAGGCYDDCPZCSVNSYZHAOAZZANBIPGARAZACLAOZCPZHCBNIBIGCGCPGHISZACHYGRACOAUSCYDBNIPIPOAAGZZISZGIPVCMCMAHAGCLIYNUSCYDCBNYGOFAJUSADUSAWCZNAYPTINZSPUSADAWCDFASNYWBYZIQCVDACBISNGSYLYCNHAWWAPZGCPGNBYZRSGUSCOAUSAGAGOFCPGIPGPCASGGAPZBDSGUSCSPGASDNATNCYPRSGUSCOAUSADAHABNITSPHYGHAGIPAGBNCPOAAZBNYGOAWDCPOIDYUSANATNCYPRCWCYGRCWCYGBDSGWCYGDAOINVACSYPHSYGCPZAPOINAZISZAWCZNYGZAWAGISNYNARANISDCYZISZHAGSYZASPGYMAOISGGYPGAPTCOAHADCIYGACSAZHSVSGZAAZHADCBINZACDINGWCAPTIPCPZHCPGDALADISNGRAWCCBBDYUSCYAPOFCPANDAGYHAGCSXYHAGOFANOFCPZOAUSAOAZCSMSNCDIYGACSHAGCPOYAPGRISNGOAUSAOAZNYGZAHYGMNCOYASXGYPYGZNAWCYMNAAZCSMSNCDIYGACSHAGCPOYAPGRISNGLISDCYZTCYNAAPZAPHNAAPONICGGCPZGIPRCWCYGBDSGRAWAZAPCYGCYPGYNLCPZOIPRAOZSNCPZWCYGPCCHNAGGCPZBDSGSPAGQDDCVADCIYGACSHIPZDAGQASXCNHAPZGWAVNDCYAPZWCYPZAPCPZRSGUSCCSTIPHHSOCSNRAOFANOFCYGHALYPANOADCAZBDSGAPOINAWCZZANABIGCPZDCCYGAGSNDALADISNGHSOISGGYPUSAOCNAGGCYZDCDSWYNAHADCDCWBAOALADISNGLYIDAZOCNAGGBCNDCDSWYNAHADCDCWBAUSAGCZZAADDAPABNAGGANCBDSGCCFRCWCYGBDSGCDINGYDWAGAWVDCUSADCCYNGCBCYGGYGGCYZBCNTSWBCNSPAPOAPGIYNYPLYGYVDAUSAVCDCPCYAPZHAGGNCBFYPGHIPZDAGBCGTNDCYAPZDAZCBYGHADCOFCWVNACYPTINZSPCWCONYCYRACZIPHYASZCCHIPPBCNGAGCPMAGYDZCCAPLIQHSNBYZHSNBYZAZHSPBAPZFGHCPGZAGNAGGISLAPYNGHADPINAVIYGIFVIYGOAVIPPBAPZFGAZISVDYAOAZZADPINABANHSACDAOINVACSHYZCRCWCYGBDSGCCBNIBFZACHYGRACZNAHAWCDFASNIYGACSISHWIPWCYGZISRISNGBNIBFZAUSAZSGIYGSPAPLIQHSZAPZCZASNISUSADCZAWBZAZCCYZGYWBDAWAPZOFISPCSTNCMWCYGAPOINAYPZNBYHAGSNOAZZAZANNAHGANZAAPGINOADAHCPGOADIMYGBCNDCFINNASNFCPZCHYGWIYGYPONAWAPZRAZCAPGSBBDYAAXYGZAZYDAXYGZAZYDYOYSPVCSWAHARSHAHYGHYGRAZCAPGSBBDYACDAOINVACSHYZCRCWCYGBDSGCCBNIBFZACHYGRACZNAHAWCDFASNIYGACSISHWIPZISRISNGBNIBFZABCNOAOYADZAPHSGSNPIGZZAGBCNOAHYASUSAZISGHASXPISGCHINIPGHYGOAZZAWAOFCNMAHAHISDASNGYHCPGDABCNCHYGDIYPZCYPADDABISNNCAWVNCGGANSPATYDDAGCYPZAUSADAGCPMAGPIWWAPZDPINAAWVNCGGANSPABNOYASGAAZNCQIPPCPZATYDDAUSADAGCPMAGPIWWAPZDPINACDAOINVACSHYZCRCWCYGBDSGCCUSAOAZZABCNIDAGIYZDAGYMPCDHAPIZNAGBCNCZYIPIYGACSISHWIPCFSNDCYRAAPWANAHNAGGCPZCNAPZNAHCPGDCZAWBZANAZISNPACSNYLCMAHADCPSYZBDSZIPYAPPAPADCYGGABCGYOYSPAGASDABDSWAPIYNAOIWWAGISLAPYNHSWAPGIPMAUSAZIPWACBNITNDCYGGAWCGIDYZSHAYPLYIDAUSYZZAOAVSGZACSHAGGSGHAWCBINZACNNCOFAZIPVAOHAWIPOCSNAZBNOYBYZAZIPGBAOZNADIYPHAWCBINZACDAOINVACSHYZCRCWCYGBDSGCAZDAOINVACSYWWSCVDAAGZZISRISNGYPGZCDDZISRISNGYPGZCDDGSNDAVSGZABDAHABCDDCGRSGZACSHAGGSGHADCBINZAHAWCOFCWVNAAZGAGQASXIPZZISZADCGAWVDCPOAHAGQASXHCSPHWIPUSYNLAAZDCDSWYNAHADCDCWBAAPNSYGGADCPZGSNDSYBNIRAZZAGIPIWVNAGSNDABDCPOFANAZWIPWAFINGHSOANODAHAOAZZAIWVNAUSYMZTDIZZCPZAGSNDABDCPOFANPABISNNCBDSGGCDALANCRCWCYGBDSG\""
   ]
  },
  {
   "cell_type": "code",
   "execution_count": null,
   "metadata": {},
   "outputs": [],
   "source": [
    "attaquefreqaffine_dico(txt)"
   ]
  },
  {
   "cell_type": "markdown",
   "metadata": {},
   "source": [
    "<div style=\"border:3px solid black; padding:3%; font-size:314% ; text-align:center; color:white; background-color:black;\" id=\"PartieBonus\">\n",
    "    Bonus : Optimisation de l'attaque en brute force\n",
    "</div>\n",
    "<p>\n",
    "    <details>\n",
    "        <summary><strong style=\"font-size:1.414em;color:green;\">Menu de navigation</strong></summary>\n",
    "        <ul>\n",
    "            <li><a href=\"#haut2page\">Haut de page</a></li>\n",
    "            <li><a href=\"#Partie1\">Partie 1 : Outils arithmétiques</a></li>\n",
    "            <li><a href=\"#Partie2\">Partie 2 : Chiffrement affine</a></li>\n",
    "            <li><a href=\"#Partie3\">Partie 3 : Retour sur la brute force avec dictionnaire</a></li>\n",
    "            <li><a href=\"#Partie4\">Partie 4 : Attaque fréquentielle</a></li>\n",
    "            <li><a href=\"#Partie5\">Partie 5 : Attaque du fichier</a></li>\n",
    "            <li><a href=\"#Partie5\">Partie Bonus : Optimisation de l'attaque en brute force</a></li>\n",
    "        </ul>\n",
    "    </details>\n",
    "</p>\n",
    "\n",
    "<p>On peut optimiser l'attaque en brute force.\n",
    "<ul>\n",
    "    <li><b><code>clefa</code> ne peut pas être paire.</b> En effet, le modulo de base finissant, dans le cadre de ce TP, par un $6$ il ne sera jamais premier avec un nombre paire. En conséquence, au lieu de faire une boucle avec un incrément <code>clefa+=1</code> il peut être plus astucieux de faire <code>clefa+=2</code> en prenant garde de l'initialiser à $1$.</li>\n",
    "    <li><b><code>Daffine</code> fait appel à l'algorithme d'euclide étendu</b>. Si, pour une clef $(a, b)$, on note $C_{(a, b)}$ la fonction de chiffrement affine et $D_{(a, b)}$ la fonction de déchiffrement alors :\n",
    "    $$D_{(a, b)}(x)\\equiv a^{-1}(x-b)\\equiv a^{-1}x-a^{-1}b\\equiv C_{(a^{-1}, -a^{-1}b)}(x)$$\n",
    "    De plus l'application $inv:\\mathbb{Z}/n\\mathbb{Z}\\longrightarrow\\mathbb{Z}/n\\mathbb{Z}$, $a\\longmapsto a^{-1}$ est une bijection. De sorte que l'on peut faire des boucles, en réécrivant <code>Daffine</code> sans faire appel au calcul de l'inverse modulaire pour toutes les clefs.\n",
    "    </li>\n",
    "</ul>\n",
    "\n",
    "</p>"
   ]
  },
  {
   "cell_type": "code",
   "execution_count": null,
   "metadata": {},
   "outputs": [],
   "source": [
    "def BruteForceAffine_dico_2(txt, paq=1, dico=DICO_FR) : \n",
    "    try : \n",
    "        txt=str(txt)\n",
    "        paq=int(paq)\n",
    "    except :\n",
    "        print(\"L'attaque ne fonctionne pas\")\n",
    "        return\n",
    "    print(\"\\t-----------------------------\")\n",
    "    print(\"\\tBRUTE FORCE AVEC DICTIONNAIRE\")\n",
    "    print(\"\\t-----------------------------\\n\")\n",
    "    top=time.time()\n",
    "    \n",
    "    #Mettre votre code ici\n",
    "    \n",
    "    temps=time.time()-top\n",
    "    print(\"\\rLe dernier message semble être le bon\")\n",
    "    print(\"Attaque terminée (\"+str(round(temps, 3))+\"s)\")"
   ]
  },
  {
   "cell_type": "markdown",
   "metadata": {},
   "source": [
    "<h3>Tests</h3>"
   ]
  },
  {
   "cell_type": "code",
   "execution_count": null,
   "metadata": {},
   "outputs": [],
   "source": [
    "#le code suivant, qui avait couté plus de 200 secondes, ne devrait pas prendre plus de 10 secondes maintenant (sur un core i5).\n",
    "txt0=Filtre(\"Une poule sur un mur qui picore du pain dure... elle a rien de mieux à faire ? Nan mais sérieux là !\")\n",
    "clefa=2017\n",
    "clefb=1234\n",
    "paq=2\n",
    "txt1=Eaffine(txt0, clefa, clefb, paq)\n",
    "print(\"Message claire :\", txt0)\n",
    "print(\"Message à attaquer :\", txt1)\n",
    "BruteForceAffine_dico_2(txt1, paq, DICO_FR)"
   ]
  },
  {
   "cell_type": "code",
   "execution_count": null,
   "metadata": {},
   "outputs": [],
   "source": [
    "#Il s'agit du dernier exercice de la feuille de TD\n",
    "#N'exécutez pas cette case si le calcul précédent à mis plus de 10 secondes (à vos risques et périls)\n",
    "txt=\"50029-125229-237773-194389-55281-50645\"\n",
    "paq=3\n",
    "BruteForceAffine_dico_2(txt, paq, DICO_FR)"
   ]
  },
  {
   "cell_type": "code",
   "execution_count": null,
   "metadata": {},
   "outputs": [],
   "source": []
  }
 ],
 "metadata": {
  "kernelspec": {
   "display_name": "Python 3",
   "language": "python",
   "name": "python3"
  },
  "language_info": {
   "codemirror_mode": {
    "name": "ipython",
    "version": 3
   },
   "file_extension": ".py",
   "mimetype": "text/x-python",
   "name": "python",
   "nbconvert_exporter": "python",
   "pygments_lexer": "ipython3",
   "version": "3.6.2"
  }
 },
 "nbformat": 4,
 "nbformat_minor": 2
}
